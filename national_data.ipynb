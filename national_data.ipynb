{
 "cells": [
  {
   "cell_type": "code",
   "execution_count": 34,
   "metadata": {},
   "outputs": [
    {
     "data": {
      "text/plain": [
       "\"nationaldata_ls\""
      ]
     },
     "metadata": {},
     "output_type": "display_data"
    }
   ],
   "source": [
    "using CSV\n",
    "using JuMP.Containers\n",
    "\n",
    "# data_path = \"nationaldata_ls_julia\"\n",
    "data_path = \"nationaldata_ls\""
   ]
  },
  {
   "cell_type": "code",
   "execution_count": 35,
   "metadata": {},
   "outputs": [
    {
     "data": {
      "text/plain": [
       "\"c:\\\\Users\\\\Eli\\\\BoxSync\\\\CGE\\\\MPSGE-JL\\\\DissPaper-windc_national\""
      ]
     },
     "metadata": {},
     "output_type": "display_data"
    }
   ],
   "source": [
    "pwd()"
   ]
  },
  {
   "cell_type": "code",
   "execution_count": 36,
   "metadata": {},
   "outputs": [],
   "source": [
    "set_names = [   :m,\n",
    "                :va,\n",
    "                :j,\n",
    "                :fd,\n",
    "                :ts,\n",
    "                :yr,\n",
    "                :i\n",
    "            ];"
   ]
  },
  {
   "cell_type": "code",
   "execution_count": 37,
   "metadata": {},
   "outputs": [],
   "source": [
    "parm_names = [  (:a_0, (:yr, :i)),\n",
    "                (:tax_0, (:yr, :i)),\n",
    "                (:id_0, (:yr, :i, :j)),\n",
    "                (:ys_0, (:yr, :j, :i)),\n",
    "                (:ms_0, (:yr, :i, :m)),\n",
    "                (:x_0, (:yr, :i)),\n",
    "                (:s_0, (:yr, :i)),\n",
    "                (:fs_0, (:yr, :i)),\n",
    "                (:duty_0, (:yr, :i)),\n",
    "                (:trn_0, (:yr, :i)),\n",
    "                (:tm_0, (:yr, :i)),\n",
    "                (:va_0, (:yr, :va, :j)),\n",
    "                (:md_0, (:yr, :m, :i)),\n",
    "                (:fd_0, (:yr, :i, :fd)),\n",
    "                (:m_0, (:yr, :i)),\n",
    "                (:mrg_0, (:yr, :i)),\n",
    "                (:ty_0, (:yr, :j)),\n",
    "                (:bopdef_0, (:yr,)),\n",
    "                (:sbd_0, (:yr, :i)),\n",
    "                (:ta_0, (:yr, :i)),\n",
    "                (:y_0, (:yr, :i)),\n",
    "                (:ts_0, (:yr, :ts, :j))\n",
    "                ];"
   ]
  },
  {
   "cell_type": "code",
   "execution_count": 38,
   "metadata": {},
   "outputs": [],
   "source": [
    "S = Dict()\n",
    "for set in set_names\n",
    "    S[set] = [Symbol(a) for (a,b) in CSV.File(\"$data_path/$set.csv\",stringtype=String)]\n",
    "end"
   ]
  },
  {
   "cell_type": "code",
   "execution_count": 44,
   "metadata": {},
   "outputs": [
    {
     "data": {
      "text/plain": [
       "Dict{Any, Any} with 7 entries:\n",
       "  :m  => [:trn, :trd]\n",
       "  :va => [:othtax, :surplus, :compen]\n",
       "  :j  => [:ppd, :res, :com, :amb, :fbp, :rec, :con, :agr, :eec, :use  …  :wpd, …\n",
       "  :fd => [:fed_structures, :def_equipment, :changinv, :def_structures, :state_e…\n",
       "  :ts => [:taxes, :subsidies]\n",
       "  :yr => [Symbol(\"2008\"), Symbol(\"2009\"), Symbol(\"2005\"), Symbol(\"2006\"), Symbo…\n",
       "  :i  => [:ppd, :res, :com, :amb, :fbp, :rec, :con, :agr, :eec, :use  …  :wpd, …"
      ]
     },
     "metadata": {},
     "output_type": "display_data"
    }
   ],
   "source": [
    "S"
   ]
  },
  {
   "cell_type": "code",
   "execution_count": 39,
   "metadata": {},
   "outputs": [],
   "source": [
    "P = Dict()\n",
    "\n",
    "for (parm,parm_domain) in parm_names\n",
    "    X = DenseAxisArray{Float64}(undef,[S[elm] for elm in parm_domain]...)\n",
    "    fill!(X,0.0)\n",
    "\n",
    "    for row in CSV.File(\"$data_path/$parm.csv\",stringtype=String)\n",
    "        element = [Symbol(row[elm]) for elm in parm_domain]\n",
    "        X[element...] = row[:value]\n",
    "    end\n",
    "\n",
    "    P[parm] = X\n",
    "end"
   ]
  },
  {
   "cell_type": "code",
   "execution_count": 40,
   "metadata": {},
   "outputs": [
    {
     "data": {
      "text/plain": [
       "2-dimensional DenseAxisArray{Float64,2,...} with index sets:\n",
       "    Dimension 1, [Symbol(\"2008\"), Symbol(\"2009\"), Symbol(\"2005\"), Symbol(\"2006\"), Symbol(\"2012\"), Symbol(\"2014\"), Symbol(\"2013\"), Symbol(\"1999\"), Symbol(\"2002\"), Symbol(\"2017\")  …  Symbol(\"2015\"), Symbol(\"1998\"), Symbol(\"2004\"), Symbol(\"2000\"), Symbol(\"1997\"), Symbol(\"2007\"), Symbol(\"2010\"), Symbol(\"2003\"), Symbol(\"2011\"), Symbol(\"2001\")]\n",
       "    Dimension 2, [:ppd, :res, :com, :amb, :fbp, :rec, :con, :agr, :eec, :use  …  :wpd, :wht, :oth, :wrh, :ott, :che, :air, :mmf, :otr, :min]\n",
       "And data, a 21×73 Matrix{Float64}:\n",
       " 2.7    41.05   2.075  0.643  67.042  5.474  …  13.656  11.369  0.323  3.291\n",
       " 2.756  40.249  1.933  0.571  75.486  5.282     13.781  10.874  0.279  2.539\n",
       " 2.463  34.195  1.408  0.503  60.687  4.513     12.771  10.437  0.258  2.794\n",
       " 2.557  37.249  1.647  0.579  64.108  4.868     12.247  11.16   0.302  2.948\n",
       " 3.269  43.621  2.782  0.399  80.963  6.942     14.2    13.003  0.269  4.006\n",
       " 3.412  49.491  3.391  0.432  83.06   7.552  …  17.854  15.504  0.303  4.149\n",
       " 3.42   46.796  3.062  0.42   81.687  7.355     16.428  14.798  0.295  4.277\n",
       " 2.013  23.153  1.233  0.217  43.709  3.402      9.023   8.529  0.224  1.784\n",
       " 2.226  27.337  1.175  0.272  49.779  3.474     10.61    9.248  0.2    1.786\n",
       " 3.6    58.162  4.036  0.498  86.851  8.867     21.525  15.608  0.34   3.032\n",
       " ⋮                                    ⋮      ⋱           ⋮             \n",
       " 1.937  21.66   1.056  0.198  42.752  3.208      8.537   8.234  0.216  1.759\n",
       " 2.303  31.371  1.259  0.42   56.394  4.103     12.41   10.0    0.223  2.29\n",
       " 2.128  24.971  1.456  0.235  46.049  3.092     10.119   9.081  0.233  1.888\n",
       " 1.84   20.621  0.876  0.175  41.724  2.747  …   6.712   7.476  0.204  1.858\n",
       " 2.696  39.224  1.94   0.681  66.268  5.382     13.909  11.133  0.332  3.02\n",
       " 2.976  43.132  2.148  0.544  79.737  5.709     12.665  11.809  0.283  3.245\n",
       " 2.231  29.18   1.167  0.34   53.842  3.82      10.764   9.543  0.201  2.111\n",
       " 3.186  41.351  2.499  0.483  80.17   5.99      13.794  12.698  0.279  4.128\n",
       " 2.148  26.834  1.385  0.261  47.85   3.22   …   9.332   8.95   0.229  2.096"
      ]
     },
     "metadata": {},
     "output_type": "display_data"
    }
   ],
   "source": [
    "P[:tax_0]"
   ]
  },
  {
   "cell_type": "code",
   "execution_count": 41,
   "metadata": {},
   "outputs": [],
   "source": [
    "using FileIO\n"
   ]
  },
  {
   "cell_type": "code",
   "execution_count": 45,
   "metadata": {},
   "outputs": [],
   "source": [
    "save(\"C://Users/Eli/BoxSync/CGE/MPSGE-JL/DissPaper-windc_national/nationaldata_ls/DAAData.jld2\", \"data\", P)\n",
    "save(\"C://Users/Eli/BoxSync/CGE/MPSGE-JL/DissPaper-windc_national/nationaldata_ls/Indices.jld2\", \"data\", S)\n"
   ]
  },
  {
   "cell_type": "code",
   "execution_count": 43,
   "metadata": {},
   "outputs": [],
   "source": []
  }
 ],
 "metadata": {
  "kernelspec": {
   "display_name": "Julia 1.9.2",
   "language": "julia",
   "name": "julia-1.9"
  },
  "language_info": {
   "file_extension": ".jl",
   "mimetype": "application/julia",
   "name": "julia",
   "version": "1.9.2"
  },
  "orig_nbformat": 4
 },
 "nbformat": 4,
 "nbformat_minor": 2
}
