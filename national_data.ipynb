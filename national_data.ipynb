{
 "cells": [
  {
   "cell_type": "code",
   "execution_count": null,
   "metadata": {},
   "outputs": [],
   "source": [
    "# import Pkg\n",
    "# Pkg.add(\"FileIO\")"
   ]
  },
  {
   "cell_type": "code",
   "execution_count": 6,
   "metadata": {},
   "outputs": [
    {
     "data": {
      "text/plain": [
       "\"data/national_ls\""
      ]
     },
     "metadata": {},
     "output_type": "display_data"
    }
   ],
   "source": [
    "using CSV, FileIO\n",
    "using JuMP.Containers\n",
    "cd(@__DIR__)\n",
    "# data_path = \"nationaldata_ls_julia\"\n",
    "data_path = \"data/national_ls\""
   ]
  },
  {
   "cell_type": "code",
   "execution_count": 7,
   "metadata": {},
   "outputs": [
    {
     "data": {
      "text/plain": [
       "\"c:\\\\Users\\\\Eli\\\\GitFolders\\\\WiNnat_model\""
      ]
     },
     "metadata": {},
     "output_type": "display_data"
    }
   ],
   "source": [
    "pwd()"
   ]
  },
  {
   "cell_type": "code",
   "execution_count": 8,
   "metadata": {},
   "outputs": [],
   "source": [
    "set_names = [   :m,\n",
    "                :va,\n",
    "                :j,\n",
    "                :fd,\n",
    "                :ts,\n",
    "                :yr,\n",
    "                :i\n",
    "            ];"
   ]
  },
  {
   "cell_type": "code",
   "execution_count": 44,
   "metadata": {},
   "outputs": [
    {
     "name": "stdout",
     "output_type": "stream",
     "text": [
      "m\n"
     ]
    },
    {
     "name": "stdout",
     "output_type": "stream",
     "text": [
      "va\n",
      "j\n",
      "fd\n",
      "ts\n",
      "yr\n",
      "i\n"
     ]
    }
   ],
   "source": [
    "S = Dict()\n",
    "for set in set_names\n",
    "    println(set)\n",
    "    S[set] = [Symbol(a) for (a,b) in CSV.File(\"$data_path/$set.csv\",stringtype=String)]\n",
    "end"
   ]
  },
  {
   "cell_type": "code",
   "execution_count": 48,
   "metadata": {},
   "outputs": [
    {
     "data": {
      "text/plain": [
       "25-element Vector{Symbol}:\n",
       " Symbol(\"1997\")\n",
       " Symbol(\"1998\")\n",
       " Symbol(\"1999\")\n",
       " Symbol(\"2000\")\n",
       " Symbol(\"2001\")\n",
       " Symbol(\"2002\")\n",
       " Symbol(\"2003\")\n",
       " Symbol(\"2004\")\n",
       " Symbol(\"2005\")\n",
       " Symbol(\"2006\")\n",
       " ⋮\n",
       " Symbol(\"2013\")\n",
       " Symbol(\"2014\")\n",
       " Symbol(\"2015\")\n",
       " Symbol(\"2016\")\n",
       " Symbol(\"2017\")\n",
       " Symbol(\"2018\")\n",
       " Symbol(\"2019\")\n",
       " Symbol(\"2020\")\n",
       " Symbol(\"2021\")"
      ]
     },
     "metadata": {},
     "output_type": "display_data"
    }
   ],
   "source": [
    "S[:yr]"
   ]
  },
  {
   "cell_type": "code",
   "execution_count": 49,
   "metadata": {},
   "outputs": [],
   "source": [
    "parm_names = [  (:a_0, (:yr, :i)),\n",
    "                # (:tax_0, (:yr, :i)), Not in this model\n",
    "                (:id_0, (:yr, :i, :j)),\n",
    "                (:ys_0, (:yr, :j, :i)),\n",
    "                (:ms_0, (:yr, :i, :m)),\n",
    "                (:x_0, (:yr, :i)),\n",
    "                (:s_0, (:yr, :i)),\n",
    "                (:fs_0, (:yr, :i)),\n",
    "                # (:duty_0, (:yr, :i)), Not in this model\n",
    "                # (:trn_0, (:yr, :i)), Not in this model\n",
    "                (:tm_0, (:yr, :i)),\n",
    "                (:va_0, (:yr, :va, :j)),\n",
    "                (:md_0, (:yr, :m, :i)),\n",
    "                (:fd_0, (:yr, :i, :fd)),\n",
    "                (:m_0, (:yr, :i)),\n",
    "                # (:mrg_0, (:yr, :i)), Not in this model\n",
    "                (:ty_0, (:yr, :j)),\n",
    "                (:bopdef_0, (:yr,)),\n",
    "                # (:sbd_0, (:yr, :i)), Not in this model\n",
    "                (:ta_0, (:yr, :i)),\n",
    "                (:y_0, (:yr, :i)),\n",
    "                # (:ts_0, (:yr, :ts, :j)) Not in this model\n",
    "                ];"
   ]
  },
  {
   "cell_type": "code",
   "execution_count": 12,
   "metadata": {},
   "outputs": [
    {
     "name": "stdout",
     "output_type": "stream",
     "text": [
      "a_0\n"
     ]
    },
    {
     "name": "stdout",
     "output_type": "stream",
     "text": [
      "id_0\n"
     ]
    },
    {
     "name": "stdout",
     "output_type": "stream",
     "text": [
      "ys_0\n"
     ]
    },
    {
     "name": "stdout",
     "output_type": "stream",
     "text": [
      "ms_0\n",
      "x_0\n",
      "s_0\n"
     ]
    },
    {
     "name": "stdout",
     "output_type": "stream",
     "text": [
      "fs_0\n",
      "tm_0\n",
      "va_0\n"
     ]
    },
    {
     "name": "stdout",
     "output_type": "stream",
     "text": [
      "md_0\n",
      "fd_0\n"
     ]
    },
    {
     "name": "stdout",
     "output_type": "stream",
     "text": [
      "m_0\n",
      "ty_0\n"
     ]
    },
    {
     "name": "stdout",
     "output_type": "stream",
     "text": [
      "bopdef_0\n",
      "ta_0\n",
      "y_0"
     ]
    },
    {
     "name": "stdout",
     "output_type": "stream",
     "text": [
      "\n"
     ]
    }
   ],
   "source": [
    "P = Dict()\n",
    "\n",
    "for (parm,parm_domain) in parm_names\n",
    "    X = DenseAxisArray{Float64}(undef,[S[elm] for elm in parm_domain]...)\n",
    "    fill!(X,0.0)\n",
    "println(\"$parm\")\n",
    "    for row in CSV.File(\"$data_path/$parm.csv\",stringtype=String)\n",
    "        element = [Symbol(row[elm]) for elm in parm_domain]\n",
    "        X[element...] = row[:value]\n",
    "    end\n",
    "\n",
    "    P[parm] = X\n",
    "end"
   ]
  },
  {
   "cell_type": "code",
   "execution_count": 13,
   "metadata": {},
   "outputs": [],
   "source": [
    "save(\"./national_ls/DAAData.jld2\", \"data\", P)\n",
    "save(\"./national_ls/Indices.jld2\", \"data\", S)\n"
   ]
  }
 ],
 "metadata": {
  "kernelspec": {
   "display_name": "Julia 1.9.4",
   "language": "julia",
   "name": "julia-1.9"
  },
  "language_info": {
   "file_extension": ".jl",
   "mimetype": "application/julia",
   "name": "julia",
   "version": "1.9.4"
  },
  "orig_nbformat": 4
 },
 "nbformat": 4,
 "nbformat_minor": 2
}
