{
 "cells": [
  {
   "cell_type": "code",
   "execution_count": 6,
   "metadata": {},
   "outputs": [],
   "source": [
    "using DataFrames\n",
    "using CSV"
   ]
  },
  {
   "cell_type": "code",
   "execution_count": 8,
   "metadata": {},
   "outputs": [
    {
     "data": {
      "text/plain": [
       "mean (generic function with 1 method)"
      ]
     },
     "metadata": {},
     "output_type": "display_data"
    }
   ],
   "source": [
    "function mean(x)\n",
    "    sum(x)/length(x)\n",
    "end"
   ]
  },
  {
   "cell_type": "markdown",
   "metadata": {},
   "source": [
    "# Load MPSGE Solutions"
   ]
  },
  {
   "cell_type": "code",
   "execution_count": 38,
   "metadata": {},
   "outputs": [],
   "source": [
    "file_name = \"FullReportCounter\"\n",
    "\n",
    "replace_dict = Dict(\n",
    "    \"Y\" => [r\"^Y\\[\\(:(\\w{3}),\\)]\", s\"\\1\"],\n",
    "    \"A\" => [r\"^A\\[\\(:(\\w{3}),\\)]\", s\"\\1\"],\n",
    "    \"MS\" => [r\"^MS\\[\\(:(\\w{3}),\\)]\", s\"\\1\"],\n",
    "    \"PA\" => [r\"^PA\\[\\(:(\\w{3}),\\)]\", s\"\\1\"],\n",
    "    \"PY\" => [r\"^PY\\[\\(:(\\w{3}),\\)]\", s\"\\1\"],\n",
    "    \"PVA\" => [r\"^PVA\\[\\(:(\\w{6,7}),\\)]\", s\"\\1\"],\n",
    "    \"PM\" => [r\"^PM\\[\\(:(\\w{3}),\\)]\", s\"\\1\"],\n",
    "    \"PFX\" => [r\"^PFX\", s\"\"],\n",
    "    \"RA\" => [r\"^RA\", s\"\"],\n",
    "    );\n",
    "\n",
    "d = DataFrame(CSV.File(\"./Results/\"*file_name*\".csv\",stringtype=String)) |>\n",
    "    x -> transform(x, :margin => (y -> ifelse.(y.==\".\",\"0\",y)) => :margin) |>\n",
    "    x -> transform(x, :margin => (y -> parse.(Float64,y))=>:margin);\n",
    "\n",
    "\n",
    "df_mpsge = DataFrame()\n",
    "\n",
    "for (var,(reg,sub)) in replace_dict\n",
    "    df_ = d |>\n",
    "        x-> filter(:var_name => y -> occursin.(reg ,y),x) |>\n",
    "        x -> transform(x,\n",
    "            :var_name => (y -> replace.(y, reg => sub)) => :domain,\n",
    "            :var_name => (y -> var) => :var\n",
    "        ) |>\n",
    "        x -> select(x, [:var_name,:var,:domain,:value,:margin])\n",
    "    \n",
    "    df_mpsge = vcat(df_mpsge,df_)\n",
    "end\n",
    "\n",
    "df_mpsge = df_mpsge |>\n",
    "    x -> select(x, [:var, :domain, :value]);"
   ]
  },
  {
   "cell_type": "markdown",
   "metadata": {},
   "source": [
    "# Create comparison dataframe"
   ]
  },
  {
   "cell_type": "code",
   "execution_count": 39,
   "metadata": {},
   "outputs": [
    {
     "data": {
      "text/html": [
       "<div><div style = \"float: left;\"><span>401×3 DataFrame</span></div><div style = \"float: right;\"><span style = \"font-style: italic;\">376 rows omitted</span></div><div style = \"clear: both;\"></div></div><div class = \"data-frame\" style = \"overflow-x: scroll;\"><table class = \"data-frame\" style = \"margin-bottom: 6px;\"><thead><tr class = \"header\"><th class = \"rowNumber\" style = \"font-weight: bold; text-align: right;\">Row</th><th style = \"text-align: left;\">var</th><th style = \"text-align: left;\">domain</th><th style = \"text-align: left;\">value</th></tr><tr class = \"subheader headerLastRow\"><th class = \"rowNumber\" style = \"font-weight: bold; text-align: right;\"></th><th title = \"String\" style = \"text-align: left;\">String</th><th title = \"String\" style = \"text-align: left;\">String</th><th title = \"Float64\" style = \"text-align: left;\">Float64</th></tr></thead><tbody><tr><td class = \"rowNumber\" style = \"font-weight: bold; text-align: right;\">1</td><td style = \"text-align: left;\">Y</td><td style = \"text-align: left;\">ppd</td><td style = \"text-align: right;\">1.0188</td></tr><tr><td class = \"rowNumber\" style = \"font-weight: bold; text-align: right;\">2</td><td style = \"text-align: left;\">Y</td><td style = \"text-align: left;\">res</td><td style = \"text-align: right;\">1.03916</td></tr><tr><td class = \"rowNumber\" style = \"font-weight: bold; text-align: right;\">3</td><td style = \"text-align: left;\">Y</td><td style = \"text-align: left;\">com</td><td style = \"text-align: right;\">0.99922</td></tr><tr><td class = \"rowNumber\" style = \"font-weight: bold; text-align: right;\">4</td><td style = \"text-align: left;\">Y</td><td style = \"text-align: left;\">amb</td><td style = \"text-align: right;\">0.969242</td></tr><tr><td class = \"rowNumber\" style = \"font-weight: bold; text-align: right;\">5</td><td style = \"text-align: left;\">Y</td><td style = \"text-align: left;\">fbp</td><td style = \"text-align: right;\">1.04402</td></tr><tr><td class = \"rowNumber\" style = \"font-weight: bold; text-align: right;\">6</td><td style = \"text-align: left;\">Y</td><td style = \"text-align: left;\">rec</td><td style = \"text-align: right;\">1.02558</td></tr><tr><td class = \"rowNumber\" style = \"font-weight: bold; text-align: right;\">7</td><td style = \"text-align: left;\">Y</td><td style = \"text-align: left;\">con</td><td style = \"text-align: right;\">0.998728</td></tr><tr><td class = \"rowNumber\" style = \"font-weight: bold; text-align: right;\">8</td><td style = \"text-align: left;\">Y</td><td style = \"text-align: left;\">agr</td><td style = \"text-align: right;\">1.02651</td></tr><tr><td class = \"rowNumber\" style = \"font-weight: bold; text-align: right;\">9</td><td style = \"text-align: left;\">Y</td><td style = \"text-align: left;\">eec</td><td style = \"text-align: right;\">0.993423</td></tr><tr><td class = \"rowNumber\" style = \"font-weight: bold; text-align: right;\">10</td><td style = \"text-align: left;\">Y</td><td style = \"text-align: left;\">fnd</td><td style = \"text-align: right;\">1.0</td></tr><tr><td class = \"rowNumber\" style = \"font-weight: bold; text-align: right;\">11</td><td style = \"text-align: left;\">Y</td><td style = \"text-align: left;\">pub</td><td style = \"text-align: right;\">0.995048</td></tr><tr><td class = \"rowNumber\" style = \"font-weight: bold; text-align: right;\">12</td><td style = \"text-align: left;\">Y</td><td style = \"text-align: left;\">hou</td><td style = \"text-align: right;\">0.946703</td></tr><tr><td class = \"rowNumber\" style = \"font-weight: bold; text-align: right;\">13</td><td style = \"text-align: left;\">Y</td><td style = \"text-align: left;\">fbt</td><td style = \"text-align: right;\">1.02333</td></tr><tr><td style = \"text-align: right;\">&vellip;</td><td style = \"text-align: right;\">&vellip;</td><td style = \"text-align: right;\">&vellip;</td><td style = \"text-align: right;\">&vellip;</td></tr><tr><td class = \"rowNumber\" style = \"font-weight: bold; text-align: right;\">390</td><td style = \"text-align: left;\">PA</td><td style = \"text-align: left;\">wtt</td><td style = \"text-align: right;\">0.9475</td></tr><tr><td class = \"rowNumber\" style = \"font-weight: bold; text-align: right;\">391</td><td style = \"text-align: left;\">PA</td><td style = \"text-align: left;\">wpd</td><td style = \"text-align: right;\">0.944992</td></tr><tr><td class = \"rowNumber\" style = \"font-weight: bold; text-align: right;\">392</td><td style = \"text-align: left;\">PA</td><td style = \"text-align: left;\">wht</td><td style = \"text-align: right;\">0.975015</td></tr><tr><td class = \"rowNumber\" style = \"font-weight: bold; text-align: right;\">393</td><td style = \"text-align: left;\">PA</td><td style = \"text-align: left;\">wrh</td><td style = \"text-align: right;\">0.968571</td></tr><tr><td class = \"rowNumber\" style = \"font-weight: bold; text-align: right;\">394</td><td style = \"text-align: left;\">PA</td><td style = \"text-align: left;\">ott</td><td style = \"text-align: right;\">0.975258</td></tr><tr><td class = \"rowNumber\" style = \"font-weight: bold; text-align: right;\">395</td><td style = \"text-align: left;\">PA</td><td style = \"text-align: left;\">che</td><td style = \"text-align: right;\">0.944644</td></tr><tr><td class = \"rowNumber\" style = \"font-weight: bold; text-align: right;\">396</td><td style = \"text-align: left;\">PA</td><td style = \"text-align: left;\">air</td><td style = \"text-align: right;\">0.854371</td></tr><tr><td class = \"rowNumber\" style = \"font-weight: bold; text-align: right;\">397</td><td style = \"text-align: left;\">PA</td><td style = \"text-align: left;\">mmf</td><td style = \"text-align: right;\">0.933638</td></tr><tr><td class = \"rowNumber\" style = \"font-weight: bold; text-align: right;\">398</td><td style = \"text-align: left;\">PA</td><td style = \"text-align: left;\">otr</td><td style = \"text-align: right;\">0.960961</td></tr><tr><td class = \"rowNumber\" style = \"font-weight: bold; text-align: right;\">399</td><td style = \"text-align: left;\">PA</td><td style = \"text-align: left;\">min</td><td style = \"text-align: right;\">0.9334</td></tr><tr><td class = \"rowNumber\" style = \"font-weight: bold; text-align: right;\">400</td><td style = \"text-align: left;\">MS</td><td style = \"text-align: left;\">trn</td><td style = \"text-align: right;\">1.02748</td></tr><tr><td class = \"rowNumber\" style = \"font-weight: bold; text-align: right;\">401</td><td style = \"text-align: left;\">MS</td><td style = \"text-align: left;\">trd</td><td style = \"text-align: right;\">1.02279</td></tr></tbody></table></div>"
      ],
      "text/latex": [
       "\\begin{tabular}{r|ccc}\n",
       "\t& var & domain & value\\\\\n",
       "\t\\hline\n",
       "\t& String & String & Float64\\\\\n",
       "\t\\hline\n",
       "\t1 & Y & ppd & 1.0188 \\\\\n",
       "\t2 & Y & res & 1.03916 \\\\\n",
       "\t3 & Y & com & 0.99922 \\\\\n",
       "\t4 & Y & amb & 0.969242 \\\\\n",
       "\t5 & Y & fbp & 1.04402 \\\\\n",
       "\t6 & Y & rec & 1.02558 \\\\\n",
       "\t7 & Y & con & 0.998728 \\\\\n",
       "\t8 & Y & agr & 1.02651 \\\\\n",
       "\t9 & Y & eec & 0.993423 \\\\\n",
       "\t10 & Y & fnd & 1.0 \\\\\n",
       "\t11 & Y & pub & 0.995048 \\\\\n",
       "\t12 & Y & hou & 0.946703 \\\\\n",
       "\t13 & Y & fbt & 1.02333 \\\\\n",
       "\t14 & Y & ins & 0.995267 \\\\\n",
       "\t15 & Y & tex & 0.987751 \\\\\n",
       "\t16 & Y & leg & 1.00528 \\\\\n",
       "\t17 & Y & fen & 1.00421 \\\\\n",
       "\t18 & Y & uti & 1.02815 \\\\\n",
       "\t19 & Y & nmp & 0.997669 \\\\\n",
       "\t20 & Y & brd & 1.02315 \\\\\n",
       "\t21 & Y & bnk & 0.981981 \\\\\n",
       "\t22 & Y & ore & 1.00434 \\\\\n",
       "\t23 & Y & edu & 0.961326 \\\\\n",
       "\t24 & Y & ote & 1.00279 \\\\\n",
       "\t$\\dots$ & $\\dots$ & $\\dots$ & $\\dots$ \\\\\n",
       "\\end{tabular}\n"
      ],
      "text/plain": [
       "\u001b[1m401×3 DataFrame\u001b[0m\n",
       "\u001b[1m Row \u001b[0m│\u001b[1m var    \u001b[0m\u001b[1m domain \u001b[0m\u001b[1m value    \u001b[0m\n",
       "     │\u001b[90m String \u001b[0m\u001b[90m String \u001b[0m\u001b[90m Float64  \u001b[0m\n",
       "─────┼──────────────────────────\n",
       "   1 │ Y       ppd     1.0188\n",
       "   2 │ Y       res     1.03916\n",
       "   3 │ Y       com     0.99922\n",
       "   4 │ Y       amb     0.969242\n",
       "   5 │ Y       fbp     1.04402\n",
       "   6 │ Y       rec     1.02558\n",
       "   7 │ Y       con     0.998728\n",
       "   8 │ Y       agr     1.02651\n",
       "  ⋮  │   ⋮       ⋮        ⋮\n",
       " 395 │ PA      che     0.944644\n",
       " 396 │ PA      air     0.854371\n",
       " 397 │ PA      mmf     0.933638\n",
       " 398 │ PA      otr     0.960961\n",
       " 399 │ PA      min     0.9334\n",
       " 400 │ MS      trn     1.02748\n",
       " 401 │ MS      trd     1.02279\n",
       "\u001b[36m                386 rows omitted\u001b[0m"
      ]
     },
     "metadata": {},
     "output_type": "display_data"
    }
   ],
   "source": [
    "df_mpsge"
   ]
  },
  {
   "cell_type": "code",
   "execution_count": 27,
   "metadata": {},
   "outputs": [
    {
     "data": {
      "text/html": [
       "<div><div style = \"float: left;\"><span>404×6 DataFrame</span></div><div style = \"float: right;\"><span style = \"font-style: italic;\">379 rows omitted</span></div><div style = \"clear: both;\"></div></div><div class = \"data-frame\" style = \"overflow-x: scroll;\"><table class = \"data-frame\" style = \"margin-bottom: 6px;\"><thead><tr class = \"header\"><th class = \"rowNumber\" style = \"font-weight: bold; text-align: right;\">Row</th><th style = \"text-align: left;\">var</th><th style = \"text-align: left;\">domain</th><th style = \"text-align: left;\">julia_mpsge</th><th style = \"text-align: left;\">julia_mcp</th><th style = \"text-align: left;\">gams</th><th style = \"text-align: left;\">diff</th></tr><tr class = \"subheader headerLastRow\"><th class = \"rowNumber\" style = \"font-weight: bold; text-align: right;\"></th><th title = \"String\" style = \"text-align: left;\">String</th><th title = \"String\" style = \"text-align: left;\">String</th><th title = \"Union{Missing, Float64}\" style = \"text-align: left;\">Float64?</th><th title = \"Union{Missing, Float64}\" style = \"text-align: left;\">Float64?</th><th title = \"Union{Missing, Float64}\" style = \"text-align: left;\">Float64?</th><th title = \"Union{Missing, Float64}\" style = \"text-align: left;\">Float64?</th></tr></thead><tbody><tr><td class = \"rowNumber\" style = \"font-weight: bold; text-align: right;\">1</td><td style = \"text-align: left;\">PA</td><td style = \"text-align: left;\">fbt</td><td style = \"font-style: italic; text-align: right;\">missing</td><td style = \"text-align: right;\">0.0</td><td style = \"text-align: right;\">1.0</td><td style = \"font-style: italic; text-align: right;\">missing</td></tr><tr><td class = \"rowNumber\" style = \"font-weight: bold; text-align: right;\">2</td><td style = \"text-align: left;\">PA</td><td style = \"text-align: left;\">mvt</td><td style = \"font-style: italic; text-align: right;\">missing</td><td style = \"text-align: right;\">0.0</td><td style = \"text-align: right;\">1.0</td><td style = \"font-style: italic; text-align: right;\">missing</td></tr><tr><td class = \"rowNumber\" style = \"font-weight: bold; text-align: right;\">3</td><td style = \"text-align: left;\">PA</td><td style = \"text-align: left;\">gmt</td><td style = \"font-style: italic; text-align: right;\">missing</td><td style = \"text-align: right;\">0.0</td><td style = \"text-align: right;\">1.0</td><td style = \"font-style: italic; text-align: right;\">missing</td></tr><tr><td class = \"rowNumber\" style = \"font-weight: bold; text-align: right;\">4</td><td style = \"text-align: left;\">RA</td><td style = \"text-align: left;\"></td><td style = \"text-align: right;\">12453.9</td><td style = \"font-style: italic; text-align: right;\">missing</td><td style = \"font-style: italic; text-align: right;\">missing</td><td style = \"font-style: italic; text-align: right;\">missing</td></tr><tr><td class = \"rowNumber\" style = \"font-weight: bold; text-align: right;\">5</td><td style = \"text-align: left;\">PFX</td><td style = \"text-align: left;\"></td><td style = \"text-align: right;\">0.97386</td><td style = \"font-style: italic; text-align: right;\">missing</td><td style = \"font-style: italic; text-align: right;\">missing</td><td style = \"font-style: italic; text-align: right;\">missing</td></tr><tr><td class = \"rowNumber\" style = \"font-weight: bold; text-align: right;\">6</td><td style = \"text-align: left;\">PFX</td><td style = \"text-align: left;\">‡A[ppd]</td><td style = \"text-align: right;\">25.2364</td><td style = \"font-style: italic; text-align: right;\">missing</td><td style = \"font-style: italic; text-align: right;\">missing</td><td style = \"font-style: italic; text-align: right;\">missing</td></tr><tr><td class = \"rowNumber\" style = \"font-weight: bold; text-align: right;\">7</td><td style = \"text-align: left;\">PFX</td><td style = \"text-align: left;\">‡A[res]</td><td style = \"text-align: right;\">2.73798</td><td style = \"font-style: italic; text-align: right;\">missing</td><td style = \"font-style: italic; text-align: right;\">missing</td><td style = \"font-style: italic; text-align: right;\">missing</td></tr><tr><td class = \"rowNumber\" style = \"font-weight: bold; text-align: right;\">8</td><td style = \"text-align: left;\">PFX</td><td style = \"text-align: left;\">‡A[com]</td><td style = \"text-align: right;\">30.0287</td><td style = \"font-style: italic; text-align: right;\">missing</td><td style = \"font-style: italic; text-align: right;\">missing</td><td style = \"font-style: italic; text-align: right;\">missing</td></tr><tr><td class = \"rowNumber\" style = \"font-weight: bold; text-align: right;\">9</td><td style = \"text-align: left;\">PFX</td><td style = \"text-align: left;\">‡A[amb]</td><td style = \"text-align: right;\">0.0863405</td><td style = \"font-style: italic; text-align: right;\">missing</td><td style = \"font-style: italic; text-align: right;\">missing</td><td style = \"font-style: italic; text-align: right;\">missing</td></tr><tr><td class = \"rowNumber\" style = \"font-weight: bold; text-align: right;\">10</td><td style = \"text-align: left;\">PFX</td><td style = \"text-align: left;\">‡A[fbp]</td><td style = \"text-align: right;\">78.9049</td><td style = \"font-style: italic; text-align: right;\">missing</td><td style = \"font-style: italic; text-align: right;\">missing</td><td style = \"font-style: italic; text-align: right;\">missing</td></tr><tr><td class = \"rowNumber\" style = \"font-weight: bold; text-align: right;\">11</td><td style = \"text-align: left;\">PFX</td><td style = \"text-align: left;\">‡A[rec]</td><td style = \"text-align: right;\">0.0</td><td style = \"font-style: italic; text-align: right;\">missing</td><td style = \"font-style: italic; text-align: right;\">missing</td><td style = \"font-style: italic; text-align: right;\">missing</td></tr><tr><td class = \"rowNumber\" style = \"font-weight: bold; text-align: right;\">12</td><td style = \"text-align: left;\">PFX</td><td style = \"text-align: left;\">‡A[con]</td><td style = \"text-align: right;\">0.101232</td><td style = \"font-style: italic; text-align: right;\">missing</td><td style = \"font-style: italic; text-align: right;\">missing</td><td style = \"font-style: italic; text-align: right;\">missing</td></tr><tr><td class = \"rowNumber\" style = \"font-weight: bold; text-align: right;\">13</td><td style = \"text-align: left;\">PFX</td><td style = \"text-align: left;\">‡A[agr]</td><td style = \"text-align: right;\">62.5008</td><td style = \"font-style: italic; text-align: right;\">missing</td><td style = \"font-style: italic; text-align: right;\">missing</td><td style = \"font-style: italic; text-align: right;\">missing</td></tr><tr><td style = \"text-align: right;\">&vellip;</td><td style = \"text-align: right;\">&vellip;</td><td style = \"text-align: right;\">&vellip;</td><td style = \"text-align: right;\">&vellip;</td><td style = \"text-align: right;\">&vellip;</td><td style = \"text-align: right;\">&vellip;</td><td style = \"text-align: right;\">&vellip;</td></tr><tr><td class = \"rowNumber\" style = \"font-weight: bold; text-align: right;\">393</td><td style = \"text-align: left;\">PY</td><td style = \"text-align: left;\">che</td><td style = \"text-align: right;\">0.96177</td><td style = \"text-align: right;\">0.96177</td><td style = \"text-align: right;\">0.96177</td><td style = \"text-align: right;\">1.50335e-10</td></tr><tr><td class = \"rowNumber\" style = \"font-weight: bold; text-align: right;\">394</td><td style = \"text-align: left;\">PA</td><td style = \"text-align: left;\">fen</td><td style = \"text-align: right;\">0.977487</td><td style = \"text-align: right;\">0.977487</td><td style = \"text-align: right;\">0.977487</td><td style = \"text-align: right;\">3.18706e-11</td></tr><tr><td class = \"rowNumber\" style = \"font-weight: bold; text-align: right;\">395</td><td style = \"text-align: left;\">A</td><td style = \"text-align: left;\">mch</td><td style = \"text-align: right;\">1.00647</td><td style = \"text-align: right;\">1.00647</td><td style = \"text-align: right;\">1.00647</td><td style = \"text-align: right;\">5.85265e-12</td></tr><tr><td class = \"rowNumber\" style = \"font-weight: bold; text-align: right;\">396</td><td style = \"text-align: left;\">Y</td><td style = \"text-align: left;\">fnd</td><td style = \"text-align: right;\">1.0</td><td style = \"text-align: right;\">1.0</td><td style = \"text-align: right;\">1.0</td><td style = \"text-align: right;\">1.11022e-16</td></tr><tr><td class = \"rowNumber\" style = \"font-weight: bold; text-align: right;\">397</td><td style = \"text-align: left;\">Y</td><td style = \"text-align: left;\">slg</td><td style = \"text-align: right;\">1.0</td><td style = \"text-align: right;\">1.0</td><td style = \"text-align: right;\">1.0</td><td style = \"text-align: right;\">0.0</td></tr><tr><td class = \"rowNumber\" style = \"font-weight: bold; text-align: right;\">398</td><td style = \"text-align: left;\">Y</td><td style = \"text-align: left;\">fdd</td><td style = \"text-align: right;\">1.0</td><td style = \"text-align: right;\">1.0</td><td style = \"text-align: right;\">1.0</td><td style = \"text-align: right;\">0.0</td></tr><tr><td class = \"rowNumber\" style = \"font-weight: bold; text-align: right;\">399</td><td style = \"text-align: left;\">A</td><td style = \"text-align: left;\">fnd</td><td style = \"text-align: right;\">1.0</td><td style = \"text-align: right;\">1.0</td><td style = \"text-align: right;\">1.0</td><td style = \"text-align: right;\">0.0</td></tr><tr><td class = \"rowNumber\" style = \"font-weight: bold; text-align: right;\">400</td><td style = \"text-align: left;\">A</td><td style = \"text-align: left;\">fbt</td><td style = \"text-align: right;\">0.0</td><td style = \"text-align: right;\">0.0</td><td style = \"text-align: right;\">1.0</td><td style = \"text-align: right;\">0.0</td></tr><tr><td class = \"rowNumber\" style = \"font-weight: bold; text-align: right;\">401</td><td style = \"text-align: left;\">A</td><td style = \"text-align: left;\">slg</td><td style = \"text-align: right;\">1.0</td><td style = \"text-align: right;\">1.0</td><td style = \"text-align: right;\">1.0</td><td style = \"text-align: right;\">0.0</td></tr><tr><td class = \"rowNumber\" style = \"font-weight: bold; text-align: right;\">402</td><td style = \"text-align: left;\">A</td><td style = \"text-align: left;\">mvt</td><td style = \"text-align: right;\">0.0</td><td style = \"text-align: right;\">0.0</td><td style = \"text-align: right;\">1.0</td><td style = \"text-align: right;\">0.0</td></tr><tr><td class = \"rowNumber\" style = \"font-weight: bold; text-align: right;\">403</td><td style = \"text-align: left;\">A</td><td style = \"text-align: left;\">fdd</td><td style = \"text-align: right;\">1.0</td><td style = \"text-align: right;\">1.0</td><td style = \"text-align: right;\">1.0</td><td style = \"text-align: right;\">0.0</td></tr><tr><td class = \"rowNumber\" style = \"font-weight: bold; text-align: right;\">404</td><td style = \"text-align: left;\">A</td><td style = \"text-align: left;\">gmt</td><td style = \"text-align: right;\">0.0</td><td style = \"text-align: right;\">0.0</td><td style = \"text-align: right;\">1.0</td><td style = \"text-align: right;\">0.0</td></tr></tbody></table></div>"
      ],
      "text/latex": [
       "\\begin{tabular}{r|cccccc}\n",
       "\t& var & domain & julia\\_mpsge & julia\\_mcp & gams & diff\\\\\n",
       "\t\\hline\n",
       "\t& String & String & Float64? & Float64? & Float64? & Float64?\\\\\n",
       "\t\\hline\n",
       "\t1 & PA & fbt & \\emph{missing} & 0.0 & 1.0 & \\emph{missing} \\\\\n",
       "\t2 & PA & mvt & \\emph{missing} & 0.0 & 1.0 & \\emph{missing} \\\\\n",
       "\t3 & PA & gmt & \\emph{missing} & 0.0 & 1.0 & \\emph{missing} \\\\\n",
       "\t4 & RA &  & 12453.9 & \\emph{missing} & \\emph{missing} & \\emph{missing} \\\\\n",
       "\t5 & PFX &  & 0.97386 & \\emph{missing} & \\emph{missing} & \\emph{missing} \\\\\n",
       "\t6 & PFX & ‡A[ppd] & 25.2364 & \\emph{missing} & \\emph{missing} & \\emph{missing} \\\\\n",
       "\t7 & PFX & ‡A[res] & 2.73798 & \\emph{missing} & \\emph{missing} & \\emph{missing} \\\\\n",
       "\t8 & PFX & ‡A[com] & 30.0287 & \\emph{missing} & \\emph{missing} & \\emph{missing} \\\\\n",
       "\t9 & PFX & ‡A[amb] & 0.0863405 & \\emph{missing} & \\emph{missing} & \\emph{missing} \\\\\n",
       "\t10 & PFX & ‡A[fbp] & 78.9049 & \\emph{missing} & \\emph{missing} & \\emph{missing} \\\\\n",
       "\t11 & PFX & ‡A[rec] & 0.0 & \\emph{missing} & \\emph{missing} & \\emph{missing} \\\\\n",
       "\t12 & PFX & ‡A[con] & 0.101232 & \\emph{missing} & \\emph{missing} & \\emph{missing} \\\\\n",
       "\t13 & PFX & ‡A[agr] & 62.5008 & \\emph{missing} & \\emph{missing} & \\emph{missing} \\\\\n",
       "\t14 & PFX & ‡A[eec] & 38.8435 & \\emph{missing} & \\emph{missing} & \\emph{missing} \\\\\n",
       "\t15 & PFX & ‡A[fnd] & 0.0 & \\emph{missing} & \\emph{missing} & \\emph{missing} \\\\\n",
       "\t16 & PFX & ‡A[pub] & 45.1944 & \\emph{missing} & \\emph{missing} & \\emph{missing} \\\\\n",
       "\t17 & PFX & ‡A[hou] & 0.0 & \\emph{missing} & \\emph{missing} & \\emph{missing} \\\\\n",
       "\t18 & PFX & ‡A[ins] & 19.6612 & \\emph{missing} & \\emph{missing} & \\emph{missing} \\\\\n",
       "\t19 & PFX & ‡A[tex] & 11.5759 & \\emph{missing} & \\emph{missing} & \\emph{missing} \\\\\n",
       "\t20 & PFX & ‡A[leg] & 14.0605 & \\emph{missing} & \\emph{missing} & \\emph{missing} \\\\\n",
       "\t21 & PFX & ‡A[fen] & 0.704792 & \\emph{missing} & \\emph{missing} & \\emph{missing} \\\\\n",
       "\t22 & PFX & ‡A[uti] & 4.10269 & \\emph{missing} & \\emph{missing} & \\emph{missing} \\\\\n",
       "\t23 & PFX & ‡A[nmp] & 11.5336 & \\emph{missing} & \\emph{missing} & \\emph{missing} \\\\\n",
       "\t24 & PFX & ‡A[brd] & 13.2519 & \\emph{missing} & \\emph{missing} & \\emph{missing} \\\\\n",
       "\t$\\dots$ & $\\dots$ & $\\dots$ & $\\dots$ & $\\dots$ & $\\dots$ & $\\dots$ \\\\\n",
       "\\end{tabular}\n"
      ],
      "text/plain": [
       "\u001b[1m404×6 DataFrame\u001b[0m\n",
       "\u001b[1m Row \u001b[0m│\u001b[1m var    \u001b[0m\u001b[1m domain  \u001b[0m\u001b[1m julia_mpsge     \u001b[0m\u001b[1m julia_mcp      \u001b[0m\u001b[1m gams           \u001b[0m\u001b[1m diff \u001b[0m ⋯\n",
       "     │\u001b[90m String \u001b[0m\u001b[90m String  \u001b[0m\u001b[90m Float64?        \u001b[0m\u001b[90m Float64?       \u001b[0m\u001b[90m Float64?       \u001b[0m\u001b[90m Float\u001b[0m ⋯\n",
       "─────┼──────────────────────────────────────────────────────────────────────────\n",
       "   1 │ PA      fbt     \u001b[90m missing         \u001b[0m       0.0             1.0      \u001b[90m missi\u001b[0m ⋯\n",
       "   2 │ PA      mvt     \u001b[90m missing         \u001b[0m       0.0             1.0      \u001b[90m missi\u001b[0m\n",
       "   3 │ PA      gmt     \u001b[90m missing         \u001b[0m       0.0             1.0      \u001b[90m missi\u001b[0m\n",
       "   4 │ RA                 12453.9       \u001b[90m missing        \u001b[0m\u001b[90m missing        \u001b[0m\u001b[90m missi\u001b[0m\n",
       "   5 │ PFX                    0.97386   \u001b[90m missing        \u001b[0m\u001b[90m missing        \u001b[0m\u001b[90m missi\u001b[0m ⋯\n",
       "   6 │ PFX     ‡A[ppd]       25.2364    \u001b[90m missing        \u001b[0m\u001b[90m missing        \u001b[0m\u001b[90m missi\u001b[0m\n",
       "   7 │ PFX     ‡A[res]        2.73798   \u001b[90m missing        \u001b[0m\u001b[90m missing        \u001b[0m\u001b[90m missi\u001b[0m\n",
       "   8 │ PFX     ‡A[com]       30.0287    \u001b[90m missing        \u001b[0m\u001b[90m missing        \u001b[0m\u001b[90m missi\u001b[0m\n",
       "  ⋮  │   ⋮        ⋮            ⋮               ⋮               ⋮               ⋱\n",
       " 398 │ Y       fdd            1.0              1.0             1.0             ⋯\n",
       " 399 │ A       fnd            1.0              1.0             1.0\n",
       " 400 │ A       fbt            0.0              0.0             1.0\n",
       " 401 │ A       slg            1.0              1.0             1.0\n",
       " 402 │ A       mvt            0.0              0.0             1.0             ⋯\n",
       " 403 │ A       fdd            1.0              1.0             1.0\n",
       " 404 │ A       gmt            0.0              0.0             1.0\n",
       "\u001b[36m                                                   1 column and 389 rows omitted\u001b[0m"
      ]
     },
     "metadata": {},
     "output_type": "display_data"
    }
   ],
   "source": [
    "df_mcp = DataFrame(CSV.File(\"./Results/national_sols_julia_mcp.csv\",stringtype=String))\n",
    "    \n",
    "df = DataFrame(CSV.File(\"./Results/national_sols_gams.csv\",stringtype=String)) |>\n",
    "    x -> dropmissing(x) |>\n",
    "    x -> outerjoin(df_mpsge,df_mcp,x, on = [:var,:domain],makeunique=true) |>\n",
    "    x -> rename(x, :value => :julia_mpsge, :value_1 => :julia_mcp, :value_2 => :gams) |>\n",
    "    x -> transform(x, [:julia_mpsge,:julia_mcp] => ((a,b) -> abs.(a-b)) => :diff) |>\n",
    "    #x -> filter(:julia_mcp => y -> !ismissing(y) && y !=0 , x) |>\n",
    "    x -> sort(x,:diff;rev=true)"
   ]
  },
  {
   "cell_type": "code",
   "execution_count": 35,
   "metadata": {},
   "outputs": [
    {
     "data": {
      "text/html": [
       "<div><div style = \"float: left;\"><span>41×6 DataFrame</span></div><div style = \"float: right;\"><span style = \"font-style: italic;\">16 rows omitted</span></div><div style = \"clear: both;\"></div></div><div class = \"data-frame\" style = \"overflow-x: scroll;\"><table class = \"data-frame\" style = \"margin-bottom: 6px;\"><thead><tr class = \"header\"><th class = \"rowNumber\" style = \"font-weight: bold; text-align: right;\">Row</th><th style = \"text-align: left;\">var</th><th style = \"text-align: left;\">domain</th><th style = \"text-align: left;\">julia_mpsge</th><th style = \"text-align: left;\">julia_mcp</th><th style = \"text-align: left;\">gams</th><th style = \"text-align: left;\">diff</th></tr><tr class = \"subheader headerLastRow\"><th class = \"rowNumber\" style = \"font-weight: bold; text-align: right;\"></th><th title = \"String\" style = \"text-align: left;\">String</th><th title = \"String\" style = \"text-align: left;\">String</th><th title = \"Union{Missing, Float64}\" style = \"text-align: left;\">Float64?</th><th title = \"Union{Missing, Float64}\" style = \"text-align: left;\">Float64?</th><th title = \"Union{Missing, Float64}\" style = \"text-align: left;\">Float64?</th><th title = \"Union{Missing, Float64}\" style = \"text-align: left;\">Float64?</th></tr></thead><tbody><tr><td class = \"rowNumber\" style = \"font-weight: bold; text-align: right;\">1</td><td style = \"text-align: left;\">PFX</td><td style = \"text-align: left;\">†A→dmins</td><td style = \"text-align: right;\">52.4084</td><td style = \"font-style: italic; text-align: right;\">missing</td><td style = \"font-style: italic; text-align: right;\">missing</td><td style = \"font-style: italic; text-align: right;\">missing</td></tr><tr><td class = \"rowNumber\" style = \"font-weight: bold; text-align: right;\">2</td><td style = \"text-align: left;\">PFX</td><td style = \"text-align: left;\">†A→dmtex</td><td style = \"text-align: right;\">31.6662</td><td style = \"font-style: italic; text-align: right;\">missing</td><td style = \"font-style: italic; text-align: right;\">missing</td><td style = \"font-style: italic; text-align: right;\">missing</td></tr><tr><td class = \"rowNumber\" style = \"font-weight: bold; text-align: right;\">3</td><td style = \"text-align: left;\">PFX</td><td style = \"text-align: left;\">†A→dmleg</td><td style = \"text-align: right;\">3.90076</td><td style = \"font-style: italic; text-align: right;\">missing</td><td style = \"font-style: italic; text-align: right;\">missing</td><td style = \"font-style: italic; text-align: right;\">missing</td></tr><tr><td class = \"rowNumber\" style = \"font-weight: bold; text-align: right;\">4</td><td style = \"text-align: left;\">PFX</td><td style = \"text-align: left;\">†A→dmfen</td><td style = \"text-align: right;\">0.291135</td><td style = \"font-style: italic; text-align: right;\">missing</td><td style = \"font-style: italic; text-align: right;\">missing</td><td style = \"font-style: italic; text-align: right;\">missing</td></tr><tr><td class = \"rowNumber\" style = \"font-weight: bold; text-align: right;\">5</td><td style = \"text-align: left;\">PFX</td><td style = \"text-align: left;\">†A→dmuti</td><td style = \"text-align: right;\">2.38156</td><td style = \"font-style: italic; text-align: right;\">missing</td><td style = \"font-style: italic; text-align: right;\">missing</td><td style = \"font-style: italic; text-align: right;\">missing</td></tr><tr><td class = \"rowNumber\" style = \"font-weight: bold; text-align: right;\">6</td><td style = \"text-align: left;\">PFX</td><td style = \"text-align: left;\">†A→dmnmp</td><td style = \"text-align: right;\">25.9611</td><td style = \"font-style: italic; text-align: right;\">missing</td><td style = \"font-style: italic; text-align: right;\">missing</td><td style = \"font-style: italic; text-align: right;\">missing</td></tr><tr><td class = \"rowNumber\" style = \"font-weight: bold; text-align: right;\">7</td><td style = \"text-align: left;\">PFX</td><td style = \"text-align: left;\">†A→dmbrd</td><td style = \"text-align: right;\">0.15539</td><td style = \"font-style: italic; text-align: right;\">missing</td><td style = \"font-style: italic; text-align: right;\">missing</td><td style = \"font-style: italic; text-align: right;\">missing</td></tr><tr><td class = \"rowNumber\" style = \"font-weight: bold; text-align: right;\">8</td><td style = \"text-align: left;\">PFX</td><td style = \"text-align: left;\">†A→dmbnk</td><td style = \"text-align: right;\">0.0453854</td><td style = \"font-style: italic; text-align: right;\">missing</td><td style = \"font-style: italic; text-align: right;\">missing</td><td style = \"font-style: italic; text-align: right;\">missing</td></tr><tr><td class = \"rowNumber\" style = \"font-weight: bold; text-align: right;\">9</td><td style = \"text-align: left;\">PFX</td><td style = \"text-align: left;\">†A→dmedu</td><td style = \"text-align: right;\">1.75023</td><td style = \"font-style: italic; text-align: right;\">missing</td><td style = \"font-style: italic; text-align: right;\">missing</td><td style = \"font-style: italic; text-align: right;\">missing</td></tr><tr><td class = \"rowNumber\" style = \"font-weight: bold; text-align: right;\">10</td><td style = \"text-align: left;\">PFX</td><td style = \"text-align: left;\">†A→dmote</td><td style = \"text-align: right;\">49.246</td><td style = \"font-style: italic; text-align: right;\">missing</td><td style = \"font-style: italic; text-align: right;\">missing</td><td style = \"font-style: italic; text-align: right;\">missing</td></tr><tr><td class = \"rowNumber\" style = \"font-weight: bold; text-align: right;\">11</td><td style = \"text-align: left;\">PFX</td><td style = \"text-align: left;\">†A→dmmch</td><td style = \"text-align: right;\">158.152</td><td style = \"font-style: italic; text-align: right;\">missing</td><td style = \"font-style: italic; text-align: right;\">missing</td><td style = \"font-style: italic; text-align: right;\">missing</td></tr><tr><td class = \"rowNumber\" style = \"font-weight: bold; text-align: right;\">12</td><td style = \"text-align: left;\">PFX</td><td style = \"text-align: left;\">†A→dmdat</td><td style = \"text-align: right;\">1.24648</td><td style = \"font-style: italic; text-align: right;\">missing</td><td style = \"font-style: italic; text-align: right;\">missing</td><td style = \"font-style: italic; text-align: right;\">missing</td></tr><tr><td class = \"rowNumber\" style = \"font-weight: bold; text-align: right;\">13</td><td style = \"text-align: left;\">PFX</td><td style = \"text-align: left;\">†A→dmoil</td><td style = \"text-align: right;\">146.434</td><td style = \"font-style: italic; text-align: right;\">missing</td><td style = \"font-style: italic; text-align: right;\">missing</td><td style = \"font-style: italic; text-align: right;\">missing</td></tr><tr><td style = \"text-align: right;\">&vellip;</td><td style = \"text-align: right;\">&vellip;</td><td style = \"text-align: right;\">&vellip;</td><td style = \"text-align: right;\">&vellip;</td><td style = \"text-align: right;\">&vellip;</td><td style = \"text-align: right;\">&vellip;</td><td style = \"text-align: right;\">&vellip;</td></tr><tr><td class = \"rowNumber\" style = \"font-weight: bold; text-align: right;\">30</td><td style = \"text-align: left;\">PFX</td><td style = \"text-align: left;\">†A→dmadm</td><td style = \"text-align: right;\">1.94003</td><td style = \"font-style: italic; text-align: right;\">missing</td><td style = \"font-style: italic; text-align: right;\">missing</td><td style = \"font-style: italic; text-align: right;\">missing</td></tr><tr><td class = \"rowNumber\" style = \"font-weight: bold; text-align: right;\">31</td><td style = \"text-align: left;\">PFX</td><td style = \"text-align: left;\">†A→dmalt</td><td style = \"text-align: right;\">127.657</td><td style = \"font-style: italic; text-align: right;\">missing</td><td style = \"font-style: italic; text-align: right;\">missing</td><td style = \"font-style: italic; text-align: right;\">missing</td></tr><tr><td class = \"rowNumber\" style = \"font-weight: bold; text-align: right;\">32</td><td style = \"text-align: left;\">PFX</td><td style = \"text-align: left;\">†A→dmpmt</td><td style = \"text-align: right;\">79.008</td><td style = \"font-style: italic; text-align: right;\">missing</td><td style = \"font-style: italic; text-align: right;\">missing</td><td style = \"font-style: italic; text-align: right;\">missing</td></tr><tr><td class = \"rowNumber\" style = \"font-weight: bold; text-align: right;\">33</td><td style = \"text-align: left;\">PFX</td><td style = \"text-align: left;\">†A→dmwpd</td><td style = \"text-align: right;\">21.061</td><td style = \"font-style: italic; text-align: right;\">missing</td><td style = \"font-style: italic; text-align: right;\">missing</td><td style = \"font-style: italic; text-align: right;\">missing</td></tr><tr><td class = \"rowNumber\" style = \"font-weight: bold; text-align: right;\">34</td><td style = \"text-align: left;\">PFX</td><td style = \"text-align: left;\">†A→dmche</td><td style = \"text-align: right;\">236.2</td><td style = \"font-style: italic; text-align: right;\">missing</td><td style = \"font-style: italic; text-align: right;\">missing</td><td style = \"font-style: italic; text-align: right;\">missing</td></tr><tr><td class = \"rowNumber\" style = \"font-weight: bold; text-align: right;\">35</td><td style = \"text-align: left;\">PFX</td><td style = \"text-align: left;\">†A→dmair</td><td style = \"text-align: right;\">38.3546</td><td style = \"font-style: italic; text-align: right;\">missing</td><td style = \"font-style: italic; text-align: right;\">missing</td><td style = \"font-style: italic; text-align: right;\">missing</td></tr><tr><td class = \"rowNumber\" style = \"font-weight: bold; text-align: right;\">36</td><td style = \"text-align: left;\">PFX</td><td style = \"text-align: left;\">†A→dmmmf</td><td style = \"text-align: right;\">95.1229</td><td style = \"font-style: italic; text-align: right;\">missing</td><td style = \"font-style: italic; text-align: right;\">missing</td><td style = \"font-style: italic; text-align: right;\">missing</td></tr><tr><td class = \"rowNumber\" style = \"font-weight: bold; text-align: right;\">37</td><td style = \"text-align: left;\">PFX</td><td style = \"text-align: left;\">†A→dmotr</td><td style = \"text-align: right;\">0.0430096</td><td style = \"font-style: italic; text-align: right;\">missing</td><td style = \"font-style: italic; text-align: right;\">missing</td><td style = \"font-style: italic; text-align: right;\">missing</td></tr><tr><td class = \"rowNumber\" style = \"font-weight: bold; text-align: right;\">38</td><td style = \"text-align: left;\">PFX</td><td style = \"text-align: left;\">†A→dmmin</td><td style = \"text-align: right;\">1.38011</td><td style = \"font-style: italic; text-align: right;\">missing</td><td style = \"font-style: italic; text-align: right;\">missing</td><td style = \"font-style: italic; text-align: right;\">missing</td></tr><tr><td class = \"rowNumber\" style = \"font-weight: bold; text-align: right;\">39</td><td style = \"text-align: left;\">Y</td><td style = \"text-align: left;\">gmt</td><td style = \"text-align: right;\">1.02313</td><td style = \"text-align: right;\">1.02311</td><td style = \"text-align: right;\">1.02311</td><td style = \"text-align: right;\">2.16517e-5</td></tr><tr><td class = \"rowNumber\" style = \"font-weight: bold; text-align: right;\">40</td><td style = \"text-align: left;\">Y</td><td style = \"text-align: left;\">wrh</td><td style = \"text-align: right;\">1.01945</td><td style = \"text-align: right;\">1.01943</td><td style = \"text-align: right;\">1.01943</td><td style = \"text-align: right;\">1.84962e-5</td></tr><tr><td class = \"rowNumber\" style = \"font-weight: bold; text-align: right;\">41</td><td style = \"text-align: left;\">Y</td><td style = \"text-align: left;\">pub</td><td style = \"text-align: right;\">0.995048</td><td style = \"text-align: right;\">0.995058</td><td style = \"text-align: right;\">0.995058</td><td style = \"text-align: right;\">1.04927e-5</td></tr></tbody></table></div>"
      ],
      "text/latex": [
       "\\begin{tabular}{r|cccccc}\n",
       "\t& var & domain & julia\\_mpsge & julia\\_mcp & gams & diff\\\\\n",
       "\t\\hline\n",
       "\t& String & String & Float64? & Float64? & Float64? & Float64?\\\\\n",
       "\t\\hline\n",
       "\t1 & PFX & †A→dmins & 52.4084 & \\emph{missing} & \\emph{missing} & \\emph{missing} \\\\\n",
       "\t2 & PFX & †A→dmtex & 31.6662 & \\emph{missing} & \\emph{missing} & \\emph{missing} \\\\\n",
       "\t3 & PFX & †A→dmleg & 3.90076 & \\emph{missing} & \\emph{missing} & \\emph{missing} \\\\\n",
       "\t4 & PFX & †A→dmfen & 0.291135 & \\emph{missing} & \\emph{missing} & \\emph{missing} \\\\\n",
       "\t5 & PFX & †A→dmuti & 2.38156 & \\emph{missing} & \\emph{missing} & \\emph{missing} \\\\\n",
       "\t6 & PFX & †A→dmnmp & 25.9611 & \\emph{missing} & \\emph{missing} & \\emph{missing} \\\\\n",
       "\t7 & PFX & †A→dmbrd & 0.15539 & \\emph{missing} & \\emph{missing} & \\emph{missing} \\\\\n",
       "\t8 & PFX & †A→dmbnk & 0.0453854 & \\emph{missing} & \\emph{missing} & \\emph{missing} \\\\\n",
       "\t9 & PFX & †A→dmedu & 1.75023 & \\emph{missing} & \\emph{missing} & \\emph{missing} \\\\\n",
       "\t10 & PFX & †A→dmote & 49.246 & \\emph{missing} & \\emph{missing} & \\emph{missing} \\\\\n",
       "\t11 & PFX & †A→dmmch & 158.152 & \\emph{missing} & \\emph{missing} & \\emph{missing} \\\\\n",
       "\t12 & PFX & †A→dmdat & 1.24648 & \\emph{missing} & \\emph{missing} & \\emph{missing} \\\\\n",
       "\t13 & PFX & †A→dmoil & 146.434 & \\emph{missing} & \\emph{missing} & \\emph{missing} \\\\\n",
       "\t14 & PFX & †A→dmhos & 4.41528 & \\emph{missing} & \\emph{missing} & \\emph{missing} \\\\\n",
       "\t15 & PFX & †A→dmpla & 51.4154 & \\emph{missing} & \\emph{missing} & \\emph{missing} \\\\\n",
       "\t16 & PFX & †A→dmfof & 18.0347 & \\emph{missing} & \\emph{missing} & \\emph{missing} \\\\\n",
       "\t17 & PFX & †A→dmtsv & 102.699 & \\emph{missing} & \\emph{missing} & \\emph{missing} \\\\\n",
       "\t18 & PFX & †A→dmsec & 0.0572294 & \\emph{missing} & \\emph{missing} & \\emph{missing} \\\\\n",
       "\t19 & PFX & †A→dmart & 1.33337 & \\emph{missing} & \\emph{missing} & \\emph{missing} \\\\\n",
       "\t20 & PFX & †A→dmmov & 9.5915 & \\emph{missing} & \\emph{missing} & \\emph{missing} \\\\\n",
       "\t21 & PFX & †A→dmfpd & 42.9711 & \\emph{missing} & \\emph{missing} & \\emph{missing} \\\\\n",
       "\t22 & PFX & †A→dmpri & 2.55017 & \\emph{missing} & \\emph{missing} & \\emph{missing} \\\\\n",
       "\t23 & PFX & †A→dmosv & 4.8016 & \\emph{missing} & \\emph{missing} & \\emph{missing} \\\\\n",
       "\t24 & PFX & †A→dmsmn & 1.03313 & \\emph{missing} & \\emph{missing} & \\emph{missing} \\\\\n",
       "\t$\\dots$ & $\\dots$ & $\\dots$ & $\\dots$ & $\\dots$ & $\\dots$ & $\\dots$ \\\\\n",
       "\\end{tabular}\n"
      ],
      "text/plain": [
       "\u001b[1m41×6 DataFrame\u001b[0m\n",
       "\u001b[1m Row \u001b[0m│\u001b[1m var    \u001b[0m\u001b[1m domain   \u001b[0m\u001b[1m julia_mpsge \u001b[0m\u001b[1m julia_mcp      \u001b[0m\u001b[1m gams           \u001b[0m\u001b[1m diff    \u001b[0m ⋯\n",
       "     │\u001b[90m String \u001b[0m\u001b[90m String   \u001b[0m\u001b[90m Float64?    \u001b[0m\u001b[90m Float64?       \u001b[0m\u001b[90m Float64?       \u001b[0m\u001b[90m Float64?\u001b[0m ⋯\n",
       "─────┼──────────────────────────────────────────────────────────────────────────\n",
       "   1 │ PFX     †A→dmins   52.4084    \u001b[90m missing        \u001b[0m\u001b[90m missing        \u001b[0m\u001b[90m missing \u001b[0m ⋯\n",
       "   2 │ PFX     †A→dmtex   31.6662    \u001b[90m missing        \u001b[0m\u001b[90m missing        \u001b[0m\u001b[90m missing \u001b[0m\n",
       "   3 │ PFX     †A→dmleg    3.90076   \u001b[90m missing        \u001b[0m\u001b[90m missing        \u001b[0m\u001b[90m missing \u001b[0m\n",
       "   4 │ PFX     †A→dmfen    0.291135  \u001b[90m missing        \u001b[0m\u001b[90m missing        \u001b[0m\u001b[90m missing \u001b[0m\n",
       "   5 │ PFX     †A→dmuti    2.38156   \u001b[90m missing        \u001b[0m\u001b[90m missing        \u001b[0m\u001b[90m missing \u001b[0m ⋯\n",
       "   6 │ PFX     †A→dmnmp   25.9611    \u001b[90m missing        \u001b[0m\u001b[90m missing        \u001b[0m\u001b[90m missing \u001b[0m\n",
       "   7 │ PFX     †A→dmbrd    0.15539   \u001b[90m missing        \u001b[0m\u001b[90m missing        \u001b[0m\u001b[90m missing \u001b[0m\n",
       "   8 │ PFX     †A→dmbnk    0.0453854 \u001b[90m missing        \u001b[0m\u001b[90m missing        \u001b[0m\u001b[90m missing \u001b[0m\n",
       "  ⋮  │   ⋮        ⋮           ⋮             ⋮               ⋮                ⋮ ⋱\n",
       "  35 │ PFX     †A→dmair   38.3546    \u001b[90m missing        \u001b[0m\u001b[90m missing        \u001b[0m\u001b[90m missing \u001b[0m ⋯\n",
       "  36 │ PFX     †A→dmmmf   95.1229    \u001b[90m missing        \u001b[0m\u001b[90m missing        \u001b[0m\u001b[90m missing \u001b[0m\n",
       "  37 │ PFX     †A→dmotr    0.0430096 \u001b[90m missing        \u001b[0m\u001b[90m missing        \u001b[0m\u001b[90m missing \u001b[0m\n",
       "  38 │ PFX     †A→dmmin    1.38011   \u001b[90m missing        \u001b[0m\u001b[90m missing        \u001b[0m\u001b[90m missing \u001b[0m\n",
       "  39 │ Y       gmt         1.02313          1.02311         1.02311         2. ⋯\n",
       "  40 │ Y       wrh         1.01945          1.01943         1.01943         1.\n",
       "  41 │ Y       pub         0.995048         0.995058        0.995058        1.\n",
       "\u001b[36m                                                    1 column and 26 rows omitted\u001b[0m"
      ]
     },
     "metadata": {},
     "output_type": "display_data"
    }
   ],
   "source": [
    "df[80:120,:]"
   ]
  },
  {
   "cell_type": "code",
   "execution_count": null,
   "metadata": {},
   "outputs": [],
   "source": []
  },
  {
   "cell_type": "markdown",
   "metadata": {},
   "source": [
    "# Full Julia MPSGE Solution"
   ]
  },
  {
   "cell_type": "code",
   "execution_count": 21,
   "metadata": {},
   "outputs": [],
   "source": [
    "replace_dict = Dict(\n",
    "    \"Y\" => [r\"^Y\\[\\(:(\\w{3}),\\)]\", s\"(:\\1,)\"],\n",
    "    \"A\" => [r\"^A\\[\\(:(\\w{3}),\\)]\", s\"(:\\1,)\"],\n",
    "    \"MS\" => [r\"^MS\\[\\(:(\\w{3}),\\)]\", s\"(:\\1,)\"],\n",
    "    \"PA\" => [r\"^PA\\[\\(:(\\w{3}),\\)]\", s\"(:\\1,)\"],\n",
    "    \"PY\" => [r\"^PY\\[\\(:(\\w{3}),\\)]\", s\"(:\\1,)\"],\n",
    "    \"PVA\" => [r\"^PVA\\[\\(:(\\w{6,7}),\\)]\", s\"(:\\1,)\"],\n",
    "    \"PM\" => [r\"^PM\\[\\(:(\\w{3}),\\)]\", s\"(:\\1,)\"],\n",
    "    \"PFX\" => [r\"^PFX\", s\"\"],\n",
    "    \"RA\" => [r\"^RA\", s\"\"],\n",
    "    \"C\" => [r\"^PA\\[(\\w{3})\\]ρRA\", s\"(:\\1,)\"],\n",
    "    \"S_PY_Y\" => [r\"^PY\\[(\\w{3})\\]‡Y\\[(\\w{3})\\]\", s\"(:\\1,:\\2)\"],\n",
    "    \"D_PA_Y\" => [r\"^PA\\[(\\w{3})\\]†Y\\[(\\w{3})\\]\", s\"(:\\1,:\\2)\"],\n",
    "    \"D_PVA_Y\" => [r\"^PVA\\[(\\w{3})\\]†Y→VA(\\w{3})\", s\"(:\\1,:\\2)\"],\n",
    "    \"S_PM_MS\" => [r\"^PM\\[(\\w{3})\\]‡MS\\[(\\w{3})\\]\", s\"(:\\1,:\\2)\"],\n",
    "    \"D_PY_MS\" => [r\"^PY\\[(\\w{3})\\]†MS\\[(\\w{3})\\]\", s\"(:\\1,:\\2)\"],\n",
    "    \"S_PA_A\" => [r\"^PA\\[(\\w{3})\\]‡A\\[(\\w{3})\\]\", s\"(:\\1,:\\2)\"],\n",
    "    \"S_PFX_A\" => [r\"^PFX‡A\\[(\\w{3})\\]\", s\"(:\\1,)\"],\n",
    "    \"D_PY_A\" => [r\"^PY\\[(\\w{3})\\]†A→dm(\\w{3})\", s\"(:\\1,:\\2)\"],\n",
    "    \"D_PFX_A\" => [r\"^PFX†A→dm(\\w{3})\", s\"(:\\1,)\"],\n",
    "    \"D_PM_A\" => [r\"^PM\\[(\\w{3})\\]†A\\[(\\w{3})\\]\", s\"(:\\1,:\\2)\"],\n",
    "    );"
   ]
  },
  {
   "cell_type": "code",
   "execution_count": 23,
   "metadata": {},
   "outputs": [],
   "source": [
    "d = DataFrame(CSV.File(\"./Results/FullReportCounter.csv\",stringtype=String)) |>\n",
    "    x -> transform(x, :margin => (y -> ifelse.(y.==\".\",\"0\",y)) => :margin) |>\n",
    "    x -> transform(x, :margin => (y -> parse.(Float64,y))=>:margin);"
   ]
  },
  {
   "cell_type": "code",
   "execution_count": 24,
   "metadata": {},
   "outputs": [],
   "source": [
    "\n",
    "df = DataFrame()\n",
    "\n",
    "for (var,(reg,sub)) in replace_dict\n",
    "    df_ = d |>\n",
    "        x-> filter(:var_name => y -> occursin.(reg ,y),x) |>\n",
    "        x -> transform(x,\n",
    "            :var_name => (y -> replace.(y, reg => sub)) => :domain,\n",
    "            :var_name => (y -> var) => :var\n",
    "        ) |>\n",
    "        x -> select(x, [:var_name,:var,:domain,:value,:margin])\n",
    "    \n",
    "    df = vcat(df,df_)\n",
    "end"
   ]
  },
  {
   "cell_type": "code",
   "execution_count": 25,
   "metadata": {},
   "outputs": [
    {
     "data": {
      "text/html": [
       "<div><div style = \"float: left;\"><span>4926×5 DataFrame</span></div><div style = \"float: right;\"><span style = \"font-style: italic;\">4901 rows omitted</span></div><div style = \"clear: both;\"></div></div><div class = \"data-frame\" style = \"overflow-x: scroll;\"><table class = \"data-frame\" style = \"margin-bottom: 6px;\"><thead><tr class = \"header\"><th class = \"rowNumber\" style = \"font-weight: bold; text-align: right;\">Row</th><th style = \"text-align: left;\">var_name</th><th style = \"text-align: left;\">var</th><th style = \"text-align: left;\">domain</th><th style = \"text-align: left;\">value</th><th style = \"text-align: left;\">margin</th></tr><tr class = \"subheader headerLastRow\"><th class = \"rowNumber\" style = \"font-weight: bold; text-align: right;\"></th><th title = \"String\" style = \"text-align: left;\">String</th><th title = \"String\" style = \"text-align: left;\">String</th><th title = \"String\" style = \"text-align: left;\">String</th><th title = \"Float64\" style = \"text-align: left;\">Float64</th><th title = \"Float64\" style = \"text-align: left;\">Float64</th></tr></thead><tbody><tr><td class = \"rowNumber\" style = \"font-weight: bold; text-align: right;\">1</td><td style = \"text-align: left;\">PA[ppd]†Y[ppd]</td><td style = \"text-align: left;\">D_PA_Y</td><td style = \"text-align: left;\">(:ppd,:ppd)</td><td style = \"text-align: right;\">43.8969</td><td style = \"text-align: right;\">-0.0</td></tr><tr><td class = \"rowNumber\" style = \"font-weight: bold; text-align: right;\">2</td><td style = \"text-align: left;\">PA[res]†Y[ppd]</td><td style = \"text-align: left;\">D_PA_Y</td><td style = \"text-align: left;\">(:res,:ppd)</td><td style = \"text-align: right;\">0.162683</td><td style = \"text-align: right;\">-0.0</td></tr><tr><td class = \"rowNumber\" style = \"font-weight: bold; text-align: right;\">3</td><td style = \"text-align: left;\">PA[com]†Y[ppd]</td><td style = \"text-align: left;\">D_PA_Y</td><td style = \"text-align: left;\">(:com,:ppd)</td><td style = \"text-align: right;\">0.197119</td><td style = \"text-align: right;\">-0.0</td></tr><tr><td class = \"rowNumber\" style = \"font-weight: bold; text-align: right;\">4</td><td style = \"text-align: left;\">PA[fbp]†Y[ppd]</td><td style = \"text-align: left;\">D_PA_Y</td><td style = \"text-align: left;\">(:fbp,:ppd)</td><td style = \"text-align: right;\">1.66646</td><td style = \"text-align: right;\">-0.0</td></tr><tr><td class = \"rowNumber\" style = \"font-weight: bold; text-align: right;\">5</td><td style = \"text-align: left;\">PA[rec]†Y[ppd]</td><td style = \"text-align: left;\">D_PA_Y</td><td style = \"text-align: left;\">(:rec,:ppd)</td><td style = \"text-align: right;\">0.00511639</td><td style = \"text-align: right;\">-0.0</td></tr><tr><td class = \"rowNumber\" style = \"font-weight: bold; text-align: right;\">6</td><td style = \"text-align: left;\">PA[con]†Y[ppd]</td><td style = \"text-align: left;\">D_PA_Y</td><td style = \"text-align: left;\">(:con,:ppd)</td><td style = \"text-align: right;\">0.668667</td><td style = \"text-align: right;\">-0.0</td></tr><tr><td class = \"rowNumber\" style = \"font-weight: bold; text-align: right;\">7</td><td style = \"text-align: left;\">PA[eec]†Y[ppd]</td><td style = \"text-align: left;\">D_PA_Y</td><td style = \"text-align: left;\">(:eec,:ppd)</td><td style = \"text-align: right;\">0.454946</td><td style = \"text-align: right;\">-0.0</td></tr><tr><td class = \"rowNumber\" style = \"font-weight: bold; text-align: right;\">8</td><td style = \"text-align: left;\">PA[pub]†Y[ppd]</td><td style = \"text-align: left;\">D_PA_Y</td><td style = \"text-align: left;\">(:pub,:ppd)</td><td style = \"text-align: right;\">0.00411802</td><td style = \"text-align: right;\">-0.0</td></tr><tr><td class = \"rowNumber\" style = \"font-weight: bold; text-align: right;\">9</td><td style = \"text-align: left;\">PA[ins]†Y[ppd]</td><td style = \"text-align: left;\">D_PA_Y</td><td style = \"text-align: left;\">(:ins,:ppd)</td><td style = \"text-align: right;\">0.234656</td><td style = \"text-align: right;\">-0.0</td></tr><tr><td class = \"rowNumber\" style = \"font-weight: bold; text-align: right;\">10</td><td style = \"text-align: left;\">PA[tex]†Y[ppd]</td><td style = \"text-align: left;\">D_PA_Y</td><td style = \"text-align: left;\">(:tex,:ppd)</td><td style = \"text-align: right;\">4.02015</td><td style = \"text-align: right;\">-0.0</td></tr><tr><td class = \"rowNumber\" style = \"font-weight: bold; text-align: right;\">11</td><td style = \"text-align: left;\">PA[leg]†Y[ppd]</td><td style = \"text-align: left;\">D_PA_Y</td><td style = \"text-align: left;\">(:leg,:ppd)</td><td style = \"text-align: right;\">0.961713</td><td style = \"text-align: right;\">-0.0</td></tr><tr><td class = \"rowNumber\" style = \"font-weight: bold; text-align: right;\">12</td><td style = \"text-align: left;\">PA[uti]†Y[ppd]</td><td style = \"text-align: left;\">D_PA_Y</td><td style = \"text-align: left;\">(:uti,:ppd)</td><td style = \"text-align: right;\">5.27888</td><td style = \"text-align: right;\">-0.0</td></tr><tr><td class = \"rowNumber\" style = \"font-weight: bold; text-align: right;\">13</td><td style = \"text-align: left;\">PA[nmp]†Y[ppd]</td><td style = \"text-align: left;\">D_PA_Y</td><td style = \"text-align: left;\">(:nmp,:ppd)</td><td style = \"text-align: right;\">0.53194</td><td style = \"text-align: right;\">-0.0</td></tr><tr><td style = \"text-align: right;\">&vellip;</td><td style = \"text-align: right;\">&vellip;</td><td style = \"text-align: right;\">&vellip;</td><td style = \"text-align: right;\">&vellip;</td><td style = \"text-align: right;\">&vellip;</td><td style = \"text-align: right;\">&vellip;</td></tr><tr><td class = \"rowNumber\" style = \"font-weight: bold; text-align: right;\">4915</td><td style = \"text-align: left;\">PFX‡A[trk]</td><td style = \"text-align: left;\">S_PFX_A</td><td style = \"text-align: left;\">(:trk,)</td><td style = \"text-align: right;\">1.70113</td><td style = \"text-align: right;\">0.0</td></tr><tr><td class = \"rowNumber\" style = \"font-weight: bold; text-align: right;\">4916</td><td style = \"text-align: left;\">PFX‡A[fdd]</td><td style = \"text-align: left;\">S_PFX_A</td><td style = \"text-align: left;\">(:fdd,)</td><td style = \"text-align: right;\">0.0</td><td style = \"text-align: right;\">0.0</td></tr><tr><td class = \"rowNumber\" style = \"font-weight: bold; text-align: right;\">4917</td><td style = \"text-align: left;\">PFX‡A[wtt]</td><td style = \"text-align: left;\">S_PFX_A</td><td style = \"text-align: left;\">(:wtt,)</td><td style = \"text-align: right;\">5.02542</td><td style = \"text-align: right;\">0.0</td></tr><tr><td class = \"rowNumber\" style = \"font-weight: bold; text-align: right;\">4918</td><td style = \"text-align: left;\">PFX‡A[wpd]</td><td style = \"text-align: left;\">S_PFX_A</td><td style = \"text-align: left;\">(:wpd,)</td><td style = \"text-align: right;\">7.16839</td><td style = \"text-align: right;\">0.0</td></tr><tr><td class = \"rowNumber\" style = \"font-weight: bold; text-align: right;\">4919</td><td style = \"text-align: left;\">PFX‡A[wht]</td><td style = \"text-align: left;\">S_PFX_A</td><td style = \"text-align: left;\">(:wht,)</td><td style = \"text-align: right;\">2.38048</td><td style = \"text-align: right;\">0.0</td></tr><tr><td class = \"rowNumber\" style = \"font-weight: bold; text-align: right;\">4920</td><td style = \"text-align: left;\">PFX‡A[wrh]</td><td style = \"text-align: left;\">S_PFX_A</td><td style = \"text-align: left;\">(:wrh,)</td><td style = \"text-align: right;\">0.167415</td><td style = \"text-align: right;\">0.0</td></tr><tr><td class = \"rowNumber\" style = \"font-weight: bold; text-align: right;\">4921</td><td style = \"text-align: left;\">PFX‡A[ott]</td><td style = \"text-align: left;\">S_PFX_A</td><td style = \"text-align: left;\">(:ott,)</td><td style = \"text-align: right;\">0.0</td><td style = \"text-align: right;\">0.0</td></tr><tr><td class = \"rowNumber\" style = \"font-weight: bold; text-align: right;\">4922</td><td style = \"text-align: left;\">PFX‡A[che]</td><td style = \"text-align: left;\">S_PFX_A</td><td style = \"text-align: left;\">(:che,)</td><td style = \"text-align: right;\">186.063</td><td style = \"text-align: right;\">0.0</td></tr><tr><td class = \"rowNumber\" style = \"font-weight: bold; text-align: right;\">4923</td><td style = \"text-align: left;\">PFX‡A[air]</td><td style = \"text-align: left;\">S_PFX_A</td><td style = \"text-align: left;\">(:air,)</td><td style = \"text-align: right;\">44.2125</td><td style = \"text-align: right;\">0.0</td></tr><tr><td class = \"rowNumber\" style = \"font-weight: bold; text-align: right;\">4924</td><td style = \"text-align: left;\">PFX‡A[mmf]</td><td style = \"text-align: left;\">S_PFX_A</td><td style = \"text-align: left;\">(:mmf,)</td><td style = \"text-align: right;\">45.7569</td><td style = \"text-align: right;\">0.0</td></tr><tr><td class = \"rowNumber\" style = \"font-weight: bold; text-align: right;\">4925</td><td style = \"text-align: left;\">PFX‡A[otr]</td><td style = \"text-align: left;\">S_PFX_A</td><td style = \"text-align: left;\">(:otr,)</td><td style = \"text-align: right;\">10.4011</td><td style = \"text-align: right;\">0.0</td></tr><tr><td class = \"rowNumber\" style = \"font-weight: bold; text-align: right;\">4926</td><td style = \"text-align: left;\">PFX‡A[min]</td><td style = \"text-align: left;\">S_PFX_A</td><td style = \"text-align: left;\">(:min,)</td><td style = \"text-align: right;\">17.7762</td><td style = \"text-align: right;\">0.0</td></tr></tbody></table></div>"
      ],
      "text/latex": [
       "\\begin{tabular}{r|ccccc}\n",
       "\t& var\\_name & var & domain & value & margin\\\\\n",
       "\t\\hline\n",
       "\t& String & String & String & Float64 & Float64\\\\\n",
       "\t\\hline\n",
       "\t1 & PA[ppd]†Y[ppd] & D\\_PA\\_Y & (:ppd,:ppd) & 43.8969 & -0.0 \\\\\n",
       "\t2 & PA[res]†Y[ppd] & D\\_PA\\_Y & (:res,:ppd) & 0.162683 & -0.0 \\\\\n",
       "\t3 & PA[com]†Y[ppd] & D\\_PA\\_Y & (:com,:ppd) & 0.197119 & -0.0 \\\\\n",
       "\t4 & PA[fbp]†Y[ppd] & D\\_PA\\_Y & (:fbp,:ppd) & 1.66646 & -0.0 \\\\\n",
       "\t5 & PA[rec]†Y[ppd] & D\\_PA\\_Y & (:rec,:ppd) & 0.00511639 & -0.0 \\\\\n",
       "\t6 & PA[con]†Y[ppd] & D\\_PA\\_Y & (:con,:ppd) & 0.668667 & -0.0 \\\\\n",
       "\t7 & PA[eec]†Y[ppd] & D\\_PA\\_Y & (:eec,:ppd) & 0.454946 & -0.0 \\\\\n",
       "\t8 & PA[pub]†Y[ppd] & D\\_PA\\_Y & (:pub,:ppd) & 0.00411802 & -0.0 \\\\\n",
       "\t9 & PA[ins]†Y[ppd] & D\\_PA\\_Y & (:ins,:ppd) & 0.234656 & -0.0 \\\\\n",
       "\t10 & PA[tex]†Y[ppd] & D\\_PA\\_Y & (:tex,:ppd) & 4.02015 & -0.0 \\\\\n",
       "\t11 & PA[leg]†Y[ppd] & D\\_PA\\_Y & (:leg,:ppd) & 0.961713 & -0.0 \\\\\n",
       "\t12 & PA[uti]†Y[ppd] & D\\_PA\\_Y & (:uti,:ppd) & 5.27888 & -0.0 \\\\\n",
       "\t13 & PA[nmp]†Y[ppd] & D\\_PA\\_Y & (:nmp,:ppd) & 0.53194 & -0.0 \\\\\n",
       "\t14 & PA[brd]†Y[ppd] & D\\_PA\\_Y & (:brd,:ppd) & 0.235688 & -0.0 \\\\\n",
       "\t15 & PA[bnk]†Y[ppd] & D\\_PA\\_Y & (:bnk,:ppd) & 0.246231 & -0.0 \\\\\n",
       "\t16 & PA[ore]†Y[ppd] & D\\_PA\\_Y & (:ore,:ppd) & 0.81594 & -0.0 \\\\\n",
       "\t17 & PA[man]†Y[ppd] & D\\_PA\\_Y & (:man,:ppd) & 3.18347 & -0.0 \\\\\n",
       "\t18 & PA[mch]†Y[ppd] & D\\_PA\\_Y & (:mch,:ppd) & 0.871911 & -0.0 \\\\\n",
       "\t19 & PA[dat]†Y[ppd] & D\\_PA\\_Y & (:dat,:ppd) & 0.612091 & -0.0 \\\\\n",
       "\t20 & PA[amd]†Y[ppd] & D\\_PA\\_Y & (:amd,:ppd) & 0.108319 & -0.0 \\\\\n",
       "\t21 & PA[rnt]†Y[ppd] & D\\_PA\\_Y & (:rnt,:ppd) & 0.735206 & -0.0 \\\\\n",
       "\t22 & PA[pla]†Y[ppd] & D\\_PA\\_Y & (:pla,:ppd) & 3.58824 & -0.0 \\\\\n",
       "\t23 & PA[fof]†Y[ppd] & D\\_PA\\_Y & (:fof,:ppd) & 7.72094 & -0.0 \\\\\n",
       "\t24 & PA[tsv]†Y[ppd] & D\\_PA\\_Y & (:tsv,:ppd) & 3.53093 & -0.0 \\\\\n",
       "\t$\\dots$ & $\\dots$ & $\\dots$ & $\\dots$ & $\\dots$ & $\\dots$ \\\\\n",
       "\\end{tabular}\n"
      ],
      "text/plain": [
       "\u001b[1m4926×5 DataFrame\u001b[0m\n",
       "\u001b[1m  Row \u001b[0m│\u001b[1m var_name       \u001b[0m\u001b[1m var     \u001b[0m\u001b[1m domain      \u001b[0m\u001b[1m value        \u001b[0m\u001b[1m margin  \u001b[0m\n",
       "      │\u001b[90m String         \u001b[0m\u001b[90m String  \u001b[0m\u001b[90m String      \u001b[0m\u001b[90m Float64      \u001b[0m\u001b[90m Float64 \u001b[0m\n",
       "──────┼─────────────────────────────────────────────────────────────\n",
       "    1 │ PA[ppd]†Y[ppd]  D_PA_Y   (:ppd,:ppd)   43.8969         -0.0\n",
       "    2 │ PA[res]†Y[ppd]  D_PA_Y   (:res,:ppd)    0.162683       -0.0\n",
       "    3 │ PA[com]†Y[ppd]  D_PA_Y   (:com,:ppd)    0.197119       -0.0\n",
       "    4 │ PA[fbp]†Y[ppd]  D_PA_Y   (:fbp,:ppd)    1.66646        -0.0\n",
       "    5 │ PA[rec]†Y[ppd]  D_PA_Y   (:rec,:ppd)    0.00511639     -0.0\n",
       "    6 │ PA[con]†Y[ppd]  D_PA_Y   (:con,:ppd)    0.668667       -0.0\n",
       "    7 │ PA[eec]†Y[ppd]  D_PA_Y   (:eec,:ppd)    0.454946       -0.0\n",
       "    8 │ PA[pub]†Y[ppd]  D_PA_Y   (:pub,:ppd)    0.00411802     -0.0\n",
       "  ⋮   │       ⋮            ⋮          ⋮            ⋮           ⋮\n",
       " 4920 │ PFX‡A[wrh]      S_PFX_A  (:wrh,)        0.167415        0.0\n",
       " 4921 │ PFX‡A[ott]      S_PFX_A  (:ott,)        0.0             0.0\n",
       " 4922 │ PFX‡A[che]      S_PFX_A  (:che,)      186.063           0.0\n",
       " 4923 │ PFX‡A[air]      S_PFX_A  (:air,)       44.2125          0.0\n",
       " 4924 │ PFX‡A[mmf]      S_PFX_A  (:mmf,)       45.7569          0.0\n",
       " 4925 │ PFX‡A[otr]      S_PFX_A  (:otr,)       10.4011          0.0\n",
       " 4926 │ PFX‡A[min]      S_PFX_A  (:min,)       17.7762          0.0\n",
       "\u001b[36m                                                   4911 rows omitted\u001b[0m"
      ]
     },
     "metadata": {},
     "output_type": "display_data"
    }
   ],
   "source": [
    "df"
   ]
  },
  {
   "cell_type": "code",
   "execution_count": null,
   "metadata": {},
   "outputs": [],
   "source": []
  }
 ],
 "metadata": {
  "kernelspec": {
   "display_name": "Julia 1.9.4",
   "language": "julia",
   "name": "julia-1.9"
  },
  "language_info": {
   "file_extension": ".jl",
   "mimetype": "application/julia",
   "name": "julia",
   "version": "1.9.4"
  }
 },
 "nbformat": 4,
 "nbformat_minor": 2
}
