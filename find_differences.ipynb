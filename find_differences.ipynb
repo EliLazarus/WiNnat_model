{
 "cells": [
  {
   "cell_type": "code",
   "execution_count": 10,
   "metadata": {},
   "outputs": [],
   "source": [
    "using DataFrames\n",
    "using CSV"
   ]
  },
  {
   "cell_type": "code",
   "execution_count": 2,
   "metadata": {},
   "outputs": [
    {
     "data": {
      "text/plain": [
       "mean (generic function with 1 method)"
      ]
     },
     "metadata": {},
     "output_type": "display_data"
    }
   ],
   "source": [
    "function mean(x)\n",
    "    sum(x)/length(x)\n",
    "end"
   ]
  },
  {
   "cell_type": "markdown",
   "metadata": {},
   "source": [
    "# Load MPSGE Solutions"
   ]
  },
  {
   "cell_type": "code",
   "execution_count": 66,
   "metadata": {},
   "outputs": [],
   "source": [
    "replace_dict = Dict(\n",
    "    \"Y\" => [r\"^Y\\[\\(:(\\w{3}),\\)]\", s\"\\1\"],\n",
    "    \"A\" => [r\"^A\\[\\(:(\\w{3}),\\)]\", s\"\\1\"],\n",
    "    \"MS\" => [r\"^MS\\[\\(:(\\w{3}),\\)]\", s\"\\1\"],\n",
    "    \"PA\" => [r\"^PA\\[\\(:(\\w{3}),\\)]\", s\"\\1\"],\n",
    "    \"PY\" => [r\"^PY\\[\\(:(\\w{3}),\\)]\", s\"\\1\"],\n",
    "    \"PVA\" => [r\"^PVA\\[\\(:(\\w{6,7}),\\)]\", s\"\\1\"],\n",
    "    \"PM\" => [r\"^PM\\[\\(:(\\w{3}),\\)]\", s\"\\1\"],\n",
    "    #\"PFX\" => [r\"^PFX\", s\"\"],\n",
    "    #\"RA\" => [r\"^RA\", s\"\"],\n",
    "    );\n",
    "\n",
    "d = DataFrame(CSV.File(\"FullReportCounter.csv\",stringtype=String)) |>\n",
    "    x -> transform(x, :margin => (y -> ifelse.(y.==\".\",\"0\",y)) => :margin) |>\n",
    "    x -> transform(x, :margin => (y -> parse.(Float64,y))=>:margin);\n",
    "\n",
    "\n",
    "df_mpsge = DataFrame()\n",
    "\n",
    "for (var,(reg,sub)) in replace_dict\n",
    "    df_ = d |>\n",
    "        x-> filter(:var_name => y -> occursin.(reg ,y),x) |>\n",
    "        x -> transform(x,\n",
    "            :var_name => (y -> replace.(y, reg => sub)) => :domain,\n",
    "            :var_name => (y -> var) => :var\n",
    "        ) |>\n",
    "        x -> select(x, [:var_name,:var,:domain,:value,:margin])\n",
    "    \n",
    "    df_mpsge = vcat(df_mpsge,df_)\n",
    "end\n",
    "\n",
    "df_mpsge = df_mpsge |>\n",
    "    x -> select(x, [:var, :domain, :value]);"
   ]
  },
  {
   "cell_type": "markdown",
   "metadata": {},
   "source": [
    "# Create comparison dataframe"
   ]
  },
  {
   "cell_type": "code",
   "execution_count": 80,
   "metadata": {},
   "outputs": [
    {
     "data": {
      "text/html": [
       "<div><div style = \"float: left;\"><span>290×6 DataFrame</span></div><div style = \"float: right;\"><span style = \"font-style: italic;\">265 rows omitted</span></div><div style = \"clear: both;\"></div></div><div class = \"data-frame\" style = \"overflow-x: scroll;\"><table class = \"data-frame\" style = \"margin-bottom: 6px;\"><thead><tr class = \"header\"><th class = \"rowNumber\" style = \"font-weight: bold; text-align: right;\">Row</th><th style = \"text-align: left;\">var</th><th style = \"text-align: left;\">domain</th><th style = \"text-align: left;\">julia_mpsge</th><th style = \"text-align: left;\">julia_mcp</th><th style = \"text-align: left;\">gams</th><th style = \"text-align: left;\">diff</th></tr><tr class = \"subheader headerLastRow\"><th class = \"rowNumber\" style = \"font-weight: bold; text-align: right;\"></th><th title = \"String\" style = \"text-align: left;\">String</th><th title = \"String\" style = \"text-align: left;\">String</th><th title = \"Union{Missing, Float64}\" style = \"text-align: left;\">Float64?</th><th title = \"Union{Missing, Float64}\" style = \"text-align: left;\">Float64?</th><th title = \"Union{Missing, Float64}\" style = \"text-align: left;\">Float64?</th><th title = \"Union{Missing, Float64}\" style = \"text-align: left;\">Float64?</th></tr></thead><tbody><tr><td class = \"rowNumber\" style = \"font-weight: bold; text-align: right;\">1</td><td style = \"text-align: left;\">PA</td><td style = \"text-align: left;\">fbt</td><td style = \"font-style: italic; text-align: right;\">missing</td><td style = \"text-align: right;\">0.0</td><td style = \"text-align: right;\">1.0</td><td style = \"font-style: italic; text-align: right;\">missing</td></tr><tr><td class = \"rowNumber\" style = \"font-weight: bold; text-align: right;\">2</td><td style = \"text-align: left;\">PA</td><td style = \"text-align: left;\">mvt</td><td style = \"font-style: italic; text-align: right;\">missing</td><td style = \"text-align: right;\">0.0</td><td style = \"text-align: right;\">1.0</td><td style = \"font-style: italic; text-align: right;\">missing</td></tr><tr><td class = \"rowNumber\" style = \"font-weight: bold; text-align: right;\">3</td><td style = \"text-align: left;\">PA</td><td style = \"text-align: left;\">gmt</td><td style = \"font-style: italic; text-align: right;\">missing</td><td style = \"text-align: right;\">0.0</td><td style = \"text-align: right;\">1.0</td><td style = \"font-style: italic; text-align: right;\">missing</td></tr><tr><td class = \"rowNumber\" style = \"font-weight: bold; text-align: right;\">4</td><td style = \"text-align: left;\">A</td><td style = \"text-align: left;\">fbt</td><td style = \"text-align: right;\">1.0</td><td style = \"text-align: right;\">0.0</td><td style = \"text-align: right;\">1.0</td><td style = \"text-align: right;\">1.0</td></tr><tr><td class = \"rowNumber\" style = \"font-weight: bold; text-align: right;\">5</td><td style = \"text-align: left;\">A</td><td style = \"text-align: left;\">mvt</td><td style = \"text-align: right;\">1.0</td><td style = \"text-align: right;\">0.0</td><td style = \"text-align: right;\">1.0</td><td style = \"text-align: right;\">1.0</td></tr><tr><td class = \"rowNumber\" style = \"font-weight: bold; text-align: right;\">6</td><td style = \"text-align: left;\">A</td><td style = \"text-align: left;\">gmt</td><td style = \"text-align: right;\">1.0</td><td style = \"text-align: right;\">0.0</td><td style = \"text-align: right;\">1.0</td><td style = \"text-align: right;\">1.0</td></tr><tr><td class = \"rowNumber\" style = \"font-weight: bold; text-align: right;\">7</td><td style = \"text-align: left;\">Y</td><td style = \"text-align: left;\">gmt</td><td style = \"text-align: right;\">1.02313</td><td style = \"text-align: right;\">1.02311</td><td style = \"text-align: right;\">1.02311</td><td style = \"text-align: right;\">2.16517e-5</td></tr><tr><td class = \"rowNumber\" style = \"font-weight: bold; text-align: right;\">8</td><td style = \"text-align: left;\">Y</td><td style = \"text-align: left;\">wrh</td><td style = \"text-align: right;\">1.01945</td><td style = \"text-align: right;\">1.01943</td><td style = \"text-align: right;\">1.01943</td><td style = \"text-align: right;\">1.84962e-5</td></tr><tr><td class = \"rowNumber\" style = \"font-weight: bold; text-align: right;\">9</td><td style = \"text-align: left;\">Y</td><td style = \"text-align: left;\">pub</td><td style = \"text-align: right;\">0.995048</td><td style = \"text-align: right;\">0.995058</td><td style = \"text-align: right;\">0.995058</td><td style = \"text-align: right;\">1.04927e-5</td></tr><tr><td class = \"rowNumber\" style = \"font-weight: bold; text-align: right;\">10</td><td style = \"text-align: left;\">Y</td><td style = \"text-align: left;\">fin</td><td style = \"text-align: right;\">0.973034</td><td style = \"text-align: right;\">0.973024</td><td style = \"text-align: right;\">0.973024</td><td style = \"text-align: right;\">9.56236e-6</td></tr><tr><td class = \"rowNumber\" style = \"font-weight: bold; text-align: right;\">11</td><td style = \"text-align: left;\">Y</td><td style = \"text-align: left;\">air</td><td style = \"text-align: right;\">1.08534</td><td style = \"text-align: right;\">1.08535</td><td style = \"text-align: right;\">1.08535</td><td style = \"text-align: right;\">9.28422e-6</td></tr><tr><td class = \"rowNumber\" style = \"font-weight: bold; text-align: right;\">12</td><td style = \"text-align: left;\">Y</td><td style = \"text-align: left;\">com</td><td style = \"text-align: right;\">0.99922</td><td style = \"text-align: right;\">0.999214</td><td style = \"text-align: right;\">0.999214</td><td style = \"text-align: right;\">6.9619e-6</td></tr><tr><td class = \"rowNumber\" style = \"font-weight: bold; text-align: right;\">13</td><td style = \"text-align: left;\">Y</td><td style = \"text-align: left;\">hou</td><td style = \"text-align: right;\">0.946703</td><td style = \"text-align: right;\">0.946697</td><td style = \"text-align: right;\">0.946697</td><td style = \"text-align: right;\">6.05456e-6</td></tr><tr><td style = \"text-align: right;\">&vellip;</td><td style = \"text-align: right;\">&vellip;</td><td style = \"text-align: right;\">&vellip;</td><td style = \"text-align: right;\">&vellip;</td><td style = \"text-align: right;\">&vellip;</td><td style = \"text-align: right;\">&vellip;</td><td style = \"text-align: right;\">&vellip;</td></tr><tr><td class = \"rowNumber\" style = \"font-weight: bold; text-align: right;\">279</td><td style = \"text-align: left;\">PY</td><td style = \"text-align: left;\">fof</td><td style = \"text-align: right;\">0.976274</td><td style = \"text-align: right;\">0.976274</td><td style = \"text-align: right;\">0.976274</td><td style = \"text-align: right;\">2.08978e-10</td></tr><tr><td class = \"rowNumber\" style = \"font-weight: bold; text-align: right;\">280</td><td style = \"text-align: left;\">PY</td><td style = \"text-align: left;\">pub</td><td style = \"text-align: right;\">0.97987</td><td style = \"text-align: right;\">0.97987</td><td style = \"text-align: right;\">0.97987</td><td style = \"text-align: right;\">1.96701e-10</td></tr><tr><td class = \"rowNumber\" style = \"font-weight: bold; text-align: right;\">281</td><td style = \"text-align: left;\">MS</td><td style = \"text-align: left;\">trn</td><td style = \"text-align: right;\">1.02748</td><td style = \"text-align: right;\">1.02748</td><td style = \"text-align: right;\">1.02748</td><td style = \"text-align: right;\">1.82028e-10</td></tr><tr><td class = \"rowNumber\" style = \"font-weight: bold; text-align: right;\">282</td><td style = \"text-align: left;\">PY</td><td style = \"text-align: left;\">che</td><td style = \"text-align: right;\">0.96177</td><td style = \"text-align: right;\">0.96177</td><td style = \"text-align: right;\">0.96177</td><td style = \"text-align: right;\">1.50335e-10</td></tr><tr><td class = \"rowNumber\" style = \"font-weight: bold; text-align: right;\">283</td><td style = \"text-align: left;\">PA</td><td style = \"text-align: left;\">fen</td><td style = \"text-align: right;\">0.977487</td><td style = \"text-align: right;\">0.977487</td><td style = \"text-align: right;\">0.977487</td><td style = \"text-align: right;\">3.18706e-11</td></tr><tr><td class = \"rowNumber\" style = \"font-weight: bold; text-align: right;\">284</td><td style = \"text-align: left;\">A</td><td style = \"text-align: left;\">mch</td><td style = \"text-align: right;\">1.00647</td><td style = \"text-align: right;\">1.00647</td><td style = \"text-align: right;\">1.00647</td><td style = \"text-align: right;\">5.85265e-12</td></tr><tr><td class = \"rowNumber\" style = \"font-weight: bold; text-align: right;\">285</td><td style = \"text-align: left;\">Y</td><td style = \"text-align: left;\">fnd</td><td style = \"text-align: right;\">1.0</td><td style = \"text-align: right;\">1.0</td><td style = \"text-align: right;\">1.0</td><td style = \"text-align: right;\">1.11022e-16</td></tr><tr><td class = \"rowNumber\" style = \"font-weight: bold; text-align: right;\">286</td><td style = \"text-align: left;\">Y</td><td style = \"text-align: left;\">slg</td><td style = \"text-align: right;\">1.0</td><td style = \"text-align: right;\">1.0</td><td style = \"text-align: right;\">1.0</td><td style = \"text-align: right;\">0.0</td></tr><tr><td class = \"rowNumber\" style = \"font-weight: bold; text-align: right;\">287</td><td style = \"text-align: left;\">Y</td><td style = \"text-align: left;\">fdd</td><td style = \"text-align: right;\">1.0</td><td style = \"text-align: right;\">1.0</td><td style = \"text-align: right;\">1.0</td><td style = \"text-align: right;\">0.0</td></tr><tr><td class = \"rowNumber\" style = \"font-weight: bold; text-align: right;\">288</td><td style = \"text-align: left;\">A</td><td style = \"text-align: left;\">fnd</td><td style = \"text-align: right;\">1.0</td><td style = \"text-align: right;\">1.0</td><td style = \"text-align: right;\">1.0</td><td style = \"text-align: right;\">0.0</td></tr><tr><td class = \"rowNumber\" style = \"font-weight: bold; text-align: right;\">289</td><td style = \"text-align: left;\">A</td><td style = \"text-align: left;\">slg</td><td style = \"text-align: right;\">1.0</td><td style = \"text-align: right;\">1.0</td><td style = \"text-align: right;\">1.0</td><td style = \"text-align: right;\">0.0</td></tr><tr><td class = \"rowNumber\" style = \"font-weight: bold; text-align: right;\">290</td><td style = \"text-align: left;\">A</td><td style = \"text-align: left;\">fdd</td><td style = \"text-align: right;\">1.0</td><td style = \"text-align: right;\">1.0</td><td style = \"text-align: right;\">1.0</td><td style = \"text-align: right;\">0.0</td></tr></tbody></table></div>"
      ],
      "text/latex": [
       "\\begin{tabular}{r|cccccc}\n",
       "\t& var & domain & julia\\_mpsge & julia\\_mcp & gams & diff\\\\\n",
       "\t\\hline\n",
       "\t& String & String & Float64? & Float64? & Float64? & Float64?\\\\\n",
       "\t\\hline\n",
       "\t1 & PA & fbt & \\emph{missing} & 0.0 & 1.0 & \\emph{missing} \\\\\n",
       "\t2 & PA & mvt & \\emph{missing} & 0.0 & 1.0 & \\emph{missing} \\\\\n",
       "\t3 & PA & gmt & \\emph{missing} & 0.0 & 1.0 & \\emph{missing} \\\\\n",
       "\t4 & A & fbt & 1.0 & 0.0 & 1.0 & 1.0 \\\\\n",
       "\t5 & A & mvt & 1.0 & 0.0 & 1.0 & 1.0 \\\\\n",
       "\t6 & A & gmt & 1.0 & 0.0 & 1.0 & 1.0 \\\\\n",
       "\t7 & Y & gmt & 1.02313 & 1.02311 & 1.02311 & 2.16517e-5 \\\\\n",
       "\t8 & Y & wrh & 1.01945 & 1.01943 & 1.01943 & 1.84962e-5 \\\\\n",
       "\t9 & Y & pub & 0.995048 & 0.995058 & 0.995058 & 1.04927e-5 \\\\\n",
       "\t10 & Y & fin & 0.973034 & 0.973024 & 0.973024 & 9.56236e-6 \\\\\n",
       "\t11 & Y & air & 1.08534 & 1.08535 & 1.08535 & 9.28422e-6 \\\\\n",
       "\t12 & Y & com & 0.99922 & 0.999214 & 0.999214 & 6.9619e-6 \\\\\n",
       "\t13 & Y & hou & 0.946703 & 0.946697 & 0.946697 & 6.05456e-6 \\\\\n",
       "\t14 & Y & bnk & 0.981981 & 0.981977 & 0.981977 & 4.4936e-6 \\\\\n",
       "\t15 & Y & alt & 0.849287 & 0.849291 & 0.849291 & 4.29521e-6 \\\\\n",
       "\t16 & Y & cep & 0.985271 & 0.985267 & 0.985267 & 3.85186e-6 \\\\\n",
       "\t17 & Y & tex & 0.987751 & 0.987755 & 0.987755 & 3.54656e-6 \\\\\n",
       "\t18 & Y & pri & 1.00377 & 1.00377 & 1.00377 & 2.27513e-6 \\\\\n",
       "\t19 & Y & ins & 0.995267 & 0.995264 & 0.995264 & 2.24756e-6 \\\\\n",
       "\t20 & Y & fen & 1.00421 & 1.00421 & 1.00421 & 1.92917e-6 \\\\\n",
       "\t21 & Y & min & 1.0168 & 1.0168 & 1.0168 & 1.81824e-6 \\\\\n",
       "\t22 & Y & mmf & 0.996971 & 0.99697 & 0.99697 & 1.51747e-6 \\\\\n",
       "\t23 & Y & res & 1.03916 & 1.03916 & 1.03916 & 1.38023e-6 \\\\\n",
       "\t24 & Y & wtt & 1.0155 & 1.0155 & 1.0155 & 1.0346e-6 \\\\\n",
       "\t$\\dots$ & $\\dots$ & $\\dots$ & $\\dots$ & $\\dots$ & $\\dots$ & $\\dots$ \\\\\n",
       "\\end{tabular}\n"
      ],
      "text/plain": [
       "\u001b[1m290×6 DataFrame\u001b[0m\n",
       "\u001b[1m Row \u001b[0m│\u001b[1m var    \u001b[0m\u001b[1m domain \u001b[0m\u001b[1m julia_mpsge    \u001b[0m\u001b[1m julia_mcp \u001b[0m\u001b[1m gams     \u001b[0m\u001b[1m diff              \u001b[0m\n",
       "     │\u001b[90m String \u001b[0m\u001b[90m String \u001b[0m\u001b[90m Float64?       \u001b[0m\u001b[90m Float64?  \u001b[0m\u001b[90m Float64? \u001b[0m\u001b[90m Float64?          \u001b[0m\n",
       "─────┼────────────────────────────────────────────────────────────────────────\n",
       "   1 │ PA      fbt    \u001b[90m missing        \u001b[0m  0.0       1.0      \u001b[90m missing           \u001b[0m\n",
       "   2 │ PA      mvt    \u001b[90m missing        \u001b[0m  0.0       1.0      \u001b[90m missing           \u001b[0m\n",
       "   3 │ PA      gmt    \u001b[90m missing        \u001b[0m  0.0       1.0      \u001b[90m missing           \u001b[0m\n",
       "   4 │ A       fbt           1.0        0.0       1.0             1.0\n",
       "   5 │ A       mvt           1.0        0.0       1.0             1.0\n",
       "   6 │ A       gmt           1.0        0.0       1.0             1.0\n",
       "   7 │ Y       gmt           1.02313    1.02311   1.02311         2.16517e-5\n",
       "   8 │ Y       wrh           1.01945    1.01943   1.01943         1.84962e-5\n",
       "  ⋮  │   ⋮       ⋮           ⋮             ⋮         ⋮              ⋮\n",
       " 284 │ A       mch           1.00647    1.00647   1.00647         5.85265e-12\n",
       " 285 │ Y       fnd           1.0        1.0       1.0             1.11022e-16\n",
       " 286 │ Y       slg           1.0        1.0       1.0             0.0\n",
       " 287 │ Y       fdd           1.0        1.0       1.0             0.0\n",
       " 288 │ A       fnd           1.0        1.0       1.0             0.0\n",
       " 289 │ A       slg           1.0        1.0       1.0             0.0\n",
       " 290 │ A       fdd           1.0        1.0       1.0             0.0\n",
       "\u001b[36m                                                              275 rows omitted\u001b[0m"
      ]
     },
     "metadata": {},
     "output_type": "display_data"
    }
   ],
   "source": [
    "df_mcp = DataFrame(CSV.File(\"national_sols_julia_mcp.csv\",stringtype=String))\n",
    "    \n",
    "df = DataFrame(CSV.File(\"national_sols_gams.csv\",stringtype=String)) |>\n",
    "    x -> dropmissing(x) |>\n",
    "    x -> outerjoin(df_mpsge,df_mcp,x, on = [:var,:domain],makeunique=true) |>\n",
    "    x -> rename(x, :value => :julia_mpsge, :value_1 => :julia_mcp, :value_2 => :gams) |>\n",
    "    x -> transform(x, [:julia_mpsge,:julia_mcp] => ((a,b) -> abs.(a-b)) => :diff) |>\n",
    "    #x -> filter(:julia_mcp => y -> !ismissing(y) && y !=0 , x) |>\n",
    "    x -> sort(x,:diff;rev=true)"
   ]
  },
  {
   "cell_type": "code",
   "execution_count": null,
   "metadata": {},
   "outputs": [],
   "source": [
    ";"
   ]
  },
  {
   "cell_type": "code",
   "execution_count": null,
   "metadata": {},
   "outputs": [],
   "source": []
  },
  {
   "cell_type": "markdown",
   "metadata": {},
   "source": [
    "# Full Julia MPSGE Solution"
   ]
  },
  {
   "cell_type": "code",
   "execution_count": 71,
   "metadata": {},
   "outputs": [],
   "source": [
    "replace_dict = Dict(\n",
    "    \"Y\" => [r\"^Y\\[\\(:(\\w{3}),\\)]\", s\"(:\\1,)\"],\n",
    "    \"A\" => [r\"^A\\[\\(:(\\w{3}),\\)]\", s\"(:\\1,)\"],\n",
    "    \"MS\" => [r\"^MS\\[\\(:(\\w{3}),\\)]\", s\"(:\\1,)\"],\n",
    "    \"PA\" => [r\"^PA\\[\\(:(\\w{3}),\\)]\", s\"(:\\1,)\"],\n",
    "    \"PY\" => [r\"^PY\\[\\(:(\\w{3}),\\)]\", s\"(:\\1,)\"],\n",
    "    \"PVA\" => [r\"^PVA\\[\\(:(\\w{6,7}),\\)]\", s\"(:\\1,)\"],\n",
    "    \"PM\" => [r\"^PM\\[\\(:(\\w{3}),\\)]\", s\"(:\\1,)\"],\n",
    "    \"PFX\" => [r\"^PFX\", s\"\"],\n",
    "    \"RA\" => [r\"^RA\", s\"\"],\n",
    "    \"C\" => [r\"^PA\\[(\\w{3})\\]ρRA\", s\"(:\\1,)\"],\n",
    "    \"S_PY_Y\" => [r\"^PY\\[(\\w{3})\\]‡Y\\[(\\w{3})\\]\", s\"(:\\1,:\\2)\"],\n",
    "    \"D_PA_Y\" => [r\"^PA\\[(\\w{3})\\]†Y\\[(\\w{3})\\]\", s\"(:\\1,:\\2)\"],\n",
    "    \"D_PVA_Y\" => [r\"^PVA\\[(\\w{3})\\]†Y→VA(\\w{3})\", s\"(:\\1,:\\2)\"],\n",
    "    \"S_PM_MS\" => [r\"^PM\\[(\\w{3})\\]‡MS\\[(\\w{3})\\]\", s\"(:\\1,:\\2)\"],\n",
    "    \"D_PY_MS\" => [r\"^PY\\[(\\w{3})\\]†MS\\[(\\w{3})\\]\", s\"(:\\1,:\\2)\"],\n",
    "    \"S_PA_A\" => [r\"^PA\\[(\\w{3})\\]‡A\\[(\\w{3})\\]\", s\"(:\\1,:\\2)\"],\n",
    "    \"S_PFX_A\" => [r\"^PFX‡A\\[(\\w{3})\\]\", s\"(:\\1,)\"],\n",
    "    \"D_PY_A\" => [r\"^PY\\[(\\w{3})\\]†A→dm(\\w{3})\", s\"(:\\1,:\\2)\"],\n",
    "    \"D_PFX_A\" => [r\"^PFX†A→dm(\\w{3})\", s\"(:\\1,)\"],\n",
    "    \"D_PM_A\" => [r\"^PM\\[(\\w{3})\\]†A\\[(\\w{3})\\]\", s\"(:\\1,:\\2)\"],\n",
    "    );"
   ]
  },
  {
   "cell_type": "code",
   "execution_count": 72,
   "metadata": {},
   "outputs": [],
   "source": [
    "d = DataFrame(CSV.File(\"FullReportCounter.csv\",stringtype=String)) |>\n",
    "    x -> transform(x, :margin => (y -> ifelse.(y.==\".\",\"0\",y)) => :margin) |>\n",
    "    x -> transform(x, :margin => (y -> parse.(Float64,y))=>:margin);"
   ]
  },
  {
   "cell_type": "code",
   "execution_count": 73,
   "metadata": {},
   "outputs": [],
   "source": [
    "\n",
    "df = DataFrame()\n",
    "\n",
    "for (var,(reg,sub)) in replace_dict\n",
    "    df_ = d |>\n",
    "        x-> filter(:var_name => y -> occursin.(reg ,y),x) |>\n",
    "        x -> transform(x,\n",
    "            :var_name => (y -> replace.(y, reg => sub)) => :domain,\n",
    "            :var_name => (y -> var) => :var\n",
    "        ) |>\n",
    "        x -> select(x, [:var_name,:var,:domain,:value,:margin])\n",
    "    \n",
    "    df = vcat(df,df_)\n",
    "end"
   ]
  },
  {
   "cell_type": "code",
   "execution_count": 74,
   "metadata": {},
   "outputs": [
    {
     "data": {
      "text/html": [
       "<div><div style = \"float: left;\"><span>4926×5 DataFrame</span></div><div style = \"float: right;\"><span style = \"font-style: italic;\">4901 rows omitted</span></div><div style = \"clear: both;\"></div></div><div class = \"data-frame\" style = \"overflow-x: scroll;\"><table class = \"data-frame\" style = \"margin-bottom: 6px;\"><thead><tr class = \"header\"><th class = \"rowNumber\" style = \"font-weight: bold; text-align: right;\">Row</th><th style = \"text-align: left;\">var_name</th><th style = \"text-align: left;\">var</th><th style = \"text-align: left;\">domain</th><th style = \"text-align: left;\">value</th><th style = \"text-align: left;\">margin</th></tr><tr class = \"subheader headerLastRow\"><th class = \"rowNumber\" style = \"font-weight: bold; text-align: right;\"></th><th title = \"String\" style = \"text-align: left;\">String</th><th title = \"String\" style = \"text-align: left;\">String</th><th title = \"String\" style = \"text-align: left;\">String</th><th title = \"Float64\" style = \"text-align: left;\">Float64</th><th title = \"Float64\" style = \"text-align: left;\">Float64</th></tr></thead><tbody><tr><td class = \"rowNumber\" style = \"font-weight: bold; text-align: right;\">1</td><td style = \"text-align: left;\">PA[ppd]†Y[ppd]</td><td style = \"text-align: left;\">D_PA_Y</td><td style = \"text-align: left;\">(:ppd,:ppd)</td><td style = \"text-align: right;\">43.8969</td><td style = \"text-align: right;\">-0.0</td></tr><tr><td class = \"rowNumber\" style = \"font-weight: bold; text-align: right;\">2</td><td style = \"text-align: left;\">PA[res]†Y[ppd]</td><td style = \"text-align: left;\">D_PA_Y</td><td style = \"text-align: left;\">(:res,:ppd)</td><td style = \"text-align: right;\">0.162683</td><td style = \"text-align: right;\">-0.0</td></tr><tr><td class = \"rowNumber\" style = \"font-weight: bold; text-align: right;\">3</td><td style = \"text-align: left;\">PA[com]†Y[ppd]</td><td style = \"text-align: left;\">D_PA_Y</td><td style = \"text-align: left;\">(:com,:ppd)</td><td style = \"text-align: right;\">0.197119</td><td style = \"text-align: right;\">-0.0</td></tr><tr><td class = \"rowNumber\" style = \"font-weight: bold; text-align: right;\">4</td><td style = \"text-align: left;\">PA[fbp]†Y[ppd]</td><td style = \"text-align: left;\">D_PA_Y</td><td style = \"text-align: left;\">(:fbp,:ppd)</td><td style = \"text-align: right;\">1.66646</td><td style = \"text-align: right;\">-0.0</td></tr><tr><td class = \"rowNumber\" style = \"font-weight: bold; text-align: right;\">5</td><td style = \"text-align: left;\">PA[rec]†Y[ppd]</td><td style = \"text-align: left;\">D_PA_Y</td><td style = \"text-align: left;\">(:rec,:ppd)</td><td style = \"text-align: right;\">0.00511639</td><td style = \"text-align: right;\">-0.0</td></tr><tr><td class = \"rowNumber\" style = \"font-weight: bold; text-align: right;\">6</td><td style = \"text-align: left;\">PA[con]†Y[ppd]</td><td style = \"text-align: left;\">D_PA_Y</td><td style = \"text-align: left;\">(:con,:ppd)</td><td style = \"text-align: right;\">0.668667</td><td style = \"text-align: right;\">-0.0</td></tr><tr><td class = \"rowNumber\" style = \"font-weight: bold; text-align: right;\">7</td><td style = \"text-align: left;\">PA[eec]†Y[ppd]</td><td style = \"text-align: left;\">D_PA_Y</td><td style = \"text-align: left;\">(:eec,:ppd)</td><td style = \"text-align: right;\">0.454946</td><td style = \"text-align: right;\">-0.0</td></tr><tr><td class = \"rowNumber\" style = \"font-weight: bold; text-align: right;\">8</td><td style = \"text-align: left;\">PA[pub]†Y[ppd]</td><td style = \"text-align: left;\">D_PA_Y</td><td style = \"text-align: left;\">(:pub,:ppd)</td><td style = \"text-align: right;\">0.00411802</td><td style = \"text-align: right;\">-0.0</td></tr><tr><td class = \"rowNumber\" style = \"font-weight: bold; text-align: right;\">9</td><td style = \"text-align: left;\">PA[ins]†Y[ppd]</td><td style = \"text-align: left;\">D_PA_Y</td><td style = \"text-align: left;\">(:ins,:ppd)</td><td style = \"text-align: right;\">0.234656</td><td style = \"text-align: right;\">-0.0</td></tr><tr><td class = \"rowNumber\" style = \"font-weight: bold; text-align: right;\">10</td><td style = \"text-align: left;\">PA[tex]†Y[ppd]</td><td style = \"text-align: left;\">D_PA_Y</td><td style = \"text-align: left;\">(:tex,:ppd)</td><td style = \"text-align: right;\">4.02015</td><td style = \"text-align: right;\">-0.0</td></tr><tr><td class = \"rowNumber\" style = \"font-weight: bold; text-align: right;\">11</td><td style = \"text-align: left;\">PA[leg]†Y[ppd]</td><td style = \"text-align: left;\">D_PA_Y</td><td style = \"text-align: left;\">(:leg,:ppd)</td><td style = \"text-align: right;\">0.961713</td><td style = \"text-align: right;\">-0.0</td></tr><tr><td class = \"rowNumber\" style = \"font-weight: bold; text-align: right;\">12</td><td style = \"text-align: left;\">PA[uti]†Y[ppd]</td><td style = \"text-align: left;\">D_PA_Y</td><td style = \"text-align: left;\">(:uti,:ppd)</td><td style = \"text-align: right;\">5.27888</td><td style = \"text-align: right;\">-0.0</td></tr><tr><td class = \"rowNumber\" style = \"font-weight: bold; text-align: right;\">13</td><td style = \"text-align: left;\">PA[nmp]†Y[ppd]</td><td style = \"text-align: left;\">D_PA_Y</td><td style = \"text-align: left;\">(:nmp,:ppd)</td><td style = \"text-align: right;\">0.53194</td><td style = \"text-align: right;\">-0.0</td></tr><tr><td style = \"text-align: right;\">&vellip;</td><td style = \"text-align: right;\">&vellip;</td><td style = \"text-align: right;\">&vellip;</td><td style = \"text-align: right;\">&vellip;</td><td style = \"text-align: right;\">&vellip;</td><td style = \"text-align: right;\">&vellip;</td></tr><tr><td class = \"rowNumber\" style = \"font-weight: bold; text-align: right;\">4915</td><td style = \"text-align: left;\">PFX‡A[trk]</td><td style = \"text-align: left;\">S_PFX_A</td><td style = \"text-align: left;\">(:trk,)</td><td style = \"text-align: right;\">1.70113</td><td style = \"text-align: right;\">0.0</td></tr><tr><td class = \"rowNumber\" style = \"font-weight: bold; text-align: right;\">4916</td><td style = \"text-align: left;\">PFX‡A[fdd]</td><td style = \"text-align: left;\">S_PFX_A</td><td style = \"text-align: left;\">(:fdd,)</td><td style = \"text-align: right;\">0.0</td><td style = \"text-align: right;\">0.0</td></tr><tr><td class = \"rowNumber\" style = \"font-weight: bold; text-align: right;\">4917</td><td style = \"text-align: left;\">PFX‡A[wtt]</td><td style = \"text-align: left;\">S_PFX_A</td><td style = \"text-align: left;\">(:wtt,)</td><td style = \"text-align: right;\">5.02542</td><td style = \"text-align: right;\">0.0</td></tr><tr><td class = \"rowNumber\" style = \"font-weight: bold; text-align: right;\">4918</td><td style = \"text-align: left;\">PFX‡A[wpd]</td><td style = \"text-align: left;\">S_PFX_A</td><td style = \"text-align: left;\">(:wpd,)</td><td style = \"text-align: right;\">7.16839</td><td style = \"text-align: right;\">0.0</td></tr><tr><td class = \"rowNumber\" style = \"font-weight: bold; text-align: right;\">4919</td><td style = \"text-align: left;\">PFX‡A[wht]</td><td style = \"text-align: left;\">S_PFX_A</td><td style = \"text-align: left;\">(:wht,)</td><td style = \"text-align: right;\">2.38048</td><td style = \"text-align: right;\">0.0</td></tr><tr><td class = \"rowNumber\" style = \"font-weight: bold; text-align: right;\">4920</td><td style = \"text-align: left;\">PFX‡A[wrh]</td><td style = \"text-align: left;\">S_PFX_A</td><td style = \"text-align: left;\">(:wrh,)</td><td style = \"text-align: right;\">0.167415</td><td style = \"text-align: right;\">0.0</td></tr><tr><td class = \"rowNumber\" style = \"font-weight: bold; text-align: right;\">4921</td><td style = \"text-align: left;\">PFX‡A[ott]</td><td style = \"text-align: left;\">S_PFX_A</td><td style = \"text-align: left;\">(:ott,)</td><td style = \"text-align: right;\">0.0</td><td style = \"text-align: right;\">0.0</td></tr><tr><td class = \"rowNumber\" style = \"font-weight: bold; text-align: right;\">4922</td><td style = \"text-align: left;\">PFX‡A[che]</td><td style = \"text-align: left;\">S_PFX_A</td><td style = \"text-align: left;\">(:che,)</td><td style = \"text-align: right;\">186.063</td><td style = \"text-align: right;\">0.0</td></tr><tr><td class = \"rowNumber\" style = \"font-weight: bold; text-align: right;\">4923</td><td style = \"text-align: left;\">PFX‡A[air]</td><td style = \"text-align: left;\">S_PFX_A</td><td style = \"text-align: left;\">(:air,)</td><td style = \"text-align: right;\">44.2125</td><td style = \"text-align: right;\">0.0</td></tr><tr><td class = \"rowNumber\" style = \"font-weight: bold; text-align: right;\">4924</td><td style = \"text-align: left;\">PFX‡A[mmf]</td><td style = \"text-align: left;\">S_PFX_A</td><td style = \"text-align: left;\">(:mmf,)</td><td style = \"text-align: right;\">45.7569</td><td style = \"text-align: right;\">0.0</td></tr><tr><td class = \"rowNumber\" style = \"font-weight: bold; text-align: right;\">4925</td><td style = \"text-align: left;\">PFX‡A[otr]</td><td style = \"text-align: left;\">S_PFX_A</td><td style = \"text-align: left;\">(:otr,)</td><td style = \"text-align: right;\">10.4011</td><td style = \"text-align: right;\">0.0</td></tr><tr><td class = \"rowNumber\" style = \"font-weight: bold; text-align: right;\">4926</td><td style = \"text-align: left;\">PFX‡A[min]</td><td style = \"text-align: left;\">S_PFX_A</td><td style = \"text-align: left;\">(:min,)</td><td style = \"text-align: right;\">17.7762</td><td style = \"text-align: right;\">0.0</td></tr></tbody></table></div>"
      ],
      "text/latex": [
       "\\begin{tabular}{r|ccccc}\n",
       "\t& var\\_name & var & domain & value & margin\\\\\n",
       "\t\\hline\n",
       "\t& String & String & String & Float64 & Float64\\\\\n",
       "\t\\hline\n",
       "\t1 & PA[ppd]†Y[ppd] & D\\_PA\\_Y & (:ppd,:ppd) & 43.8969 & -0.0 \\\\\n",
       "\t2 & PA[res]†Y[ppd] & D\\_PA\\_Y & (:res,:ppd) & 0.162683 & -0.0 \\\\\n",
       "\t3 & PA[com]†Y[ppd] & D\\_PA\\_Y & (:com,:ppd) & 0.197119 & -0.0 \\\\\n",
       "\t4 & PA[fbp]†Y[ppd] & D\\_PA\\_Y & (:fbp,:ppd) & 1.66646 & -0.0 \\\\\n",
       "\t5 & PA[rec]†Y[ppd] & D\\_PA\\_Y & (:rec,:ppd) & 0.00511639 & -0.0 \\\\\n",
       "\t6 & PA[con]†Y[ppd] & D\\_PA\\_Y & (:con,:ppd) & 0.668667 & -0.0 \\\\\n",
       "\t7 & PA[eec]†Y[ppd] & D\\_PA\\_Y & (:eec,:ppd) & 0.454946 & -0.0 \\\\\n",
       "\t8 & PA[pub]†Y[ppd] & D\\_PA\\_Y & (:pub,:ppd) & 0.00411802 & -0.0 \\\\\n",
       "\t9 & PA[ins]†Y[ppd] & D\\_PA\\_Y & (:ins,:ppd) & 0.234656 & -0.0 \\\\\n",
       "\t10 & PA[tex]†Y[ppd] & D\\_PA\\_Y & (:tex,:ppd) & 4.02015 & -0.0 \\\\\n",
       "\t11 & PA[leg]†Y[ppd] & D\\_PA\\_Y & (:leg,:ppd) & 0.961713 & -0.0 \\\\\n",
       "\t12 & PA[uti]†Y[ppd] & D\\_PA\\_Y & (:uti,:ppd) & 5.27888 & -0.0 \\\\\n",
       "\t13 & PA[nmp]†Y[ppd] & D\\_PA\\_Y & (:nmp,:ppd) & 0.53194 & -0.0 \\\\\n",
       "\t14 & PA[brd]†Y[ppd] & D\\_PA\\_Y & (:brd,:ppd) & 0.235688 & -0.0 \\\\\n",
       "\t15 & PA[bnk]†Y[ppd] & D\\_PA\\_Y & (:bnk,:ppd) & 0.246231 & -0.0 \\\\\n",
       "\t16 & PA[ore]†Y[ppd] & D\\_PA\\_Y & (:ore,:ppd) & 0.81594 & -0.0 \\\\\n",
       "\t17 & PA[man]†Y[ppd] & D\\_PA\\_Y & (:man,:ppd) & 3.18347 & -0.0 \\\\\n",
       "\t18 & PA[mch]†Y[ppd] & D\\_PA\\_Y & (:mch,:ppd) & 0.871911 & -0.0 \\\\\n",
       "\t19 & PA[dat]†Y[ppd] & D\\_PA\\_Y & (:dat,:ppd) & 0.612091 & -0.0 \\\\\n",
       "\t20 & PA[amd]†Y[ppd] & D\\_PA\\_Y & (:amd,:ppd) & 0.108319 & -0.0 \\\\\n",
       "\t21 & PA[rnt]†Y[ppd] & D\\_PA\\_Y & (:rnt,:ppd) & 0.735206 & -0.0 \\\\\n",
       "\t22 & PA[pla]†Y[ppd] & D\\_PA\\_Y & (:pla,:ppd) & 3.58824 & -0.0 \\\\\n",
       "\t23 & PA[fof]†Y[ppd] & D\\_PA\\_Y & (:fof,:ppd) & 7.72094 & -0.0 \\\\\n",
       "\t24 & PA[tsv]†Y[ppd] & D\\_PA\\_Y & (:tsv,:ppd) & 3.53093 & -0.0 \\\\\n",
       "\t$\\dots$ & $\\dots$ & $\\dots$ & $\\dots$ & $\\dots$ & $\\dots$ \\\\\n",
       "\\end{tabular}\n"
      ],
      "text/plain": [
       "\u001b[1m4926×5 DataFrame\u001b[0m\n",
       "\u001b[1m  Row \u001b[0m│\u001b[1m var_name       \u001b[0m\u001b[1m var     \u001b[0m\u001b[1m domain      \u001b[0m\u001b[1m value        \u001b[0m\u001b[1m margin  \u001b[0m\n",
       "      │\u001b[90m String         \u001b[0m\u001b[90m String  \u001b[0m\u001b[90m String      \u001b[0m\u001b[90m Float64      \u001b[0m\u001b[90m Float64 \u001b[0m\n",
       "──────┼─────────────────────────────────────────────────────────────\n",
       "    1 │ PA[ppd]†Y[ppd]  D_PA_Y   (:ppd,:ppd)   43.8969         -0.0\n",
       "    2 │ PA[res]†Y[ppd]  D_PA_Y   (:res,:ppd)    0.162683       -0.0\n",
       "    3 │ PA[com]†Y[ppd]  D_PA_Y   (:com,:ppd)    0.197119       -0.0\n",
       "    4 │ PA[fbp]†Y[ppd]  D_PA_Y   (:fbp,:ppd)    1.66646        -0.0\n",
       "    5 │ PA[rec]†Y[ppd]  D_PA_Y   (:rec,:ppd)    0.00511639     -0.0\n",
       "    6 │ PA[con]†Y[ppd]  D_PA_Y   (:con,:ppd)    0.668667       -0.0\n",
       "    7 │ PA[eec]†Y[ppd]  D_PA_Y   (:eec,:ppd)    0.454946       -0.0\n",
       "    8 │ PA[pub]†Y[ppd]  D_PA_Y   (:pub,:ppd)    0.00411802     -0.0\n",
       "  ⋮   │       ⋮            ⋮          ⋮            ⋮           ⋮\n",
       " 4920 │ PFX‡A[wrh]      S_PFX_A  (:wrh,)        0.167415        0.0\n",
       " 4921 │ PFX‡A[ott]      S_PFX_A  (:ott,)        0.0             0.0\n",
       " 4922 │ PFX‡A[che]      S_PFX_A  (:che,)      186.063           0.0\n",
       " 4923 │ PFX‡A[air]      S_PFX_A  (:air,)       44.2125          0.0\n",
       " 4924 │ PFX‡A[mmf]      S_PFX_A  (:mmf,)       45.7569          0.0\n",
       " 4925 │ PFX‡A[otr]      S_PFX_A  (:otr,)       10.4011          0.0\n",
       " 4926 │ PFX‡A[min]      S_PFX_A  (:min,)       17.7762          0.0\n",
       "\u001b[36m                                                   4911 rows omitted\u001b[0m"
      ]
     },
     "metadata": {},
     "output_type": "display_data"
    }
   ],
   "source": [
    "df"
   ]
  },
  {
   "cell_type": "code",
   "execution_count": null,
   "metadata": {},
   "outputs": [],
   "source": []
  }
 ],
 "metadata": {
  "kernelspec": {
   "display_name": "Julia 1.9.2",
   "language": "julia",
   "name": "julia-1.9"
  },
  "language_info": {
   "file_extension": ".jl",
   "mimetype": "application/julia",
   "name": "julia",
   "version": "1.9.2"
  }
 },
 "nbformat": 4,
 "nbformat_minor": 2
}
