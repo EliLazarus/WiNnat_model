{
 "cells": [
  {
   "cell_type": "code",
   "execution_count": 1,
   "metadata": {},
   "outputs": [],
   "source": [
    "using DataFrames\n",
    "using CSV"
   ]
  },
  {
   "cell_type": "code",
   "execution_count": 2,
   "metadata": {},
   "outputs": [
    {
     "data": {
      "text/plain": [
       "mean (generic function with 1 method)"
      ]
     },
     "metadata": {},
     "output_type": "display_data"
    }
   ],
   "source": [
    "function mean(x)\n",
    "    sum(x)/length(x)\n",
    "end"
   ]
  },
  {
   "cell_type": "markdown",
   "metadata": {},
   "source": [
    "# Load MPSGE.jl Solutions"
   ]
  },
  {
   "cell_type": "code",
   "execution_count": 6,
   "metadata": {},
   "outputs": [
    {
     "data": {
      "text/html": [
       "<div><div style = \"float: left;\"><span>286×3 DataFrame</span></div><div style = \"float: right;\"><span style = \"font-style: italic;\">261 rows omitted</span></div><div style = \"clear: both;\"></div></div><div class = \"data-frame\" style = \"overflow-x: scroll;\"><table class = \"data-frame\" style = \"margin-bottom: 6px;\"><thead><tr class = \"header\"><th class = \"rowNumber\" style = \"font-weight: bold; text-align: right;\">Row</th><th style = \"text-align: left;\">var</th><th style = \"text-align: left;\">domain</th><th style = \"text-align: left;\">value</th></tr><tr class = \"subheader headerLastRow\"><th class = \"rowNumber\" style = \"font-weight: bold; text-align: right;\"></th><th title = \"String\" style = \"text-align: left;\">String</th><th title = \"String\" style = \"text-align: left;\">String</th><th title = \"Float64\" style = \"text-align: left;\">Float64</th></tr></thead><tbody><tr><td class = \"rowNumber\" style = \"font-weight: bold; text-align: right;\">1</td><td style = \"text-align: left;\">Y</td><td style = \"text-align: left;\">ppd</td><td style = \"text-align: right;\">1.0188</td></tr><tr><td class = \"rowNumber\" style = \"font-weight: bold; text-align: right;\">2</td><td style = \"text-align: left;\">Y</td><td style = \"text-align: left;\">res</td><td style = \"text-align: right;\">1.03916</td></tr><tr><td class = \"rowNumber\" style = \"font-weight: bold; text-align: right;\">3</td><td style = \"text-align: left;\">Y</td><td style = \"text-align: left;\">com</td><td style = \"text-align: right;\">0.999214</td></tr><tr><td class = \"rowNumber\" style = \"font-weight: bold; text-align: right;\">4</td><td style = \"text-align: left;\">Y</td><td style = \"text-align: left;\">amb</td><td style = \"text-align: right;\">0.969242</td></tr><tr><td class = \"rowNumber\" style = \"font-weight: bold; text-align: right;\">5</td><td style = \"text-align: left;\">Y</td><td style = \"text-align: left;\">fbp</td><td style = \"text-align: right;\">1.04402</td></tr><tr><td class = \"rowNumber\" style = \"font-weight: bold; text-align: right;\">6</td><td style = \"text-align: left;\">Y</td><td style = \"text-align: left;\">rec</td><td style = \"text-align: right;\">1.02558</td></tr><tr><td class = \"rowNumber\" style = \"font-weight: bold; text-align: right;\">7</td><td style = \"text-align: left;\">Y</td><td style = \"text-align: left;\">con</td><td style = \"text-align: right;\">0.998728</td></tr><tr><td class = \"rowNumber\" style = \"font-weight: bold; text-align: right;\">8</td><td style = \"text-align: left;\">Y</td><td style = \"text-align: left;\">agr</td><td style = \"text-align: right;\">1.02651</td></tr><tr><td class = \"rowNumber\" style = \"font-weight: bold; text-align: right;\">9</td><td style = \"text-align: left;\">Y</td><td style = \"text-align: left;\">eec</td><td style = \"text-align: right;\">0.993423</td></tr><tr><td class = \"rowNumber\" style = \"font-weight: bold; text-align: right;\">10</td><td style = \"text-align: left;\">Y</td><td style = \"text-align: left;\">fnd</td><td style = \"text-align: right;\">1.0</td></tr><tr><td class = \"rowNumber\" style = \"font-weight: bold; text-align: right;\">11</td><td style = \"text-align: left;\">Y</td><td style = \"text-align: left;\">pub</td><td style = \"text-align: right;\">0.995058</td></tr><tr><td class = \"rowNumber\" style = \"font-weight: bold; text-align: right;\">12</td><td style = \"text-align: left;\">Y</td><td style = \"text-align: left;\">hou</td><td style = \"text-align: right;\">0.946697</td></tr><tr><td class = \"rowNumber\" style = \"font-weight: bold; text-align: right;\">13</td><td style = \"text-align: left;\">Y</td><td style = \"text-align: left;\">fbt</td><td style = \"text-align: right;\">1.02333</td></tr><tr><td style = \"text-align: right;\">&vellip;</td><td style = \"text-align: right;\">&vellip;</td><td style = \"text-align: right;\">&vellip;</td><td style = \"text-align: right;\">&vellip;</td></tr><tr><td class = \"rowNumber\" style = \"font-weight: bold; text-align: right;\">275</td><td style = \"text-align: left;\">PA</td><td style = \"text-align: left;\">wtt</td><td style = \"text-align: right;\">1.04807</td></tr><tr><td class = \"rowNumber\" style = \"font-weight: bold; text-align: right;\">276</td><td style = \"text-align: left;\">PA</td><td style = \"text-align: left;\">wpd</td><td style = \"text-align: right;\">1.04529</td></tr><tr><td class = \"rowNumber\" style = \"font-weight: bold; text-align: right;\">277</td><td style = \"text-align: left;\">PA</td><td style = \"text-align: left;\">wht</td><td style = \"text-align: right;\">1.0785</td></tr><tr><td class = \"rowNumber\" style = \"font-weight: bold; text-align: right;\">278</td><td style = \"text-align: left;\">PA</td><td style = \"text-align: left;\">wrh</td><td style = \"text-align: right;\">1.07138</td></tr><tr><td class = \"rowNumber\" style = \"font-weight: bold; text-align: right;\">279</td><td style = \"text-align: left;\">PA</td><td style = \"text-align: left;\">ott</td><td style = \"text-align: right;\">1.07877</td></tr><tr><td class = \"rowNumber\" style = \"font-weight: bold; text-align: right;\">280</td><td style = \"text-align: left;\">PA</td><td style = \"text-align: left;\">che</td><td style = \"text-align: right;\">1.04491</td></tr><tr><td class = \"rowNumber\" style = \"font-weight: bold; text-align: right;\">281</td><td style = \"text-align: left;\">PA</td><td style = \"text-align: left;\">air</td><td style = \"text-align: right;\">0.945055</td></tr><tr><td class = \"rowNumber\" style = \"font-weight: bold; text-align: right;\">282</td><td style = \"text-align: left;\">PA</td><td style = \"text-align: left;\">mmf</td><td style = \"text-align: right;\">1.03273</td></tr><tr><td class = \"rowNumber\" style = \"font-weight: bold; text-align: right;\">283</td><td style = \"text-align: left;\">PA</td><td style = \"text-align: left;\">otr</td><td style = \"text-align: right;\">1.06296</td></tr><tr><td class = \"rowNumber\" style = \"font-weight: bold; text-align: right;\">284</td><td style = \"text-align: left;\">PA</td><td style = \"text-align: left;\">min</td><td style = \"text-align: right;\">1.03247</td></tr><tr><td class = \"rowNumber\" style = \"font-weight: bold; text-align: right;\">285</td><td style = \"text-align: left;\">MS</td><td style = \"text-align: left;\">trn</td><td style = \"text-align: right;\">1.02748</td></tr><tr><td class = \"rowNumber\" style = \"font-weight: bold; text-align: right;\">286</td><td style = \"text-align: left;\">MS</td><td style = \"text-align: left;\">trd</td><td style = \"text-align: right;\">1.02279</td></tr></tbody></table></div>"
      ],
      "text/latex": [
       "\\begin{tabular}{r|ccc}\n",
       "\t& var & domain & value\\\\\n",
       "\t\\hline\n",
       "\t& String & String & Float64\\\\\n",
       "\t\\hline\n",
       "\t1 & Y & ppd & 1.0188 \\\\\n",
       "\t2 & Y & res & 1.03916 \\\\\n",
       "\t3 & Y & com & 0.999214 \\\\\n",
       "\t4 & Y & amb & 0.969242 \\\\\n",
       "\t5 & Y & fbp & 1.04402 \\\\\n",
       "\t6 & Y & rec & 1.02558 \\\\\n",
       "\t7 & Y & con & 0.998728 \\\\\n",
       "\t8 & Y & agr & 1.02651 \\\\\n",
       "\t9 & Y & eec & 0.993423 \\\\\n",
       "\t10 & Y & fnd & 1.0 \\\\\n",
       "\t11 & Y & pub & 0.995058 \\\\\n",
       "\t12 & Y & hou & 0.946697 \\\\\n",
       "\t13 & Y & fbt & 1.02333 \\\\\n",
       "\t14 & Y & ins & 0.995264 \\\\\n",
       "\t15 & Y & tex & 0.987755 \\\\\n",
       "\t16 & Y & leg & 1.00528 \\\\\n",
       "\t17 & Y & fen & 1.00421 \\\\\n",
       "\t18 & Y & uti & 1.02815 \\\\\n",
       "\t19 & Y & nmp & 0.997669 \\\\\n",
       "\t20 & Y & brd & 1.02315 \\\\\n",
       "\t21 & Y & bnk & 0.981977 \\\\\n",
       "\t22 & Y & ore & 1.00434 \\\\\n",
       "\t23 & Y & edu & 0.961326 \\\\\n",
       "\t24 & Y & ote & 1.00279 \\\\\n",
       "\t$\\dots$ & $\\dots$ & $\\dots$ & $\\dots$ \\\\\n",
       "\\end{tabular}\n"
      ],
      "text/plain": [
       "\u001b[1m286×3 DataFrame\u001b[0m\n",
       "\u001b[1m Row \u001b[0m│\u001b[1m var    \u001b[0m\u001b[1m domain \u001b[0m\u001b[1m value    \u001b[0m\n",
       "     │\u001b[90m String \u001b[0m\u001b[90m String \u001b[0m\u001b[90m Float64  \u001b[0m\n",
       "─────┼──────────────────────────\n",
       "   1 │ Y       ppd     1.0188\n",
       "   2 │ Y       res     1.03916\n",
       "   3 │ Y       com     0.999214\n",
       "   4 │ Y       amb     0.969242\n",
       "   5 │ Y       fbp     1.04402\n",
       "   6 │ Y       rec     1.02558\n",
       "   7 │ Y       con     0.998728\n",
       "   8 │ Y       agr     1.02651\n",
       "  ⋮  │   ⋮       ⋮        ⋮\n",
       " 280 │ PA      che     1.04491\n",
       " 281 │ PA      air     0.945055\n",
       " 282 │ PA      mmf     1.03273\n",
       " 283 │ PA      otr     1.06296\n",
       " 284 │ PA      min     1.03247\n",
       " 285 │ MS      trn     1.02748\n",
       " 286 │ MS      trd     1.02279\n",
       "\u001b[36m                271 rows omitted\u001b[0m"
      ]
     },
     "metadata": {},
     "output_type": "display_data"
    }
   ],
   "source": [
    "file_name = \"FullReportCounter\"\n",
    "\n",
    "replace_dict = Dict(\n",
    "    \"Y\" => [r\"^Y\\[\\(:(\\w{3}),\\)]\", s\"\\1\"],\n",
    "    \"A\" => [r\"^A\\[\\(:(\\w{3}),\\)]\", s\"\\1\"],\n",
    "    \"MS\" => [r\"^MS\\[\\(:(\\w{3}),\\)]\", s\"\\1\"],\n",
    "    \"PA\" => [r\"^PA\\[\\(:(\\w{3}),\\)]\", s\"\\1\"],\n",
    "    \"PY\" => [r\"^PY\\[\\(:(\\w{3}),\\)]\", s\"\\1\"],\n",
    "    \"PVA\" => [r\"^PVA\\[\\(:(\\w{6,7}),\\)]\", s\"\\1\"],\n",
    "    \"PM\" => [r\"^PM\\[\\(:(\\w{3}),\\)]\", s\"\\1\"],\n",
    "    \"PFX\" => [r\"^PFX\", s\"\"],\n",
    "    \"RA\" => [r\"^RA\", s\"\"],\n",
    "    );\n",
    "\n",
    "d = DataFrame(CSV.File(\"./Results/\"*file_name*\".csv\",stringtype=String)) |>\n",
    "    x -> transform(x, :margin => (y -> ifelse.(y.==\".\",\"0\",y)) => :margin) |>\n",
    "    x -> transform(x, :margin => (y -> parse.(Float64,y))=>:margin);\n",
    "\n",
    "\n",
    "df_mpsge = DataFrame()\n",
    "\n",
    "for (var,(reg,sub)) in replace_dict\n",
    "    df_ = d |>\n",
    "        x-> filter(:var_name => y -> occursin.(reg ,y),x) |>\n",
    "        x -> transform(x,\n",
    "            :var_name => (y -> replace.(y, reg => sub)) => :domain,\n",
    "            :var_name => (y -> var) => :var\n",
    "        ) |>\n",
    "        x -> select(x, [:var_name,:var,:domain,:value,:margin])\n",
    "    \n",
    "    df_mpsge = vcat(df_mpsge,df_)\n",
    "end\n",
    "\n",
    "df_mpsge = df_mpsge |>\n",
    "    x -> select(x, [:var, :domain, :value])"
   ]
  },
  {
   "cell_type": "markdown",
   "metadata": {},
   "source": [
    "# Create comparison dataframe"
   ]
  },
  {
   "cell_type": "code",
   "execution_count": 7,
   "metadata": {},
   "outputs": [
    {
     "data": {
      "text/html": [
       "<div><div style = \"float: left;\"><span>292×10 DataFrame</span></div><div style = \"float: right;\"><span style = \"font-style: italic;\">267 rows omitted</span></div><div style = \"clear: both;\"></div></div><div class = \"data-frame\" style = \"overflow-x: scroll;\"><table class = \"data-frame\" style = \"margin-bottom: 6px;\"><thead><tr class = \"header\"><th class = \"rowNumber\" style = \"font-weight: bold; text-align: right;\">Row</th><th style = \"text-align: left;\">var</th><th style = \"text-align: left;\">domain</th><th style = \"text-align: left;\">julia_mpsge</th><th style = \"text-align: left;\">julia_mcp</th><th style = \"text-align: left;\">gams</th><th style = \"text-align: left;\">Column4</th><th style = \"text-align: left;\">Column5</th><th style = \"text-align: left;\">Column6</th><th style = \"text-align: left;\">Column7</th><th style = \"text-align: left;\">diff</th></tr><tr class = \"subheader headerLastRow\"><th class = \"rowNumber\" style = \"font-weight: bold; text-align: right;\"></th><th title = \"String\" style = \"text-align: left;\">String</th><th title = \"String\" style = \"text-align: left;\">String</th><th title = \"Union{Missing, Float64}\" style = \"text-align: left;\">Float64?</th><th title = \"Union{Missing, Float64}\" style = \"text-align: left;\">Float64?</th><th title = \"Union{Missing, Float64}\" style = \"text-align: left;\">Float64?</th><th title = \"Union{Missing, String}\" style = \"text-align: left;\">String?</th><th title = \"Union{Missing, Float64}\" style = \"text-align: left;\">Float64?</th><th title = \"Union{Missing, String}\" style = \"text-align: left;\">String?</th><th title = \"Union{Missing, Float64}\" style = \"text-align: left;\">Float64?</th><th title = \"Union{Missing, Float64}\" style = \"text-align: left;\">Float64?</th></tr></thead><tbody><tr><td class = \"rowNumber\" style = \"font-weight: bold; text-align: right;\">1</td><td style = \"text-align: left;\">A</td><td style = \"text-align: left;\">fbt</td><td style = \"font-style: italic; text-align: right;\">missing</td><td style = \"text-align: right;\">0.0</td><td style = \"text-align: right;\">1.0</td><td style = \"text-align: left;\">A[(:fbt,)]</td><td style = \"text-align: right;\">1.0</td><td style = \"text-align: left;\">A[(:fbt,)]</td><td style = \"text-align: right;\">0.0</td><td style = \"font-style: italic; text-align: right;\">missing</td></tr><tr><td class = \"rowNumber\" style = \"font-weight: bold; text-align: right;\">2</td><td style = \"text-align: left;\">A</td><td style = \"text-align: left;\">mvt</td><td style = \"font-style: italic; text-align: right;\">missing</td><td style = \"text-align: right;\">0.0</td><td style = \"text-align: right;\">1.0</td><td style = \"text-align: left;\">A[(:mvt,)]</td><td style = \"text-align: right;\">1.0</td><td style = \"text-align: left;\">A[(:mvt,)]</td><td style = \"text-align: right;\">0.0</td><td style = \"font-style: italic; text-align: right;\">missing</td></tr><tr><td class = \"rowNumber\" style = \"font-weight: bold; text-align: right;\">3</td><td style = \"text-align: left;\">A</td><td style = \"text-align: left;\">gmt</td><td style = \"font-style: italic; text-align: right;\">missing</td><td style = \"text-align: right;\">0.0</td><td style = \"text-align: right;\">1.0</td><td style = \"text-align: left;\">A[(:gmt,)]</td><td style = \"text-align: right;\">1.0</td><td style = \"text-align: left;\">A[(:gmt,)]</td><td style = \"text-align: right;\">0.0</td><td style = \"font-style: italic; text-align: right;\">missing</td></tr><tr><td class = \"rowNumber\" style = \"font-weight: bold; text-align: right;\">4</td><td style = \"text-align: left;\">PA</td><td style = \"text-align: left;\">fbt</td><td style = \"font-style: italic; text-align: right;\">missing</td><td style = \"text-align: right;\">0.0</td><td style = \"text-align: right;\">1.0</td><td style = \"text-align: left;\">PA[(:fbt,)]</td><td style = \"text-align: right;\">1.0</td><td style = \"text-align: left;\">PA[(:fbt,)]</td><td style = \"text-align: right;\">1.0</td><td style = \"font-style: italic; text-align: right;\">missing</td></tr><tr><td class = \"rowNumber\" style = \"font-weight: bold; text-align: right;\">5</td><td style = \"text-align: left;\">PA</td><td style = \"text-align: left;\">mvt</td><td style = \"font-style: italic; text-align: right;\">missing</td><td style = \"text-align: right;\">0.0</td><td style = \"text-align: right;\">1.0</td><td style = \"text-align: left;\">PA[(:mvt,)]</td><td style = \"text-align: right;\">1.0</td><td style = \"text-align: left;\">PA[(:mvt,)]</td><td style = \"text-align: right;\">1.0</td><td style = \"font-style: italic; text-align: right;\">missing</td></tr><tr><td class = \"rowNumber\" style = \"font-weight: bold; text-align: right;\">6</td><td style = \"text-align: left;\">PA</td><td style = \"text-align: left;\">gmt</td><td style = \"font-style: italic; text-align: right;\">missing</td><td style = \"text-align: right;\">0.0</td><td style = \"text-align: right;\">1.0</td><td style = \"text-align: left;\">PA[(:gmt,)]</td><td style = \"text-align: right;\">1.0</td><td style = \"text-align: left;\">PA[(:gmt,)]</td><td style = \"text-align: right;\">1.0</td><td style = \"font-style: italic; text-align: right;\">missing</td></tr><tr><td class = \"rowNumber\" style = \"font-weight: bold; text-align: right;\">7</td><td style = \"text-align: left;\">RA</td><td style = \"text-align: left;\"></td><td style = \"text-align: right;\">13775.8</td><td style = \"font-style: italic; text-align: right;\">missing</td><td style = \"font-style: italic; text-align: right;\">missing</td><td style = \"font-style: italic; text-align: left;\">missing</td><td style = \"font-style: italic; text-align: right;\">missing</td><td style = \"font-style: italic; text-align: left;\">missing</td><td style = \"font-style: italic; text-align: right;\">missing</td><td style = \"font-style: italic; text-align: right;\">missing</td></tr><tr><td class = \"rowNumber\" style = \"font-weight: bold; text-align: right;\">8</td><td style = \"text-align: left;\">PFX</td><td style = \"text-align: left;\"></td><td style = \"text-align: right;\">1.07723</td><td style = \"font-style: italic; text-align: right;\">missing</td><td style = \"font-style: italic; text-align: right;\">missing</td><td style = \"font-style: italic; text-align: left;\">missing</td><td style = \"font-style: italic; text-align: right;\">missing</td><td style = \"font-style: italic; text-align: left;\">missing</td><td style = \"font-style: italic; text-align: right;\">missing</td><td style = \"font-style: italic; text-align: right;\">missing</td></tr><tr><td class = \"rowNumber\" style = \"font-weight: bold; text-align: right;\">9</td><td style = \"text-align: left;\">PA</td><td style = \"text-align: left;\">trn</td><td style = \"text-align: right;\">1.26369</td><td style = \"text-align: right;\">1.14243</td><td style = \"text-align: right;\">1.14243</td><td style = \"text-align: left;\">PA[(:trn,)]</td><td style = \"text-align: right;\">1.14243</td><td style = \"text-align: left;\">PA[(:trn,)]</td><td style = \"text-align: right;\">1.14243</td><td style = \"text-align: right;\">0.121258</td></tr><tr><td class = \"rowNumber\" style = \"font-weight: bold; text-align: right;\">10</td><td style = \"text-align: left;\">PA</td><td style = \"text-align: left;\">hou</td><td style = \"text-align: right;\">1.10676</td><td style = \"text-align: right;\">1.00056</td><td style = \"text-align: right;\">1.00056</td><td style = \"text-align: left;\">PA[(:hou,)]</td><td style = \"text-align: right;\">1.00056</td><td style = \"text-align: left;\">PA[(:hou,)]</td><td style = \"text-align: right;\">1.00056</td><td style = \"text-align: right;\">0.106201</td></tr><tr><td class = \"rowNumber\" style = \"font-weight: bold; text-align: right;\">11</td><td style = \"text-align: left;\">PVA</td><td style = \"text-align: left;\">compen</td><td style = \"text-align: right;\">1.09685</td><td style = \"text-align: right;\">0.9916</td><td style = \"text-align: right;\">0.9916</td><td style = \"text-align: left;\">PVA[(:compen,)]</td><td style = \"text-align: right;\">0.9916</td><td style = \"text-align: left;\">PVA[(:compen,)]</td><td style = \"text-align: right;\">0.9916</td><td style = \"text-align: right;\">0.105249</td></tr><tr><td class = \"rowNumber\" style = \"font-weight: bold; text-align: right;\">12</td><td style = \"text-align: left;\">PVA</td><td style = \"text-align: left;\">surplus</td><td style = \"text-align: right;\">1.08867</td><td style = \"text-align: right;\">0.98421</td><td style = \"text-align: right;\">0.98421</td><td style = \"text-align: left;\">PVA[(:surplus,)]</td><td style = \"text-align: right;\">0.98421</td><td style = \"text-align: left;\">PVA[(:surplus,)]</td><td style = \"text-align: right;\">0.98421</td><td style = \"text-align: right;\">0.104465</td></tr><tr><td class = \"rowNumber\" style = \"font-weight: bold; text-align: right;\">13</td><td style = \"text-align: left;\">PY</td><td style = \"text-align: left;\">cep</td><td style = \"text-align: right;\">1.0878</td><td style = \"text-align: right;\">0.983417</td><td style = \"text-align: right;\">0.983417</td><td style = \"text-align: left;\">PY[(:cep,)]</td><td style = \"text-align: right;\">0.983417</td><td style = \"text-align: left;\">PY[(:cep,)]</td><td style = \"text-align: right;\">0.983417</td><td style = \"text-align: right;\">0.104381</td></tr><tr><td style = \"text-align: right;\">&vellip;</td><td style = \"text-align: right;\">&vellip;</td><td style = \"text-align: right;\">&vellip;</td><td style = \"text-align: right;\">&vellip;</td><td style = \"text-align: right;\">&vellip;</td><td style = \"text-align: right;\">&vellip;</td><td style = \"text-align: right;\">&vellip;</td><td style = \"text-align: right;\">&vellip;</td><td style = \"text-align: right;\">&vellip;</td><td style = \"text-align: right;\">&vellip;</td><td style = \"text-align: right;\">&vellip;</td></tr><tr><td class = \"rowNumber\" style = \"font-weight: bold; text-align: right;\">281</td><td style = \"text-align: left;\">Y</td><td style = \"text-align: left;\">wtt</td><td style = \"text-align: right;\">1.0155</td><td style = \"text-align: right;\">1.0155</td><td style = \"text-align: right;\">1.0155</td><td style = \"text-align: left;\">Y[(:wtt,)]</td><td style = \"text-align: right;\">1.0155</td><td style = \"text-align: left;\">Y[(:wtt,)]</td><td style = \"text-align: right;\">1.01549</td><td style = \"text-align: right;\">1.29674e-13</td></tr><tr><td class = \"rowNumber\" style = \"font-weight: bold; text-align: right;\">282</td><td style = \"text-align: left;\">Y</td><td style = \"text-align: left;\">tex</td><td style = \"text-align: right;\">0.987755</td><td style = \"text-align: right;\">0.987755</td><td style = \"text-align: right;\">0.987755</td><td style = \"text-align: left;\">Y[(:tex,)]</td><td style = \"text-align: right;\">0.987755</td><td style = \"text-align: left;\">Y[(:tex,)]</td><td style = \"text-align: right;\">0.987755</td><td style = \"text-align: right;\">8.4599e-14</td></tr><tr><td class = \"rowNumber\" style = \"font-weight: bold; text-align: right;\">283</td><td style = \"text-align: left;\">Y</td><td style = \"text-align: left;\">con</td><td style = \"text-align: right;\">0.998728</td><td style = \"text-align: right;\">0.998728</td><td style = \"text-align: right;\">0.998728</td><td style = \"text-align: left;\">Y[(:con,)]</td><td style = \"text-align: right;\">0.998728</td><td style = \"text-align: left;\">Y[(:con,)]</td><td style = \"text-align: right;\">0.998727</td><td style = \"text-align: right;\">3.71925e-14</td></tr><tr><td class = \"rowNumber\" style = \"font-weight: bold; text-align: right;\">284</td><td style = \"text-align: left;\">Y</td><td style = \"text-align: left;\">mot</td><td style = \"text-align: right;\">1.02404</td><td style = \"text-align: right;\">1.02404</td><td style = \"text-align: right;\">1.02404</td><td style = \"text-align: left;\">Y[(:mot,)]</td><td style = \"text-align: right;\">1.02404</td><td style = \"text-align: left;\">Y[(:mot,)]</td><td style = \"text-align: right;\">1.02404</td><td style = \"text-align: right;\">3.64153e-14</td></tr><tr><td class = \"rowNumber\" style = \"font-weight: bold; text-align: right;\">285</td><td style = \"text-align: left;\">A</td><td style = \"text-align: left;\">fbp</td><td style = \"text-align: right;\">1.04186</td><td style = \"text-align: right;\">1.04186</td><td style = \"text-align: right;\">1.04186</td><td style = \"text-align: left;\">A[(:fbp,)]</td><td style = \"text-align: right;\">1.04186</td><td style = \"text-align: left;\">A[(:fbp,)]</td><td style = \"text-align: right;\">1.04186</td><td style = \"text-align: right;\">1.75415e-14</td></tr><tr><td class = \"rowNumber\" style = \"font-weight: bold; text-align: right;\">286</td><td style = \"text-align: left;\">Y</td><td style = \"text-align: left;\">ppd</td><td style = \"text-align: right;\">1.0188</td><td style = \"text-align: right;\">1.0188</td><td style = \"text-align: right;\">1.0188</td><td style = \"text-align: left;\">Y[(:ppd,)]</td><td style = \"text-align: right;\">1.0188</td><td style = \"text-align: left;\">Y[(:ppd,)]</td><td style = \"text-align: right;\">1.0188</td><td style = \"text-align: right;\">1.44329e-14</td></tr><tr><td class = \"rowNumber\" style = \"font-weight: bold; text-align: right;\">287</td><td style = \"text-align: left;\">Y</td><td style = \"text-align: left;\">fnd</td><td style = \"text-align: right;\">1.0</td><td style = \"text-align: right;\">1.0</td><td style = \"text-align: right;\">1.0</td><td style = \"text-align: left;\">Y[(:fnd,)]</td><td style = \"text-align: right;\">1.0</td><td style = \"text-align: left;\">Y[(:fnd,)]</td><td style = \"text-align: right;\">1.0</td><td style = \"text-align: right;\">1.11022e-16</td></tr><tr><td class = \"rowNumber\" style = \"font-weight: bold; text-align: right;\">288</td><td style = \"text-align: left;\">Y</td><td style = \"text-align: left;\">slg</td><td style = \"text-align: right;\">1.0</td><td style = \"text-align: right;\">1.0</td><td style = \"text-align: right;\">1.0</td><td style = \"text-align: left;\">Y[(:slg,)]</td><td style = \"text-align: right;\">1.0</td><td style = \"text-align: left;\">Y[(:slg,)]</td><td style = \"text-align: right;\">1.0</td><td style = \"text-align: right;\">0.0</td></tr><tr><td class = \"rowNumber\" style = \"font-weight: bold; text-align: right;\">289</td><td style = \"text-align: left;\">Y</td><td style = \"text-align: left;\">fdd</td><td style = \"text-align: right;\">1.0</td><td style = \"text-align: right;\">1.0</td><td style = \"text-align: right;\">1.0</td><td style = \"text-align: left;\">Y[(:fdd,)]</td><td style = \"text-align: right;\">1.0</td><td style = \"text-align: left;\">Y[(:fdd,)]</td><td style = \"text-align: right;\">1.0</td><td style = \"text-align: right;\">0.0</td></tr><tr><td class = \"rowNumber\" style = \"font-weight: bold; text-align: right;\">290</td><td style = \"text-align: left;\">A</td><td style = \"text-align: left;\">fnd</td><td style = \"text-align: right;\">1.0</td><td style = \"text-align: right;\">1.0</td><td style = \"text-align: right;\">1.0</td><td style = \"text-align: left;\">A[(:fnd,)]</td><td style = \"text-align: right;\">1.0</td><td style = \"text-align: left;\">A[(:fnd,)]</td><td style = \"text-align: right;\">1.0</td><td style = \"text-align: right;\">0.0</td></tr><tr><td class = \"rowNumber\" style = \"font-weight: bold; text-align: right;\">291</td><td style = \"text-align: left;\">A</td><td style = \"text-align: left;\">slg</td><td style = \"text-align: right;\">1.0</td><td style = \"text-align: right;\">1.0</td><td style = \"text-align: right;\">1.0</td><td style = \"text-align: left;\">A[(:slg,)]</td><td style = \"text-align: right;\">1.0</td><td style = \"text-align: left;\">A[(:slg,)]</td><td style = \"text-align: right;\">1.0</td><td style = \"text-align: right;\">0.0</td></tr><tr><td class = \"rowNumber\" style = \"font-weight: bold; text-align: right;\">292</td><td style = \"text-align: left;\">A</td><td style = \"text-align: left;\">fdd</td><td style = \"text-align: right;\">1.0</td><td style = \"text-align: right;\">1.0</td><td style = \"text-align: right;\">1.0</td><td style = \"text-align: left;\">A[(:fdd,)]</td><td style = \"text-align: right;\">1.0</td><td style = \"text-align: left;\">A[(:fdd,)]</td><td style = \"text-align: right;\">1.0</td><td style = \"text-align: right;\">0.0</td></tr></tbody></table></div>"
      ],
      "text/latex": [
       "\\begin{tabular}{r|ccccccccc}\n",
       "\t& var & domain & julia\\_mpsge & julia\\_mcp & gams & Column4 & Column5 & Column6 & \\\\\n",
       "\t\\hline\n",
       "\t& String & String & Float64? & Float64? & Float64? & String? & Float64? & String? & \\\\\n",
       "\t\\hline\n",
       "\t1 & A & fbt & \\emph{missing} & 0.0 & 1.0 & A[(:fbt,)] & 1.0 & A[(:fbt,)] & $\\dots$ \\\\\n",
       "\t2 & A & mvt & \\emph{missing} & 0.0 & 1.0 & A[(:mvt,)] & 1.0 & A[(:mvt,)] & $\\dots$ \\\\\n",
       "\t3 & A & gmt & \\emph{missing} & 0.0 & 1.0 & A[(:gmt,)] & 1.0 & A[(:gmt,)] & $\\dots$ \\\\\n",
       "\t4 & PA & fbt & \\emph{missing} & 0.0 & 1.0 & PA[(:fbt,)] & 1.0 & PA[(:fbt,)] & $\\dots$ \\\\\n",
       "\t5 & PA & mvt & \\emph{missing} & 0.0 & 1.0 & PA[(:mvt,)] & 1.0 & PA[(:mvt,)] & $\\dots$ \\\\\n",
       "\t6 & PA & gmt & \\emph{missing} & 0.0 & 1.0 & PA[(:gmt,)] & 1.0 & PA[(:gmt,)] & $\\dots$ \\\\\n",
       "\t7 & RA &  & 13775.8 & \\emph{missing} & \\emph{missing} & \\emph{missing} & \\emph{missing} & \\emph{missing} & $\\dots$ \\\\\n",
       "\t8 & PFX &  & 1.07723 & \\emph{missing} & \\emph{missing} & \\emph{missing} & \\emph{missing} & \\emph{missing} & $\\dots$ \\\\\n",
       "\t9 & PA & trn & 1.26369 & 1.14243 & 1.14243 & PA[(:trn,)] & 1.14243 & PA[(:trn,)] & $\\dots$ \\\\\n",
       "\t10 & PA & hou & 1.10676 & 1.00056 & 1.00056 & PA[(:hou,)] & 1.00056 & PA[(:hou,)] & $\\dots$ \\\\\n",
       "\t11 & PVA & compen & 1.09685 & 0.9916 & 0.9916 & PVA[(:compen,)] & 0.9916 & PVA[(:compen,)] & $\\dots$ \\\\\n",
       "\t12 & PVA & surplus & 1.08867 & 0.98421 & 0.98421 & PVA[(:surplus,)] & 0.98421 & PVA[(:surplus,)] & $\\dots$ \\\\\n",
       "\t13 & PY & cep & 1.0878 & 0.983417 & 0.983417 & PY[(:cep,)] & 0.983417 & PY[(:cep,)] & $\\dots$ \\\\\n",
       "\t14 & PY & hou & 1.08637 & 0.982126 & 0.982126 & PY[(:hou,)] & 0.982126 & PY[(:hou,)] & $\\dots$ \\\\\n",
       "\t15 & PY & com & 1.08623 & 0.981996 & 0.981996 & PY[(:com,)] & 0.981996 & PY[(:com,)] & $\\dots$ \\\\\n",
       "\t16 & PY & pip & 1.08545 & 0.981294 & 0.981294 & PY[(:pip,)] & 0.981294 & PY[(:pip,)] & $\\dots$ \\\\\n",
       "\t17 & PA & fnd & 1.0841 & 0.980078 & 0.980078 & PA[(:fnd,)] & 0.980078 & PA[(:fnd,)] & $\\dots$ \\\\\n",
       "\t18 & PY & fnd & 1.0841 & 0.980078 & 0.980078 & PY[(:fnd,)] & 0.980078 & PY[(:fnd,)] & $\\dots$ \\\\\n",
       "\t19 & PY & pub & 1.08387 & 0.97987 & 0.97987 & PY[(:pub,)] & 0.97987 & PY[(:pub,)] & $\\dots$ \\\\\n",
       "\t20 & PY & edu & 1.08322 & 0.979279 & 0.979279 & PY[(:edu,)] & 0.979279 & PY[(:edu,)] & $\\dots$ \\\\\n",
       "\t21 & PY & leg & 1.08296 & 0.979046 & 0.979046 & PY[(:leg,)] & 0.979046 & PY[(:leg,)] & $\\dots$ \\\\\n",
       "\t22 & PA & bnk & 1.08292 & 0.979008 & 0.979008 & PA[(:bnk,)] & 0.979008 & PA[(:bnk,)] & $\\dots$ \\\\\n",
       "\t23 & PA & edu & 1.08248 & 0.97861 & 0.97861 & PA[(:edu,)] & 0.97861 & PA[(:edu,)] & $\\dots$ \\\\\n",
       "\t24 & PY & mvt & 1.08194 & 0.978123 & 0.978123 & PY[(:mvt,)] & 0.978123 & PY[(:mvt,)] & $\\dots$ \\\\\n",
       "\t$\\dots$ & $\\dots$ & $\\dots$ & $\\dots$ & $\\dots$ & $\\dots$ & $\\dots$ & $\\dots$ & $\\dots$ &  \\\\\n",
       "\\end{tabular}\n"
      ],
      "text/plain": [
       "\u001b[1m292×10 DataFrame\u001b[0m\n",
       "\u001b[1m Row \u001b[0m│\u001b[1m var    \u001b[0m\u001b[1m domain \u001b[0m\u001b[1m julia_mpsge    \u001b[0m\u001b[1m julia_mcp      \u001b[0m\u001b[1m gams           \u001b[0m\u001b[1m Column4\u001b[0m ⋯\n",
       "     │\u001b[90m String \u001b[0m\u001b[90m String \u001b[0m\u001b[90m Float64?       \u001b[0m\u001b[90m Float64?       \u001b[0m\u001b[90m Float64?       \u001b[0m\u001b[90m String?\u001b[0m ⋯\n",
       "─────┼──────────────────────────────────────────────────────────────────────────\n",
       "   1 │ A       fbt    \u001b[90m missing        \u001b[0m       0.0             1.0       A[(:fbt ⋯\n",
       "   2 │ A       mvt    \u001b[90m missing        \u001b[0m       0.0             1.0       A[(:mvt\n",
       "   3 │ A       gmt    \u001b[90m missing        \u001b[0m       0.0             1.0       A[(:gmt\n",
       "   4 │ PA      fbt    \u001b[90m missing        \u001b[0m       0.0             1.0       PA[(:fb\n",
       "   5 │ PA      mvt    \u001b[90m missing        \u001b[0m       0.0             1.0       PA[(:mv ⋯\n",
       "   6 │ PA      gmt    \u001b[90m missing        \u001b[0m       0.0             1.0       PA[(:gm\n",
       "   7 │ RA                13775.8      \u001b[90m missing        \u001b[0m\u001b[90m missing        \u001b[0m\u001b[90m missing\u001b[0m\n",
       "   8 │ PFX                   1.07723  \u001b[90m missing        \u001b[0m\u001b[90m missing        \u001b[0m\u001b[90m missing\u001b[0m\n",
       "  ⋮  │   ⋮       ⋮           ⋮               ⋮               ⋮                 ⋱\n",
       " 286 │ Y       ppd           1.0188          1.0188          1.0188    Y[(:ppd ⋯\n",
       " 287 │ Y       fnd           1.0             1.0             1.0       Y[(:fnd\n",
       " 288 │ Y       slg           1.0             1.0             1.0       Y[(:slg\n",
       " 289 │ Y       fdd           1.0             1.0             1.0       Y[(:fdd\n",
       " 290 │ A       fnd           1.0             1.0             1.0       A[(:fnd ⋯\n",
       " 291 │ A       slg           1.0             1.0             1.0       A[(:slg\n",
       " 292 │ A       fdd           1.0             1.0             1.0       A[(:fdd\n",
       "\u001b[36m                                                  5 columns and 277 rows omitted\u001b[0m"
      ]
     },
     "metadata": {},
     "output_type": "display_data"
    }
   ],
   "source": [
    "df_mcp = DataFrame(CSV.File(\"./Results/national_sols_julia_mcp.csv\",stringtype=String))\n",
    "    \n",
    "df = DataFrame(CSV.File(\"./Results/national_sols_gams.csv\",stringtype=String)) |>\n",
    "    x -> dropmissing(x) |>\n",
    "    x -> outerjoin(df_mpsge,df_mcp,x, on = [:var,:domain],makeunique=true) |>\n",
    "    x -> rename(x, :value => :julia_mpsge, :value_1 => :julia_mcp, :value_2 => :gams) |>\n",
    "    x -> transform(x, [:julia_mpsge,:julia_mcp] => ((a,b) -> abs.(a-b)) => :diff) |>\n",
    "    #x -> filter(:julia_mcp => y -> !ismissing(y) && y !=0 , x) |>\n",
    "    x -> sort(x,:diff;rev=true)"
   ]
  },
  {
   "cell_type": "code",
   "execution_count": 8,
   "metadata": {},
   "outputs": [
    {
     "data": {
      "text/html": [
       "<div><div style = \"float: left;\"><span>41×10 DataFrame</span></div><div style = \"float: right;\"><span style = \"font-style: italic;\">16 rows omitted</span></div><div style = \"clear: both;\"></div></div><div class = \"data-frame\" style = \"overflow-x: scroll;\"><table class = \"data-frame\" style = \"margin-bottom: 6px;\"><thead><tr class = \"header\"><th class = \"rowNumber\" style = \"font-weight: bold; text-align: right;\">Row</th><th style = \"text-align: left;\">var</th><th style = \"text-align: left;\">domain</th><th style = \"text-align: left;\">julia_mpsge</th><th style = \"text-align: left;\">julia_mcp</th><th style = \"text-align: left;\">gams</th><th style = \"text-align: left;\">Column4</th><th style = \"text-align: left;\">Column5</th><th style = \"text-align: left;\">Column6</th><th style = \"text-align: left;\">Column7</th><th style = \"text-align: left;\">diff</th></tr><tr class = \"subheader headerLastRow\"><th class = \"rowNumber\" style = \"font-weight: bold; text-align: right;\"></th><th title = \"String\" style = \"text-align: left;\">String</th><th title = \"String\" style = \"text-align: left;\">String</th><th title = \"Union{Missing, Float64}\" style = \"text-align: left;\">Float64?</th><th title = \"Union{Missing, Float64}\" style = \"text-align: left;\">Float64?</th><th title = \"Union{Missing, Float64}\" style = \"text-align: left;\">Float64?</th><th title = \"Union{Missing, String}\" style = \"text-align: left;\">String?</th><th title = \"Union{Missing, Float64}\" style = \"text-align: left;\">Float64?</th><th title = \"Union{Missing, String}\" style = \"text-align: left;\">String?</th><th title = \"Union{Missing, Float64}\" style = \"text-align: left;\">Float64?</th><th title = \"Union{Missing, Float64}\" style = \"text-align: left;\">Float64?</th></tr></thead><tbody><tr><td class = \"rowNumber\" style = \"font-weight: bold; text-align: right;\">1</td><td style = \"text-align: left;\">PA</td><td style = \"text-align: left;\">fof</td><td style = \"text-align: right;\">1.06871</td><td style = \"text-align: right;\">0.966165</td><td style = \"text-align: right;\">0.966165</td><td style = \"text-align: left;\">PA[(:fof,)]</td><td style = \"text-align: right;\">0.966165</td><td style = \"text-align: left;\">PA[(:fof,)]</td><td style = \"text-align: right;\">0.966165</td><td style = \"text-align: right;\">0.10255</td></tr><tr><td class = \"rowNumber\" style = \"font-weight: bold; text-align: right;\">2</td><td style = \"text-align: left;\">PY</td><td style = \"text-align: left;\">mch</td><td style = \"text-align: right;\">1.06848</td><td style = \"text-align: right;\">0.965957</td><td style = \"text-align: right;\">0.965957</td><td style = \"text-align: left;\">PY[(:mch,)]</td><td style = \"text-align: right;\">0.965957</td><td style = \"text-align: left;\">PY[(:mch,)]</td><td style = \"text-align: right;\">0.965957</td><td style = \"text-align: right;\">0.102527</td></tr><tr><td class = \"rowNumber\" style = \"font-weight: bold; text-align: right;\">3</td><td style = \"text-align: left;\">PA</td><td style = \"text-align: left;\">ore</td><td style = \"text-align: right;\">1.06757</td><td style = \"text-align: right;\">0.965134</td><td style = \"text-align: right;\">0.965134</td><td style = \"text-align: left;\">PA[(:ore,)]</td><td style = \"text-align: right;\">0.965134</td><td style = \"text-align: left;\">PA[(:ore,)]</td><td style = \"text-align: right;\">0.965134</td><td style = \"text-align: right;\">0.10244</td></tr><tr><td class = \"rowNumber\" style = \"font-weight: bold; text-align: right;\">4</td><td style = \"text-align: left;\">PY</td><td style = \"text-align: left;\">ore</td><td style = \"text-align: right;\">1.06696</td><td style = \"text-align: right;\">0.964581</td><td style = \"text-align: right;\">0.964581</td><td style = \"text-align: left;\">PY[(:ore,)]</td><td style = \"text-align: right;\">0.964581</td><td style = \"text-align: left;\">PY[(:ore,)]</td><td style = \"text-align: right;\">0.964581</td><td style = \"text-align: right;\">0.102381</td></tr><tr><td class = \"rowNumber\" style = \"font-weight: bold; text-align: right;\">5</td><td style = \"text-align: left;\">PY</td><td style = \"text-align: left;\">nmp</td><td style = \"text-align: right;\">1.06622</td><td style = \"text-align: right;\">0.963908</td><td style = \"text-align: right;\">0.963908</td><td style = \"text-align: left;\">PY[(:nmp,)]</td><td style = \"text-align: right;\">0.963908</td><td style = \"text-align: left;\">PY[(:nmp,)]</td><td style = \"text-align: right;\">0.963908</td><td style = \"text-align: right;\">0.10231</td></tr><tr><td class = \"rowNumber\" style = \"font-weight: bold; text-align: right;\">6</td><td style = \"text-align: left;\">PY</td><td style = \"text-align: left;\">con</td><td style = \"text-align: right;\">1.06528</td><td style = \"text-align: right;\">0.963062</td><td style = \"text-align: right;\">0.963062</td><td style = \"text-align: left;\">PY[(:con,)]</td><td style = \"text-align: right;\">0.963062</td><td style = \"text-align: left;\">PY[(:con,)]</td><td style = \"text-align: right;\">0.963062</td><td style = \"text-align: right;\">0.10222</td></tr><tr><td class = \"rowNumber\" style = \"font-weight: bold; text-align: right;\">7</td><td style = \"text-align: left;\">PY</td><td style = \"text-align: left;\">uti</td><td style = \"text-align: right;\">1.06507</td><td style = \"text-align: right;\">0.962873</td><td style = \"text-align: right;\">0.962873</td><td style = \"text-align: left;\">PY[(:uti,)]</td><td style = \"text-align: right;\">0.962873</td><td style = \"text-align: left;\">PY[(:uti,)]</td><td style = \"text-align: right;\">0.962873</td><td style = \"text-align: right;\">0.1022</td></tr><tr><td class = \"rowNumber\" style = \"font-weight: bold; text-align: right;\">8</td><td style = \"text-align: left;\">PY</td><td style = \"text-align: left;\">otr</td><td style = \"text-align: right;\">1.06503</td><td style = \"text-align: right;\">0.962834</td><td style = \"text-align: right;\">0.962834</td><td style = \"text-align: left;\">PY[(:otr,)]</td><td style = \"text-align: right;\">0.962834</td><td style = \"text-align: left;\">PY[(:otr,)]</td><td style = \"text-align: right;\">0.962834</td><td style = \"text-align: right;\">0.102196</td></tr><tr><td class = \"rowNumber\" style = \"font-weight: bold; text-align: right;\">9</td><td style = \"text-align: left;\">PY</td><td style = \"text-align: left;\">brd</td><td style = \"text-align: right;\">1.06492</td><td style = \"text-align: right;\">0.962738</td><td style = \"text-align: right;\">0.962738</td><td style = \"text-align: left;\">PY[(:brd,)]</td><td style = \"text-align: right;\">0.962738</td><td style = \"text-align: left;\">PY[(:brd,)]</td><td style = \"text-align: right;\">0.962738</td><td style = \"text-align: right;\">0.102186</td></tr><tr><td class = \"rowNumber\" style = \"font-weight: bold; text-align: right;\">10</td><td style = \"text-align: left;\">PY</td><td style = \"text-align: left;\">pri</td><td style = \"text-align: right;\">1.06479</td><td style = \"text-align: right;\">0.962621</td><td style = \"text-align: right;\">0.962621</td><td style = \"text-align: left;\">PY[(:pri,)]</td><td style = \"text-align: right;\">0.962621</td><td style = \"text-align: left;\">PY[(:pri,)]</td><td style = \"text-align: right;\">0.962621</td><td style = \"text-align: right;\">0.102173</td></tr><tr><td class = \"rowNumber\" style = \"font-weight: bold; text-align: right;\">11</td><td style = \"text-align: left;\">PY</td><td style = \"text-align: left;\">min</td><td style = \"text-align: right;\">1.06477</td><td style = \"text-align: right;\">0.962596</td><td style = \"text-align: right;\">0.962596</td><td style = \"text-align: left;\">PY[(:min,)]</td><td style = \"text-align: right;\">0.962596</td><td style = \"text-align: left;\">PY[(:min,)]</td><td style = \"text-align: right;\">0.962596</td><td style = \"text-align: right;\">0.102171</td></tr><tr><td class = \"rowNumber\" style = \"font-weight: bold; text-align: right;\">12</td><td style = \"text-align: left;\">PY</td><td style = \"text-align: left;\">wpd</td><td style = \"text-align: right;\">1.0646</td><td style = \"text-align: right;\">0.962447</td><td style = \"text-align: right;\">0.962447</td><td style = \"text-align: left;\">PY[(:wpd,)]</td><td style = \"text-align: right;\">0.962447</td><td style = \"text-align: left;\">PY[(:wpd,)]</td><td style = \"text-align: right;\">0.962447</td><td style = \"text-align: right;\">0.102155</td></tr><tr><td class = \"rowNumber\" style = \"font-weight: bold; text-align: right;\">13</td><td style = \"text-align: left;\">PY</td><td style = \"text-align: left;\">pmt</td><td style = \"text-align: right;\">1.06432</td><td style = \"text-align: right;\">0.962191</td><td style = \"text-align: right;\">0.962191</td><td style = \"text-align: left;\">PY[(:pmt,)]</td><td style = \"text-align: right;\">0.962191</td><td style = \"text-align: left;\">PY[(:pmt,)]</td><td style = \"text-align: right;\">0.962191</td><td style = \"text-align: right;\">0.102128</td></tr><tr><td style = \"text-align: right;\">&vellip;</td><td style = \"text-align: right;\">&vellip;</td><td style = \"text-align: right;\">&vellip;</td><td style = \"text-align: right;\">&vellip;</td><td style = \"text-align: right;\">&vellip;</td><td style = \"text-align: right;\">&vellip;</td><td style = \"text-align: right;\">&vellip;</td><td style = \"text-align: right;\">&vellip;</td><td style = \"text-align: right;\">&vellip;</td><td style = \"text-align: right;\">&vellip;</td><td style = \"text-align: right;\">&vellip;</td></tr><tr><td class = \"rowNumber\" style = \"font-weight: bold; text-align: right;\">30</td><td style = \"text-align: left;\">PY</td><td style = \"text-align: left;\">tex</td><td style = \"text-align: right;\">1.05793</td><td style = \"text-align: right;\">0.956419</td><td style = \"text-align: right;\">0.956419</td><td style = \"text-align: left;\">PY[(:tex,)]</td><td style = \"text-align: right;\">0.956419</td><td style = \"text-align: left;\">PY[(:tex,)]</td><td style = \"text-align: right;\">0.956419</td><td style = \"text-align: right;\">0.101515</td></tr><tr><td class = \"rowNumber\" style = \"font-weight: bold; text-align: right;\">31</td><td style = \"text-align: left;\">PA</td><td style = \"text-align: left;\">pub</td><td style = \"text-align: right;\">1.05729</td><td style = \"text-align: right;\">0.955834</td><td style = \"text-align: right;\">0.955834</td><td style = \"text-align: left;\">PA[(:pub,)]</td><td style = \"text-align: right;\">0.955834</td><td style = \"text-align: left;\">PA[(:pub,)]</td><td style = \"text-align: right;\">0.955834</td><td style = \"text-align: right;\">0.101453</td></tr><tr><td class = \"rowNumber\" style = \"font-weight: bold; text-align: right;\">32</td><td style = \"text-align: left;\">PY</td><td style = \"text-align: left;\">sle</td><td style = \"text-align: right;\">1.05694</td><td style = \"text-align: right;\">0.95552</td><td style = \"text-align: right;\">0.95552</td><td style = \"text-align: left;\">PY[(:sle,)]</td><td style = \"text-align: right;\">0.95552</td><td style = \"text-align: left;\">PY[(:sle,)]</td><td style = \"text-align: right;\">0.95552</td><td style = \"text-align: right;\">0.10142</td></tr><tr><td class = \"rowNumber\" style = \"font-weight: bold; text-align: right;\">33</td><td style = \"text-align: left;\">PA</td><td style = \"text-align: left;\">sle</td><td style = \"text-align: right;\">1.05694</td><td style = \"text-align: right;\">0.95552</td><td style = \"text-align: right;\">0.95552</td><td style = \"text-align: left;\">PA[(:sle,)]</td><td style = \"text-align: right;\">0.95552</td><td style = \"text-align: left;\">PA[(:sle,)]</td><td style = \"text-align: right;\">0.95552</td><td style = \"text-align: right;\">0.10142</td></tr><tr><td class = \"rowNumber\" style = \"font-weight: bold; text-align: right;\">34</td><td style = \"text-align: left;\">PA</td><td style = \"text-align: left;\">ins</td><td style = \"text-align: right;\">1.05679</td><td style = \"text-align: right;\">0.955382</td><td style = \"text-align: right;\">0.955382</td><td style = \"text-align: left;\">PA[(:ins,)]</td><td style = \"text-align: right;\">0.955382</td><td style = \"text-align: left;\">PA[(:ins,)]</td><td style = \"text-align: right;\">0.955382</td><td style = \"text-align: right;\">0.101405</td></tr><tr><td class = \"rowNumber\" style = \"font-weight: bold; text-align: right;\">35</td><td style = \"text-align: left;\">PY</td><td style = \"text-align: left;\">fbp</td><td style = \"text-align: right;\">1.05678</td><td style = \"text-align: right;\">0.955375</td><td style = \"text-align: right;\">0.955375</td><td style = \"text-align: left;\">PY[(:fbp,)]</td><td style = \"text-align: right;\">0.955375</td><td style = \"text-align: left;\">PY[(:fbp,)]</td><td style = \"text-align: right;\">0.955375</td><td style = \"text-align: right;\">0.101404</td></tr><tr><td class = \"rowNumber\" style = \"font-weight: bold; text-align: right;\">36</td><td style = \"text-align: left;\">PA</td><td style = \"text-align: left;\">wst</td><td style = \"text-align: right;\">1.05526</td><td style = \"text-align: right;\">0.954005</td><td style = \"text-align: right;\">0.954005</td><td style = \"text-align: left;\">PA[(:wst,)]</td><td style = \"text-align: right;\">0.954005</td><td style = \"text-align: left;\">PA[(:wst,)]</td><td style = \"text-align: right;\">0.954005</td><td style = \"text-align: right;\">0.101259</td></tr><tr><td class = \"rowNumber\" style = \"font-weight: bold; text-align: right;\">37</td><td style = \"text-align: left;\">PA</td><td style = \"text-align: left;\">pri</td><td style = \"text-align: right;\">1.05451</td><td style = \"text-align: right;\">0.953323</td><td style = \"text-align: right;\">0.953323</td><td style = \"text-align: left;\">PA[(:pri,)]</td><td style = \"text-align: right;\">0.953323</td><td style = \"text-align: left;\">PA[(:pri,)]</td><td style = \"text-align: right;\">0.953323</td><td style = \"text-align: right;\">0.101186</td></tr><tr><td class = \"rowNumber\" style = \"font-weight: bold; text-align: right;\">38</td><td style = \"text-align: left;\">PY</td><td style = \"text-align: left;\">trk</td><td style = \"text-align: right;\">1.05414</td><td style = \"text-align: right;\">0.952991</td><td style = \"text-align: right;\">0.952991</td><td style = \"text-align: left;\">PY[(:trk,)]</td><td style = \"text-align: right;\">0.952991</td><td style = \"text-align: left;\">PY[(:trk,)]</td><td style = \"text-align: right;\">0.952991</td><td style = \"text-align: right;\">0.101151</td></tr><tr><td class = \"rowNumber\" style = \"font-weight: bold; text-align: right;\">39</td><td style = \"text-align: left;\">PY</td><td style = \"text-align: left;\">air</td><td style = \"text-align: right;\">1.05347</td><td style = \"text-align: right;\">0.952384</td><td style = \"text-align: right;\">0.952384</td><td style = \"text-align: left;\">PY[(:air,)]</td><td style = \"text-align: right;\">0.952384</td><td style = \"text-align: left;\">PY[(:air,)]</td><td style = \"text-align: right;\">0.952384</td><td style = \"text-align: right;\">0.101087</td></tr><tr><td class = \"rowNumber\" style = \"font-weight: bold; text-align: right;\">40</td><td style = \"text-align: left;\">PA</td><td style = \"text-align: left;\">osv</td><td style = \"text-align: right;\">1.05278</td><td style = \"text-align: right;\">0.951763</td><td style = \"text-align: right;\">0.951763</td><td style = \"text-align: left;\">PA[(:osv,)]</td><td style = \"text-align: right;\">0.951763</td><td style = \"text-align: left;\">PA[(:osv,)]</td><td style = \"text-align: right;\">0.951763</td><td style = \"text-align: right;\">0.101021</td></tr><tr><td class = \"rowNumber\" style = \"font-weight: bold; text-align: right;\">41</td><td style = \"text-align: left;\">PY</td><td style = \"text-align: left;\">pet</td><td style = \"text-align: right;\">1.05167</td><td style = \"text-align: right;\">0.95076</td><td style = \"text-align: right;\">0.95076</td><td style = \"text-align: left;\">PY[(:pet,)]</td><td style = \"text-align: right;\">0.95076</td><td style = \"text-align: left;\">PY[(:pet,)]</td><td style = \"text-align: right;\">0.95076</td><td style = \"text-align: right;\">0.100914</td></tr></tbody></table></div>"
      ],
      "text/latex": [
       "\\begin{tabular}{r|ccccccccc}\n",
       "\t& var & domain & julia\\_mpsge & julia\\_mcp & gams & Column4 & Column5 & Column6 & \\\\\n",
       "\t\\hline\n",
       "\t& String & String & Float64? & Float64? & Float64? & String? & Float64? & String? & \\\\\n",
       "\t\\hline\n",
       "\t1 & PA & fof & 1.06871 & 0.966165 & 0.966165 & PA[(:fof,)] & 0.966165 & PA[(:fof,)] & $\\dots$ \\\\\n",
       "\t2 & PY & mch & 1.06848 & 0.965957 & 0.965957 & PY[(:mch,)] & 0.965957 & PY[(:mch,)] & $\\dots$ \\\\\n",
       "\t3 & PA & ore & 1.06757 & 0.965134 & 0.965134 & PA[(:ore,)] & 0.965134 & PA[(:ore,)] & $\\dots$ \\\\\n",
       "\t4 & PY & ore & 1.06696 & 0.964581 & 0.964581 & PY[(:ore,)] & 0.964581 & PY[(:ore,)] & $\\dots$ \\\\\n",
       "\t5 & PY & nmp & 1.06622 & 0.963908 & 0.963908 & PY[(:nmp,)] & 0.963908 & PY[(:nmp,)] & $\\dots$ \\\\\n",
       "\t6 & PY & con & 1.06528 & 0.963062 & 0.963062 & PY[(:con,)] & 0.963062 & PY[(:con,)] & $\\dots$ \\\\\n",
       "\t7 & PY & uti & 1.06507 & 0.962873 & 0.962873 & PY[(:uti,)] & 0.962873 & PY[(:uti,)] & $\\dots$ \\\\\n",
       "\t8 & PY & otr & 1.06503 & 0.962834 & 0.962834 & PY[(:otr,)] & 0.962834 & PY[(:otr,)] & $\\dots$ \\\\\n",
       "\t9 & PY & brd & 1.06492 & 0.962738 & 0.962738 & PY[(:brd,)] & 0.962738 & PY[(:brd,)] & $\\dots$ \\\\\n",
       "\t10 & PY & pri & 1.06479 & 0.962621 & 0.962621 & PY[(:pri,)] & 0.962621 & PY[(:pri,)] & $\\dots$ \\\\\n",
       "\t11 & PY & min & 1.06477 & 0.962596 & 0.962596 & PY[(:min,)] & 0.962596 & PY[(:min,)] & $\\dots$ \\\\\n",
       "\t12 & PY & wpd & 1.0646 & 0.962447 & 0.962447 & PY[(:wpd,)] & 0.962447 & PY[(:wpd,)] & $\\dots$ \\\\\n",
       "\t13 & PY & pmt & 1.06432 & 0.962191 & 0.962191 & PY[(:pmt,)] & 0.962191 & PY[(:pmt,)] & $\\dots$ \\\\\n",
       "\t14 & PA & con & 1.06404 & 0.961935 & 0.961935 & PA[(:con,)] & 0.961935 & PA[(:con,)] & $\\dots$ \\\\\n",
       "\t15 & PY & che & 1.06385 & 0.96177 & 0.96177 & PY[(:che,)] & 0.96177 & PY[(:che,)] & $\\dots$ \\\\\n",
       "\t16 & PY & fpd & 1.06369 & 0.961626 & 0.961626 & PY[(:fpd,)] & 0.961626 & PY[(:fpd,)] & $\\dots$ \\\\\n",
       "\t17 & PY & trn & 1.0636 & 0.961539 & 0.961539 & PY[(:trn,)] & 0.961539 & PY[(:trn,)] & $\\dots$ \\\\\n",
       "\t18 & PA & ote & 1.06349 & 0.961442 & 0.961442 & PA[(:ote,)] & 0.961442 & PA[(:ote,)] & $\\dots$ \\\\\n",
       "\t19 & PA & nrs & 1.06325 & 0.961224 & 0.961224 & PA[(:nrs,)] & 0.961224 & PA[(:nrs,)] & $\\dots$ \\\\\n",
       "\t20 & PA & grd & 1.06321 & 0.961184 & 0.961184 & PA[(:grd,)] & 0.961184 & PA[(:grd,)] & $\\dots$ \\\\\n",
       "\t21 & PA & otr & 1.06296 & 0.960961 & 0.960961 & PA[(:otr,)] & 0.960961 & PA[(:otr,)] & $\\dots$ \\\\\n",
       "\t22 & PA & pmt & 1.06156 & 0.9597 & 0.9597 & PA[(:pmt,)] & 0.9597 & PA[(:pmt,)] & $\\dots$ \\\\\n",
       "\t23 & PY & pla & 1.06078 & 0.95899 & 0.95899 & PY[(:pla,)] & 0.95899 & PY[(:pla,)] & $\\dots$ \\\\\n",
       "\t24 & PY & alt & 1.06075 & 0.95896 & 0.95896 & PY[(:alt,)] & 0.95896 & PY[(:alt,)] & $\\dots$ \\\\\n",
       "\t$\\dots$ & $\\dots$ & $\\dots$ & $\\dots$ & $\\dots$ & $\\dots$ & $\\dots$ & $\\dots$ & $\\dots$ &  \\\\\n",
       "\\end{tabular}\n"
      ],
      "text/plain": [
       "\u001b[1m41×10 DataFrame\u001b[0m\n",
       "\u001b[1m Row \u001b[0m│\u001b[1m var    \u001b[0m\u001b[1m domain \u001b[0m\u001b[1m julia_mpsge \u001b[0m\u001b[1m julia_mcp \u001b[0m\u001b[1m gams     \u001b[0m\u001b[1m Column4     \u001b[0m\u001b[1m Column5 \u001b[0m ⋯\n",
       "     │\u001b[90m String \u001b[0m\u001b[90m String \u001b[0m\u001b[90m Float64?    \u001b[0m\u001b[90m Float64?  \u001b[0m\u001b[90m Float64? \u001b[0m\u001b[90m String?     \u001b[0m\u001b[90m Float64?\u001b[0m ⋯\n",
       "─────┼──────────────────────────────────────────────────────────────────────────\n",
       "   1 │ PA      fof         1.06871   0.966165  0.966165  PA[(:fof,)]  0.966165 ⋯\n",
       "   2 │ PY      mch         1.06848   0.965957  0.965957  PY[(:mch,)]  0.965957\n",
       "   3 │ PA      ore         1.06757   0.965134  0.965134  PA[(:ore,)]  0.965134\n",
       "   4 │ PY      ore         1.06696   0.964581  0.964581  PY[(:ore,)]  0.964581\n",
       "   5 │ PY      nmp         1.06622   0.963908  0.963908  PY[(:nmp,)]  0.963908 ⋯\n",
       "   6 │ PY      con         1.06528   0.963062  0.963062  PY[(:con,)]  0.963062\n",
       "   7 │ PY      uti         1.06507   0.962873  0.962873  PY[(:uti,)]  0.962873\n",
       "   8 │ PY      otr         1.06503   0.962834  0.962834  PY[(:otr,)]  0.962834\n",
       "  ⋮  │   ⋮       ⋮          ⋮           ⋮         ⋮           ⋮          ⋮     ⋱\n",
       "  35 │ PY      fbp         1.05678   0.955375  0.955375  PY[(:fbp,)]  0.955375 ⋯\n",
       "  36 │ PA      wst         1.05526   0.954005  0.954005  PA[(:wst,)]  0.954005\n",
       "  37 │ PA      pri         1.05451   0.953323  0.953323  PA[(:pri,)]  0.953323\n",
       "  38 │ PY      trk         1.05414   0.952991  0.952991  PY[(:trk,)]  0.952991\n",
       "  39 │ PY      air         1.05347   0.952384  0.952384  PY[(:air,)]  0.952384 ⋯\n",
       "  40 │ PA      osv         1.05278   0.951763  0.951763  PA[(:osv,)]  0.951763\n",
       "  41 │ PY      pet         1.05167   0.95076   0.95076   PY[(:pet,)]  0.95076\n",
       "\u001b[36m                                                   3 columns and 26 rows omitted\u001b[0m"
      ]
     },
     "metadata": {},
     "output_type": "display_data"
    }
   ],
   "source": [
    "df[80:120,:]"
   ]
  },
  {
   "cell_type": "code",
   "execution_count": null,
   "metadata": {},
   "outputs": [],
   "source": []
  },
  {
   "cell_type": "markdown",
   "metadata": {},
   "source": [
    "# Full Julia MPSGE Solution"
   ]
  },
  {
   "cell_type": "code",
   "execution_count": 21,
   "metadata": {},
   "outputs": [],
   "source": [
    "replace_dict = Dict(\n",
    "    \"Y\" => [r\"^Y\\[\\(:(\\w{3}),\\)]\", s\"(:\\1,)\"],\n",
    "    \"A\" => [r\"^A\\[\\(:(\\w{3}),\\)]\", s\"(:\\1,)\"],\n",
    "    \"MS\" => [r\"^MS\\[\\(:(\\w{3}),\\)]\", s\"(:\\1,)\"],\n",
    "    \"PA\" => [r\"^PA\\[\\(:(\\w{3}),\\)]\", s\"(:\\1,)\"],\n",
    "    \"PY\" => [r\"^PY\\[\\(:(\\w{3}),\\)]\", s\"(:\\1,)\"],\n",
    "    \"PVA\" => [r\"^PVA\\[\\(:(\\w{6,7}),\\)]\", s\"(:\\1,)\"],\n",
    "    \"PM\" => [r\"^PM\\[\\(:(\\w{3}),\\)]\", s\"(:\\1,)\"],\n",
    "    \"PFX\" => [r\"^PFX\", s\"\"],\n",
    "    \"RA\" => [r\"^RA\", s\"\"],\n",
    "    \"C\" => [r\"^PA\\[(\\w{3})\\]ρRA\", s\"(:\\1,)\"],\n",
    "    \"S_PY_Y\" => [r\"^PY\\[(\\w{3})\\]‡Y\\[(\\w{3})\\]\", s\"(:\\1,:\\2)\"],\n",
    "    \"D_PA_Y\" => [r\"^PA\\[(\\w{3})\\]†Y\\[(\\w{3})\\]\", s\"(:\\1,:\\2)\"],\n",
    "    \"D_PVA_Y\" => [r\"^PVA\\[(\\w{3})\\]†Y→VA(\\w{3})\", s\"(:\\1,:\\2)\"],\n",
    "    \"S_PM_MS\" => [r\"^PM\\[(\\w{3})\\]‡MS\\[(\\w{3})\\]\", s\"(:\\1,:\\2)\"],\n",
    "    \"D_PY_MS\" => [r\"^PY\\[(\\w{3})\\]†MS\\[(\\w{3})\\]\", s\"(:\\1,:\\2)\"],\n",
    "    \"S_PA_A\" => [r\"^PA\\[(\\w{3})\\]‡A\\[(\\w{3})\\]\", s\"(:\\1,:\\2)\"],\n",
    "    \"S_PFX_A\" => [r\"^PFX‡A\\[(\\w{3})\\]\", s\"(:\\1,)\"],\n",
    "    \"D_PY_A\" => [r\"^PY\\[(\\w{3})\\]†A→dm(\\w{3})\", s\"(:\\1,:\\2)\"],\n",
    "    \"D_PFX_A\" => [r\"^PFX†A→dm(\\w{3})\", s\"(:\\1,)\"],\n",
    "    \"D_PM_A\" => [r\"^PM\\[(\\w{3})\\]†A\\[(\\w{3})\\]\", s\"(:\\1,:\\2)\"],\n",
    "    );"
   ]
  },
  {
   "cell_type": "code",
   "execution_count": 23,
   "metadata": {},
   "outputs": [],
   "source": [
    "d = DataFrame(CSV.File(\"./Results/FullReportCounter.csv\",stringtype=String)) |>\n",
    "    x -> transform(x, :margin => (y -> ifelse.(y.==\".\",\"0\",y)) => :margin) |>\n",
    "    x -> transform(x, :margin => (y -> parse.(Float64,y))=>:margin);"
   ]
  },
  {
   "cell_type": "code",
   "execution_count": 24,
   "metadata": {},
   "outputs": [],
   "source": [
    "\n",
    "df = DataFrame()\n",
    "\n",
    "for (var,(reg,sub)) in replace_dict\n",
    "    df_ = d |>\n",
    "        x-> filter(:var_name => y -> occursin.(reg ,y),x) |>\n",
    "        x -> transform(x,\n",
    "            :var_name => (y -> replace.(y, reg => sub)) => :domain,\n",
    "            :var_name => (y -> var) => :var\n",
    "        ) |>\n",
    "        x -> select(x, [:var_name,:var,:domain,:value,:margin])\n",
    "    \n",
    "    df = vcat(df,df_)\n",
    "end"
   ]
  },
  {
   "cell_type": "code",
   "execution_count": 25,
   "metadata": {},
   "outputs": [
    {
     "data": {
      "text/html": [
       "<div><div style = \"float: left;\"><span>4926×5 DataFrame</span></div><div style = \"float: right;\"><span style = \"font-style: italic;\">4901 rows omitted</span></div><div style = \"clear: both;\"></div></div><div class = \"data-frame\" style = \"overflow-x: scroll;\"><table class = \"data-frame\" style = \"margin-bottom: 6px;\"><thead><tr class = \"header\"><th class = \"rowNumber\" style = \"font-weight: bold; text-align: right;\">Row</th><th style = \"text-align: left;\">var_name</th><th style = \"text-align: left;\">var</th><th style = \"text-align: left;\">domain</th><th style = \"text-align: left;\">value</th><th style = \"text-align: left;\">margin</th></tr><tr class = \"subheader headerLastRow\"><th class = \"rowNumber\" style = \"font-weight: bold; text-align: right;\"></th><th title = \"String\" style = \"text-align: left;\">String</th><th title = \"String\" style = \"text-align: left;\">String</th><th title = \"String\" style = \"text-align: left;\">String</th><th title = \"Float64\" style = \"text-align: left;\">Float64</th><th title = \"Float64\" style = \"text-align: left;\">Float64</th></tr></thead><tbody><tr><td class = \"rowNumber\" style = \"font-weight: bold; text-align: right;\">1</td><td style = \"text-align: left;\">PA[ppd]†Y[ppd]</td><td style = \"text-align: left;\">D_PA_Y</td><td style = \"text-align: left;\">(:ppd,:ppd)</td><td style = \"text-align: right;\">43.8969</td><td style = \"text-align: right;\">-0.0</td></tr><tr><td class = \"rowNumber\" style = \"font-weight: bold; text-align: right;\">2</td><td style = \"text-align: left;\">PA[res]†Y[ppd]</td><td style = \"text-align: left;\">D_PA_Y</td><td style = \"text-align: left;\">(:res,:ppd)</td><td style = \"text-align: right;\">0.162683</td><td style = \"text-align: right;\">-0.0</td></tr><tr><td class = \"rowNumber\" style = \"font-weight: bold; text-align: right;\">3</td><td style = \"text-align: left;\">PA[com]†Y[ppd]</td><td style = \"text-align: left;\">D_PA_Y</td><td style = \"text-align: left;\">(:com,:ppd)</td><td style = \"text-align: right;\">0.197119</td><td style = \"text-align: right;\">-0.0</td></tr><tr><td class = \"rowNumber\" style = \"font-weight: bold; text-align: right;\">4</td><td style = \"text-align: left;\">PA[fbp]†Y[ppd]</td><td style = \"text-align: left;\">D_PA_Y</td><td style = \"text-align: left;\">(:fbp,:ppd)</td><td style = \"text-align: right;\">1.66646</td><td style = \"text-align: right;\">-0.0</td></tr><tr><td class = \"rowNumber\" style = \"font-weight: bold; text-align: right;\">5</td><td style = \"text-align: left;\">PA[rec]†Y[ppd]</td><td style = \"text-align: left;\">D_PA_Y</td><td style = \"text-align: left;\">(:rec,:ppd)</td><td style = \"text-align: right;\">0.00511639</td><td style = \"text-align: right;\">-0.0</td></tr><tr><td class = \"rowNumber\" style = \"font-weight: bold; text-align: right;\">6</td><td style = \"text-align: left;\">PA[con]†Y[ppd]</td><td style = \"text-align: left;\">D_PA_Y</td><td style = \"text-align: left;\">(:con,:ppd)</td><td style = \"text-align: right;\">0.668667</td><td style = \"text-align: right;\">-0.0</td></tr><tr><td class = \"rowNumber\" style = \"font-weight: bold; text-align: right;\">7</td><td style = \"text-align: left;\">PA[eec]†Y[ppd]</td><td style = \"text-align: left;\">D_PA_Y</td><td style = \"text-align: left;\">(:eec,:ppd)</td><td style = \"text-align: right;\">0.454946</td><td style = \"text-align: right;\">-0.0</td></tr><tr><td class = \"rowNumber\" style = \"font-weight: bold; text-align: right;\">8</td><td style = \"text-align: left;\">PA[pub]†Y[ppd]</td><td style = \"text-align: left;\">D_PA_Y</td><td style = \"text-align: left;\">(:pub,:ppd)</td><td style = \"text-align: right;\">0.00411802</td><td style = \"text-align: right;\">-0.0</td></tr><tr><td class = \"rowNumber\" style = \"font-weight: bold; text-align: right;\">9</td><td style = \"text-align: left;\">PA[ins]†Y[ppd]</td><td style = \"text-align: left;\">D_PA_Y</td><td style = \"text-align: left;\">(:ins,:ppd)</td><td style = \"text-align: right;\">0.234656</td><td style = \"text-align: right;\">-0.0</td></tr><tr><td class = \"rowNumber\" style = \"font-weight: bold; text-align: right;\">10</td><td style = \"text-align: left;\">PA[tex]†Y[ppd]</td><td style = \"text-align: left;\">D_PA_Y</td><td style = \"text-align: left;\">(:tex,:ppd)</td><td style = \"text-align: right;\">4.02015</td><td style = \"text-align: right;\">-0.0</td></tr><tr><td class = \"rowNumber\" style = \"font-weight: bold; text-align: right;\">11</td><td style = \"text-align: left;\">PA[leg]†Y[ppd]</td><td style = \"text-align: left;\">D_PA_Y</td><td style = \"text-align: left;\">(:leg,:ppd)</td><td style = \"text-align: right;\">0.961713</td><td style = \"text-align: right;\">-0.0</td></tr><tr><td class = \"rowNumber\" style = \"font-weight: bold; text-align: right;\">12</td><td style = \"text-align: left;\">PA[uti]†Y[ppd]</td><td style = \"text-align: left;\">D_PA_Y</td><td style = \"text-align: left;\">(:uti,:ppd)</td><td style = \"text-align: right;\">5.27888</td><td style = \"text-align: right;\">-0.0</td></tr><tr><td class = \"rowNumber\" style = \"font-weight: bold; text-align: right;\">13</td><td style = \"text-align: left;\">PA[nmp]†Y[ppd]</td><td style = \"text-align: left;\">D_PA_Y</td><td style = \"text-align: left;\">(:nmp,:ppd)</td><td style = \"text-align: right;\">0.53194</td><td style = \"text-align: right;\">-0.0</td></tr><tr><td style = \"text-align: right;\">&vellip;</td><td style = \"text-align: right;\">&vellip;</td><td style = \"text-align: right;\">&vellip;</td><td style = \"text-align: right;\">&vellip;</td><td style = \"text-align: right;\">&vellip;</td><td style = \"text-align: right;\">&vellip;</td></tr><tr><td class = \"rowNumber\" style = \"font-weight: bold; text-align: right;\">4915</td><td style = \"text-align: left;\">PFX‡A[trk]</td><td style = \"text-align: left;\">S_PFX_A</td><td style = \"text-align: left;\">(:trk,)</td><td style = \"text-align: right;\">1.70113</td><td style = \"text-align: right;\">0.0</td></tr><tr><td class = \"rowNumber\" style = \"font-weight: bold; text-align: right;\">4916</td><td style = \"text-align: left;\">PFX‡A[fdd]</td><td style = \"text-align: left;\">S_PFX_A</td><td style = \"text-align: left;\">(:fdd,)</td><td style = \"text-align: right;\">0.0</td><td style = \"text-align: right;\">0.0</td></tr><tr><td class = \"rowNumber\" style = \"font-weight: bold; text-align: right;\">4917</td><td style = \"text-align: left;\">PFX‡A[wtt]</td><td style = \"text-align: left;\">S_PFX_A</td><td style = \"text-align: left;\">(:wtt,)</td><td style = \"text-align: right;\">5.02542</td><td style = \"text-align: right;\">0.0</td></tr><tr><td class = \"rowNumber\" style = \"font-weight: bold; text-align: right;\">4918</td><td style = \"text-align: left;\">PFX‡A[wpd]</td><td style = \"text-align: left;\">S_PFX_A</td><td style = \"text-align: left;\">(:wpd,)</td><td style = \"text-align: right;\">7.16839</td><td style = \"text-align: right;\">0.0</td></tr><tr><td class = \"rowNumber\" style = \"font-weight: bold; text-align: right;\">4919</td><td style = \"text-align: left;\">PFX‡A[wht]</td><td style = \"text-align: left;\">S_PFX_A</td><td style = \"text-align: left;\">(:wht,)</td><td style = \"text-align: right;\">2.38048</td><td style = \"text-align: right;\">0.0</td></tr><tr><td class = \"rowNumber\" style = \"font-weight: bold; text-align: right;\">4920</td><td style = \"text-align: left;\">PFX‡A[wrh]</td><td style = \"text-align: left;\">S_PFX_A</td><td style = \"text-align: left;\">(:wrh,)</td><td style = \"text-align: right;\">0.167415</td><td style = \"text-align: right;\">0.0</td></tr><tr><td class = \"rowNumber\" style = \"font-weight: bold; text-align: right;\">4921</td><td style = \"text-align: left;\">PFX‡A[ott]</td><td style = \"text-align: left;\">S_PFX_A</td><td style = \"text-align: left;\">(:ott,)</td><td style = \"text-align: right;\">0.0</td><td style = \"text-align: right;\">0.0</td></tr><tr><td class = \"rowNumber\" style = \"font-weight: bold; text-align: right;\">4922</td><td style = \"text-align: left;\">PFX‡A[che]</td><td style = \"text-align: left;\">S_PFX_A</td><td style = \"text-align: left;\">(:che,)</td><td style = \"text-align: right;\">186.063</td><td style = \"text-align: right;\">0.0</td></tr><tr><td class = \"rowNumber\" style = \"font-weight: bold; text-align: right;\">4923</td><td style = \"text-align: left;\">PFX‡A[air]</td><td style = \"text-align: left;\">S_PFX_A</td><td style = \"text-align: left;\">(:air,)</td><td style = \"text-align: right;\">44.2125</td><td style = \"text-align: right;\">0.0</td></tr><tr><td class = \"rowNumber\" style = \"font-weight: bold; text-align: right;\">4924</td><td style = \"text-align: left;\">PFX‡A[mmf]</td><td style = \"text-align: left;\">S_PFX_A</td><td style = \"text-align: left;\">(:mmf,)</td><td style = \"text-align: right;\">45.7569</td><td style = \"text-align: right;\">0.0</td></tr><tr><td class = \"rowNumber\" style = \"font-weight: bold; text-align: right;\">4925</td><td style = \"text-align: left;\">PFX‡A[otr]</td><td style = \"text-align: left;\">S_PFX_A</td><td style = \"text-align: left;\">(:otr,)</td><td style = \"text-align: right;\">10.4011</td><td style = \"text-align: right;\">0.0</td></tr><tr><td class = \"rowNumber\" style = \"font-weight: bold; text-align: right;\">4926</td><td style = \"text-align: left;\">PFX‡A[min]</td><td style = \"text-align: left;\">S_PFX_A</td><td style = \"text-align: left;\">(:min,)</td><td style = \"text-align: right;\">17.7762</td><td style = \"text-align: right;\">0.0</td></tr></tbody></table></div>"
      ],
      "text/latex": [
       "\\begin{tabular}{r|ccccc}\n",
       "\t& var\\_name & var & domain & value & margin\\\\\n",
       "\t\\hline\n",
       "\t& String & String & String & Float64 & Float64\\\\\n",
       "\t\\hline\n",
       "\t1 & PA[ppd]†Y[ppd] & D\\_PA\\_Y & (:ppd,:ppd) & 43.8969 & -0.0 \\\\\n",
       "\t2 & PA[res]†Y[ppd] & D\\_PA\\_Y & (:res,:ppd) & 0.162683 & -0.0 \\\\\n",
       "\t3 & PA[com]†Y[ppd] & D\\_PA\\_Y & (:com,:ppd) & 0.197119 & -0.0 \\\\\n",
       "\t4 & PA[fbp]†Y[ppd] & D\\_PA\\_Y & (:fbp,:ppd) & 1.66646 & -0.0 \\\\\n",
       "\t5 & PA[rec]†Y[ppd] & D\\_PA\\_Y & (:rec,:ppd) & 0.00511639 & -0.0 \\\\\n",
       "\t6 & PA[con]†Y[ppd] & D\\_PA\\_Y & (:con,:ppd) & 0.668667 & -0.0 \\\\\n",
       "\t7 & PA[eec]†Y[ppd] & D\\_PA\\_Y & (:eec,:ppd) & 0.454946 & -0.0 \\\\\n",
       "\t8 & PA[pub]†Y[ppd] & D\\_PA\\_Y & (:pub,:ppd) & 0.00411802 & -0.0 \\\\\n",
       "\t9 & PA[ins]†Y[ppd] & D\\_PA\\_Y & (:ins,:ppd) & 0.234656 & -0.0 \\\\\n",
       "\t10 & PA[tex]†Y[ppd] & D\\_PA\\_Y & (:tex,:ppd) & 4.02015 & -0.0 \\\\\n",
       "\t11 & PA[leg]†Y[ppd] & D\\_PA\\_Y & (:leg,:ppd) & 0.961713 & -0.0 \\\\\n",
       "\t12 & PA[uti]†Y[ppd] & D\\_PA\\_Y & (:uti,:ppd) & 5.27888 & -0.0 \\\\\n",
       "\t13 & PA[nmp]†Y[ppd] & D\\_PA\\_Y & (:nmp,:ppd) & 0.53194 & -0.0 \\\\\n",
       "\t14 & PA[brd]†Y[ppd] & D\\_PA\\_Y & (:brd,:ppd) & 0.235688 & -0.0 \\\\\n",
       "\t15 & PA[bnk]†Y[ppd] & D\\_PA\\_Y & (:bnk,:ppd) & 0.246231 & -0.0 \\\\\n",
       "\t16 & PA[ore]†Y[ppd] & D\\_PA\\_Y & (:ore,:ppd) & 0.81594 & -0.0 \\\\\n",
       "\t17 & PA[man]†Y[ppd] & D\\_PA\\_Y & (:man,:ppd) & 3.18347 & -0.0 \\\\\n",
       "\t18 & PA[mch]†Y[ppd] & D\\_PA\\_Y & (:mch,:ppd) & 0.871911 & -0.0 \\\\\n",
       "\t19 & PA[dat]†Y[ppd] & D\\_PA\\_Y & (:dat,:ppd) & 0.612091 & -0.0 \\\\\n",
       "\t20 & PA[amd]†Y[ppd] & D\\_PA\\_Y & (:amd,:ppd) & 0.108319 & -0.0 \\\\\n",
       "\t21 & PA[rnt]†Y[ppd] & D\\_PA\\_Y & (:rnt,:ppd) & 0.735206 & -0.0 \\\\\n",
       "\t22 & PA[pla]†Y[ppd] & D\\_PA\\_Y & (:pla,:ppd) & 3.58824 & -0.0 \\\\\n",
       "\t23 & PA[fof]†Y[ppd] & D\\_PA\\_Y & (:fof,:ppd) & 7.72094 & -0.0 \\\\\n",
       "\t24 & PA[tsv]†Y[ppd] & D\\_PA\\_Y & (:tsv,:ppd) & 3.53093 & -0.0 \\\\\n",
       "\t$\\dots$ & $\\dots$ & $\\dots$ & $\\dots$ & $\\dots$ & $\\dots$ \\\\\n",
       "\\end{tabular}\n"
      ],
      "text/plain": [
       "\u001b[1m4926×5 DataFrame\u001b[0m\n",
       "\u001b[1m  Row \u001b[0m│\u001b[1m var_name       \u001b[0m\u001b[1m var     \u001b[0m\u001b[1m domain      \u001b[0m\u001b[1m value        \u001b[0m\u001b[1m margin  \u001b[0m\n",
       "      │\u001b[90m String         \u001b[0m\u001b[90m String  \u001b[0m\u001b[90m String      \u001b[0m\u001b[90m Float64      \u001b[0m\u001b[90m Float64 \u001b[0m\n",
       "──────┼─────────────────────────────────────────────────────────────\n",
       "    1 │ PA[ppd]†Y[ppd]  D_PA_Y   (:ppd,:ppd)   43.8969         -0.0\n",
       "    2 │ PA[res]†Y[ppd]  D_PA_Y   (:res,:ppd)    0.162683       -0.0\n",
       "    3 │ PA[com]†Y[ppd]  D_PA_Y   (:com,:ppd)    0.197119       -0.0\n",
       "    4 │ PA[fbp]†Y[ppd]  D_PA_Y   (:fbp,:ppd)    1.66646        -0.0\n",
       "    5 │ PA[rec]†Y[ppd]  D_PA_Y   (:rec,:ppd)    0.00511639     -0.0\n",
       "    6 │ PA[con]†Y[ppd]  D_PA_Y   (:con,:ppd)    0.668667       -0.0\n",
       "    7 │ PA[eec]†Y[ppd]  D_PA_Y   (:eec,:ppd)    0.454946       -0.0\n",
       "    8 │ PA[pub]†Y[ppd]  D_PA_Y   (:pub,:ppd)    0.00411802     -0.0\n",
       "  ⋮   │       ⋮            ⋮          ⋮            ⋮           ⋮\n",
       " 4920 │ PFX‡A[wrh]      S_PFX_A  (:wrh,)        0.167415        0.0\n",
       " 4921 │ PFX‡A[ott]      S_PFX_A  (:ott,)        0.0             0.0\n",
       " 4922 │ PFX‡A[che]      S_PFX_A  (:che,)      186.063           0.0\n",
       " 4923 │ PFX‡A[air]      S_PFX_A  (:air,)       44.2125          0.0\n",
       " 4924 │ PFX‡A[mmf]      S_PFX_A  (:mmf,)       45.7569          0.0\n",
       " 4925 │ PFX‡A[otr]      S_PFX_A  (:otr,)       10.4011          0.0\n",
       " 4926 │ PFX‡A[min]      S_PFX_A  (:min,)       17.7762          0.0\n",
       "\u001b[36m                                                   4911 rows omitted\u001b[0m"
      ]
     },
     "metadata": {},
     "output_type": "display_data"
    }
   ],
   "source": [
    "df"
   ]
  },
  {
   "cell_type": "code",
   "execution_count": null,
   "metadata": {},
   "outputs": [],
   "source": []
  }
 ],
 "metadata": {
  "kernelspec": {
   "display_name": "Julia 1.10.2",
   "language": "julia",
   "name": "julia-1.10"
  },
  "language_info": {
   "file_extension": ".jl",
   "mimetype": "application/julia",
   "name": "julia",
   "version": "1.10.2"
  }
 },
 "nbformat": 4,
 "nbformat_minor": 2
}
