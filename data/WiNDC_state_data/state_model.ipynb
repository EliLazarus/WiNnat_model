{
 "cells": [
  {
   "cell_type": "code",
   "execution_count": 1,
   "metadata": {},
   "outputs": [],
   "source": [
    "using MPSGE_MP\n",
    "\n",
    "using JLD2, CSV\n",
    "\n",
    "using DataFrames\n",
    "\n",
    "using JuMP,PATHSolver\n",
    "\n",
    "using JuMP.Containers\n",
    "\n",
    "import GamsStructure, GDX"
   ]
  },
  {
   "cell_type": "code",
   "execution_count": 2,
   "metadata": {},
   "outputs": [],
   "source": [
    "gams_sols = CSV.read(\"../state_sols_gams.csv\",DataFrame; stringtype=String) |>\n",
    "    x -> rename(x, :level => :gams_value);"
   ]
  },
  {
   "cell_type": "code",
   "execution_count": 3,
   "metadata": {},
   "outputs": [
    {
     "data": {
      "text/plain": [
       "Sets\n",
       "\n",
       "m => Margins (trade or transport)\n",
       "s => BEA Goods and sectors categories => Aliases: [:g]\n",
       "g => BEA Goods and sectors categories => Aliases: [:s]\n",
       "gm => Commodities employed in margin supply\n",
       "yr => Years in WiNDC Database\n",
       "r => Regions in WiNDC Database\n",
       "\n",
       "Parameters\n",
       "\n",
       "bopdef0_ => (:yr, :r) => Balance of payments (closure parameter)\n",
       "dm0_ => (:yr, :r, :g, :m) => Margin supply from the local market\n",
       "nd0_ => (:yr, :r, :g) => Regional demand from national marke\n",
       "id0_ => (:yr, :r, :g, :s) => Regional intermediate demand\n",
       "a0_ => (:yr, :r, :g) => Domestic absorption\n",
       "ld0_ => (:yr, :r, :s) => Labor demand\n",
       "rx0_ => (:yr, :r, :g) => Re-exports\n",
       "c0_ => (:yr, :r) => Total final household consumption\n",
       "s0_ => (:yr, :r, :g) => Total supply\n",
       "xn0_ => (:yr, :r, :g) => Regional supply to national market\n",
       "md0_ => (:yr, :r, :m, :g) => Margin demand\n",
       "ys0_ => (:yr, :r, :s, :g) => Regional sectoral output\n",
       "xd0_ => (:yr, :r, :g) => Regional supply to local market\n",
       "ty0_ => (:yr, :r, :s) => Production tax rate\n",
       "hhadj0_ => (:yr, :r) => Household adjustment parameter\n",
       "cd0_ => (:yr, :r, :s) => Consumption demand\n",
       "fe0_ => (:yr, :r) => Total factor supply\n",
       "m0_ => (:yr, :r, :g) => Foreign Imports\n",
       "dd0_ => (:yr, :r, :g) => Regional demand from local market\n",
       "i0_ => (:yr, :r, :s) => Investment demand\n",
       "tm0_ => (:yr, :r, :g) => Import taxes\n",
       "gdp0_ => (:yr, :r) => Aggregate GDP\n",
       "nm0_ => (:yr, :r, :g, :m) => Margin demand from the national market\n",
       "kd0_ => (:yr, :r, :s) => Capital demand\n",
       "g0_ => (:yr, :r, :s) => Government demand\n",
       "x0_ => (:yr, :r, :g) => Foreign Exports\n",
       "ta0_ => (:yr, :r, :g) => Absorption taxes\n",
       "yh0_ => (:yr, :r, :s) => Household production\n"
      ]
     },
     "metadata": {},
     "output_type": "display_data"
    }
   ],
   "source": [
    "## Julia generated data\n",
    " GU = GamsStructure.load_universe(\"../WiNDCdatabase\",raw_text=false);\n",
    "\n",
    "#GU = load_universe_gdx(\n",
    "#    raw\"C:\\Users\\mphillipson\\Documents\\WiNDC\\windc_build\\core\\WiNDCdatabase.gdx\",\n",
    "#    aliases = Dict(:s => [:g])\n",
    "#);"
   ]
  },
  {
   "cell_type": "code",
   "execution_count": 4,
   "metadata": {},
   "outputs": [],
   "source": [
    "GamsStructure.@extract_sets_as_vector(GU,    \n",
    "    # Sets\n",
    "    m => M,\n",
    "    s => S,\n",
    "    g => G,\n",
    "    gm => GM,\n",
    "    yr => YR,\n",
    "    r => R,\n",
    ")\n",
    "\n",
    "GamsStructure.@extract(GU, \n",
    "    # Parameters\n",
    "    bopdef0_ => bopdef0,\n",
    "    dm0_ => dm0,\n",
    "    nd0_ => nd0,\n",
    "    id0_ => id0,\n",
    "    a0_ => a0,\n",
    "    ld0_ => ld0,\n",
    "    rx0_ => rx0,\n",
    "    c0_ => c0,\n",
    "    s0_ => s0,\n",
    "    xn0_ => xn0,\n",
    "    md0_ => md0,\n",
    "    ys0_ => ys0,\n",
    "    xd0_ => xd0,\n",
    "    ty0_ => ty0,\n",
    "    hhadj0_ => hhadj0,\n",
    "    cd0_ => cd0,\n",
    "    fe0_ => fe0,\n",
    "    m0_ => m0,\n",
    "    dd0_ => dd0,\n",
    "    i0_ => i0,\n",
    "    tm0_ => tm0,\n",
    "    gdp0_ => gdp0,\n",
    "    nm0_ => nm0,\n",
    "    kd0_ => kd0,\n",
    "    g0_ => g0,\n",
    "    x0_ => x0,\n",
    "    ta0_ => ta0,\n",
    "    yh0_ => yh0\n",
    ");\n",
    "\n",
    "\n",
    "#This is the slow part\n",
    "\n",
    "#ty = ty0 #deepcopy(ty0)\n",
    "#ta = ta0 #deepcopy(ta0)\n",
    "#tm = deepcopy(tm0)\n",
    "\n",
    "#tm[:yr,:r,:g] = 0*tm[:yr,:r,:g]\n",
    "1;"
   ]
  },
  {
   "cell_type": "code",
   "execution_count": 7,
   "metadata": {},
   "outputs": [],
   "source": [
    "yr = Symbol(2017)\n",
    "\n",
    "state = MPSGEModel()\n",
    "\n",
    "\n",
    "@parameters(state, begin\n",
    "    ta, ta0, (index = [YR,R,G],)\n",
    "    ty, ty0, (index = [YR,R,S],)\n",
    "    tm, tm0, (index = [YR,R,G],)\n",
    "end)\n",
    "\n",
    "\n",
    "@sectors(state,begin\n",
    "    Y, (index = [R,S],  description = \"Production\")\n",
    "    X, (index = [R,G],  description = \"Disposition\")\n",
    "    A, (index = [R,G],  description = \"Absorption\")\n",
    "    C, (index = [R],    description = \"Aggregate final demand\")\n",
    "    MS,(index = [R,M],  description = \"Margin supply\")\n",
    "end)\n",
    "\n",
    "\n",
    "@commodities(state,begin\n",
    "    PA, (index = [R,G], description = \"Regional market (input)\")\n",
    "    PY, (index = [R,G], description = \"Regional market (output)\")\n",
    "    PD, (index = [R,G], description = \"Local market price\")\n",
    "    PN, (index = [G],   description = \"National market\")\n",
    "    PL, (index = [R],   description = \"Wage rate\")\n",
    "    PK, (index = [R,S], description = \"Rental rate of capital\")\n",
    "    PM, (index = [R,M], description = \"Margin price\")\n",
    "    PC, (index = [R],   description = \"Consumer price index\")\n",
    "    PFX, (              description = \"Foreign exchange\",)\n",
    "end)\n",
    "\n",
    "@consumer(state, RA, index = [R], description = \"Representative agent\")\n",
    "\n",
    "\n",
    "\n",
    "\n",
    "for r∈R,s∈S\n",
    "    @production(state, Y[r,s], [t=0, s=0, va=>s=1], begin\n",
    "        [@Output(PY[r,g],ys0[yr,r,s,g], t, taxes = [Tax(RA[r],ty[yr,r,s])], reference_price = 1-ty0[yr,r,s]) for g∈G]...\n",
    "        [@Input(PA[r,g], id0[yr,r,g,s], s) for g∈G]...\n",
    "        @Input(PL[r],    ld0[yr,r,s],   va)\n",
    "        @Input(PK[r,s],  kd0[yr,r,s],   va)\n",
    "    end)\n",
    "end\n",
    "\n",
    "\n",
    "for r∈R,g∈G\n",
    "    @production(state, X[r,g], [t = 4, s = 0], begin\n",
    "        @Output(PFX,     x0[yr,r,g] - rx0[yr,r,g],  t)\n",
    "        @Output(PN[g],   xn0[yr,r,g],               t)\n",
    "        @Output(PD[r,g], xd0[yr,r,g],               t)\n",
    "        @Input(PY[r,g],  s0[yr,r,g],                s)\n",
    "    end)\n",
    "end\n",
    "\n",
    "\n",
    "\n",
    "for r∈R,g∈G\n",
    "    @production(state, A[r,g], [t = 0, s = 0, d=>s = 2, dm => d = 4], begin\n",
    "        @Output(PA[r,g], a0[yr,r,g],    t, taxes=[Tax(RA[r],ta[yr,r,g])], reference_price = 1-ta0[yr,r,g])\n",
    "        @Output(PFX,     rx0[yr,r,g],   t)\n",
    "        [@Input(PM[r,m], md0[yr,r,m,g], s) for m∈M]...\n",
    "        @Input(PFX,      m0[yr,r,g],    d, taxes = [Tax(RA[r],tm[yr,r,g])], reference_price=1+tm0[yr,r,g])\n",
    "        @Input(PN[g],    nd0[yr,r,g],   dm)\n",
    "        @Input(PD[r,g],  dd0[yr,r,g],   dm)\n",
    "    end)\n",
    "end\n",
    "\n",
    "\n",
    "for r∈R,m∈M\n",
    "    @production(state, MS[r,m], [t=0, s = 0], begin\n",
    "        @Output(PM[r,m],  sum(md0[yr,r,m,gm] for gm∈GM), t)\n",
    "        [@Input(PN[gm],   nm0[yr,r,gm,m],                s) for gm∈GM]...\n",
    "        [@Input(PD[r,gm], dm0[yr,r,gm,m],                s) for gm∈GM]...\n",
    "    end)\n",
    "end\n",
    "\n",
    "\n",
    "for r∈R\n",
    "    @production(state, C[r], [ t = 0, s = 1], begin\n",
    "            @Output(PC[r],   c0[yr,r],    t)\n",
    "            [@Input(PA[r,g], cd0[yr,r,g], s) for g∈G]...\n",
    "    end)\n",
    "end\n",
    "\n",
    "\n",
    "for r∈R\n",
    "    add_demand!(state, RA[r],\n",
    "        [ScalarDem(PC[r], c0[yr,r])],\n",
    "        [\n",
    "            [ScalarEndowment(PY[r,g], yh0[yr,r,g]) for g∈G];\n",
    "            [ScalarEndowment(PFX, bopdef0[yr,r] + hhadj0[yr,r])];\n",
    "            [ScalarEndowment(PA[r,g], -g0[yr,r,g] - i0[yr,r,g]) for g∈G];\n",
    "            [ScalarEndowment(PL[r], sum(ld0[yr,r,s] for s∈S))];\n",
    "            [ScalarEndowment(PK[r,s], kd0[yr,r,s]) for s∈S]\n",
    "        ]\n",
    "    )\n",
    "end\n",
    "\n",
    "\n",
    "#jm = build!(state);"
   ]
  },
  {
   "cell_type": "code",
   "execution_count": 8,
   "metadata": {},
   "outputs": [],
   "source": [
    "build!(state)"
   ]
  },
  {
   "cell_type": "markdown",
   "metadata": {},
   "source": [
    "# Benchmark"
   ]
  },
  {
   "cell_type": "code",
   "execution_count": 9,
   "metadata": {},
   "outputs": [
    {
     "name": "stdout",
     "output_type": "stream",
     "text": [
      "Reading options file C:\\Users\\MPHILL~1\\AppData\\Local\\Temp\\jl_9E61.tmp\n",
      " > cumulative_iteration_limit 0\n",
      "Read of options file complete.\n",
      "\n",
      "Path 5.0.03 (Fri Jun 26 10:05:33 2020)\n",
      "Written by Todd Munson, Steven Dirkse, Youngdae Kim, and Michael Ferris\n",
      "Preprocessed size   : 25826\n",
      "\n",
      "Major Iteration Log\n",
      "major minor  func  grad  residual    step  type prox    inorm  (label)\n",
      "    0     0     1     1 5.1403e-09           I 0.0e+00 1.8e-09 (market_clearanc)\n",
      "\n",
      "Major Iterations. . . . 0\n",
      "Minor Iterations. . . . 0\n",
      "Restarts. . . . . . . . 0\n",
      "Crash Iterations. . . . 0\n",
      "Gradient Steps. . . . . 0\n",
      "Function Evaluations. . 1\n",
      "Gradient Evaluations. . 1\n",
      "Basis Time. . . . . . . 0.000000\n",
      "Total Time. . . . . . . 0.969000\n",
      "Residual. . . . . . . . 5.140277e-09\n",
      "Postsolved residual: 5.1403e-09\n"
     ]
    }
   ],
   "source": [
    "fix(RA[:CA], c0[yr,:CA])\n",
    "\n",
    "solve!(state; cumulative_iteration_limit = 0)"
   ]
  },
  {
   "cell_type": "markdown",
   "metadata": {},
   "source": [
    "# Counterfactual"
   ]
  },
  {
   "cell_type": "code",
   "execution_count": 10,
   "metadata": {},
   "outputs": [
    {
     "name": "stdout",
     "output_type": "stream",
     "text": [
      "Path 5.0.03 (Fri Jun 26 10:05:33 2020)\n",
      "Written by Todd Munson, Steven Dirkse, Youngdae Kim, and Michael Ferris\n",
      "\n",
      "Zero:   428 Single:     0 Double:     0\n",
      "Preprocessed size   : 25398\n",
      "\n",
      "Crash Log\n",
      "major  func  diff  size  residual    step       prox   (label)\n",
      "    0     0             1.3510e+01             0.0e+00 (market_clearance[PN(:mo)\n",
      "    1     1     0 25398 4.4614e-02  1.0e+00    0.0e+00 (market_clearance[PFX)\n",
      "pn_search terminated: no basis change.\n",
      "\n",
      "Major Iteration Log\n",
      "major minor  func  grad  residual    step  type prox    inorm  (label)\n",
      "    0     0     2     2 4.4614e-02           I 0.0e+00 3.3e-02 (market_clearanc)\n",
      "    1     1     3     3 2.4721e-04  1.0e+00 SO 0.0e+00 1.8e-04 (market_clearanc)\n",
      "    2     1     4     4 4.6634e-08  1.0e+00 SO 0.0e+00 2.8e-08 (market_clearanc)\n",
      "\n",
      "Major Iterations. . . . 2\n",
      "Minor Iterations. . . . 2\n",
      "Restarts. . . . . . . . 0\n",
      "Crash Iterations. . . . 1\n",
      "Gradient Steps. . . . . 0\n",
      "Function Evaluations. . 4\n",
      "Gradient Evaluations. . 4\n",
      "Basis Time. . . . . . . 4.374000\n",
      "Total Time. . . . . . . 5.703000\n",
      "Residual. . . . . . . . 4.663436e-08\n",
      "Postsolved residual: 4.6634e-08\n"
     ]
    }
   ],
   "source": [
    "set_value!(tm,0)\n",
    "\n",
    "solve!(state)"
   ]
  },
  {
   "cell_type": "code",
   "execution_count": 11,
   "metadata": {},
   "outputs": [],
   "source": [
    "df = generate_report(state) |>\n",
    "    x -> transform(x,\n",
    "        :var => ByRow(JuMP.name) => :variable\n",
    "    ) |>\n",
    "    x -> outerjoin(x, gams_sols, on = :variable) |>\n",
    "    x -> dropmissing(x);"
   ]
  },
  {
   "cell_type": "code",
   "execution_count": 12,
   "metadata": {},
   "outputs": [
    {
     "data": {
      "text/html": [
       "<div><div style = \"float: left;\"><span>25641×6 DataFrame</span></div><div style = \"float: right;\"><span style = \"font-style: italic;\">25616 rows omitted</span></div><div style = \"clear: both;\"></div></div><div class = \"data-frame\" style = \"overflow-x: scroll;\"><table class = \"data-frame\" style = \"margin-bottom: 6px;\"><thead><tr class = \"header\"><th class = \"rowNumber\" style = \"font-weight: bold; text-align: right;\">Row</th><th style = \"text-align: left;\">var</th><th style = \"text-align: left;\">value</th><th style = \"text-align: left;\">margin</th><th style = \"text-align: left;\">variable</th><th style = \"text-align: left;\">gams_value</th><th style = \"text-align: left;\">diff</th></tr><tr class = \"subheader headerLastRow\"><th class = \"rowNumber\" style = \"font-weight: bold; text-align: right;\"></th><th title = \"VariableRef\" style = \"text-align: left;\">GenericV…</th><th title = \"Float64\" style = \"text-align: left;\">Float64</th><th title = \"Float64\" style = \"text-align: left;\">Float64</th><th title = \"String\" style = \"text-align: left;\">String</th><th title = \"Float64\" style = \"text-align: left;\">Float64</th><th title = \"Float64\" style = \"text-align: left;\">Float64</th></tr></thead><tbody><tr><td class = \"rowNumber\" style = \"font-weight: bold; text-align: right;\">1</td><td style = \"text-align: left;\">RA[TX]</td><td style = \"text-align: right;\">1062.6</td><td style = \"text-align: right;\">-2.27374e-13</td><td style = \"text-align: left;\">RA[TX]</td><td style = \"text-align: right;\">1062.9</td><td style = \"text-align: right;\">0.305543</td></tr><tr><td class = \"rowNumber\" style = \"font-weight: bold; text-align: right;\">2</td><td style = \"text-align: left;\">RA[FL]</td><td style = \"text-align: right;\">902.007</td><td style = \"text-align: right;\">-1.13687e-13</td><td style = \"text-align: left;\">RA[FL]</td><td style = \"text-align: right;\">902.286</td><td style = \"text-align: right;\">0.278943</td></tr><tr><td class = \"rowNumber\" style = \"font-weight: bold; text-align: right;\">3</td><td style = \"text-align: left;\">RA[NY]</td><td style = \"text-align: right;\">913.913</td><td style = \"text-align: right;\">-1.13687e-13</td><td style = \"text-align: left;\">RA[NY]</td><td style = \"text-align: right;\">913.702</td><td style = \"text-align: right;\">0.211367</td></tr><tr><td class = \"rowNumber\" style = \"font-weight: bold; text-align: right;\">4</td><td style = \"text-align: left;\">RA[MI]</td><td style = \"text-align: right;\">384.83</td><td style = \"text-align: right;\">-1.7053e-13</td><td style = \"text-align: left;\">RA[MI]</td><td style = \"text-align: right;\">385.04</td><td style = \"text-align: right;\">0.2109</td></tr><tr><td class = \"rowNumber\" style = \"font-weight: bold; text-align: right;\">5</td><td style = \"text-align: left;\">RA[PA]</td><td style = \"text-align: right;\">541.287</td><td style = \"text-align: right;\">3.39924e-11</td><td style = \"text-align: left;\">RA[PA]</td><td style = \"text-align: right;\">541.436</td><td style = \"text-align: right;\">0.149573</td></tr><tr><td class = \"rowNumber\" style = \"font-weight: bold; text-align: right;\">6</td><td style = \"text-align: left;\">RA[NJ]</td><td style = \"text-align: right;\">413.06</td><td style = \"text-align: right;\">2.27374e-13</td><td style = \"text-align: left;\">RA[NJ]</td><td style = \"text-align: right;\">413.167</td><td style = \"text-align: right;\">0.106283</td></tr><tr><td class = \"rowNumber\" style = \"font-weight: bold; text-align: right;\">7</td><td style = \"text-align: left;\">RA[OH]</td><td style = \"text-align: right;\">433.433</td><td style = \"text-align: right;\">-1.13687e-13</td><td style = \"text-align: left;\">RA[OH]</td><td style = \"text-align: right;\">433.536</td><td style = \"text-align: right;\">0.103868</td></tr><tr><td class = \"rowNumber\" style = \"font-weight: bold; text-align: right;\">8</td><td style = \"text-align: left;\">RA[SC]</td><td style = \"text-align: right;\">178.056</td><td style = \"text-align: right;\">1.98952e-13</td><td style = \"text-align: left;\">RA[SC]</td><td style = \"text-align: right;\">178.14</td><td style = \"text-align: right;\">0.0835043</td></tr><tr><td class = \"rowNumber\" style = \"font-weight: bold; text-align: right;\">9</td><td style = \"text-align: left;\">RA[MO]</td><td style = \"text-align: right;\">228.354</td><td style = \"text-align: right;\">2.55795e-13</td><td style = \"text-align: left;\">RA[MO]</td><td style = \"text-align: right;\">228.435</td><td style = \"text-align: right;\">0.0814896</td></tr><tr><td class = \"rowNumber\" style = \"font-weight: bold; text-align: right;\">10</td><td style = \"text-align: left;\">RA[IN]</td><td style = \"text-align: right;\">235.391</td><td style = \"text-align: right;\">-4.26326e-13</td><td style = \"text-align: left;\">RA[IN]</td><td style = \"text-align: right;\">235.468</td><td style = \"text-align: right;\">0.0772355</td></tr><tr><td class = \"rowNumber\" style = \"font-weight: bold; text-align: right;\">11</td><td style = \"text-align: left;\">PK[ID,alt]</td><td style = \"text-align: right;\">0.51913</td><td style = \"text-align: right;\">9.76688e-9</td><td style = \"text-align: left;\">PK[ID,alt]</td><td style = \"text-align: right;\">0.584051</td><td style = \"text-align: right;\">0.064921</td></tr><tr><td class = \"rowNumber\" style = \"font-weight: bold; text-align: right;\">12</td><td style = \"text-align: left;\">PK[WI,alt]</td><td style = \"text-align: right;\">0.627851</td><td style = \"text-align: right;\">2.50387e-9</td><td style = \"text-align: left;\">PK[WI,alt]</td><td style = \"text-align: right;\">0.691853</td><td style = \"text-align: right;\">0.0640018</td></tr><tr><td class = \"rowNumber\" style = \"font-weight: bold; text-align: right;\">13</td><td style = \"text-align: left;\">Y[ID,alt]</td><td style = \"text-align: right;\">0.52967</td><td style = \"text-align: right;\">-1.67503e-8</td><td style = \"text-align: left;\">Y[ID,alt]</td><td style = \"text-align: right;\">0.593062</td><td style = \"text-align: right;\">0.0633918</td></tr><tr><td style = \"text-align: right;\">&vellip;</td><td style = \"text-align: right;\">&vellip;</td><td style = \"text-align: right;\">&vellip;</td><td style = \"text-align: right;\">&vellip;</td><td style = \"text-align: right;\">&vellip;</td><td style = \"text-align: right;\">&vellip;</td><td style = \"text-align: right;\">&vellip;</td></tr><tr><td class = \"rowNumber\" style = \"font-weight: bold; text-align: right;\">25630</td><td style = \"text-align: left;\">PK[HI,oil]</td><td style = \"text-align: right;\">0.0</td><td style = \"text-align: right;\">-0.0</td><td style = \"text-align: left;\">PK[HI,oil]</td><td style = \"text-align: right;\">0.0</td><td style = \"text-align: right;\">0.0</td></tr><tr><td class = \"rowNumber\" style = \"font-weight: bold; text-align: right;\">25631</td><td style = \"text-align: left;\">PK[HI,pip]</td><td style = \"text-align: right;\">0.0</td><td style = \"text-align: right;\">-0.0</td><td style = \"text-align: left;\">PK[HI,pip]</td><td style = \"text-align: right;\">0.0</td><td style = \"text-align: right;\">0.0</td></tr><tr><td class = \"rowNumber\" style = \"font-weight: bold; text-align: right;\">25632</td><td style = \"text-align: left;\">PK[HI,trn]</td><td style = \"text-align: right;\">0.0</td><td style = \"text-align: right;\">-0.0</td><td style = \"text-align: left;\">PK[HI,trn]</td><td style = \"text-align: right;\">0.0</td><td style = \"text-align: right;\">0.0</td></tr><tr><td class = \"rowNumber\" style = \"font-weight: bold; text-align: right;\">25633</td><td style = \"text-align: left;\">PK[IA,oil]</td><td style = \"text-align: right;\">0.0</td><td style = \"text-align: right;\">-0.0</td><td style = \"text-align: left;\">PK[IA,oil]</td><td style = \"text-align: right;\">0.0</td><td style = \"text-align: right;\">0.0</td></tr><tr><td class = \"rowNumber\" style = \"font-weight: bold; text-align: right;\">25634</td><td style = \"text-align: left;\">PK[ME,oil]</td><td style = \"text-align: right;\">0.0</td><td style = \"text-align: right;\">-0.0</td><td style = \"text-align: left;\">PK[ME,oil]</td><td style = \"text-align: right;\">0.0</td><td style = \"text-align: right;\">0.0</td></tr><tr><td class = \"rowNumber\" style = \"font-weight: bold; text-align: right;\">25635</td><td style = \"text-align: left;\">PK[ME,smn]</td><td style = \"text-align: right;\">0.0</td><td style = \"text-align: right;\">-0.0</td><td style = \"text-align: left;\">PK[ME,smn]</td><td style = \"text-align: right;\">0.0</td><td style = \"text-align: right;\">0.0</td></tr><tr><td class = \"rowNumber\" style = \"font-weight: bold; text-align: right;\">25636</td><td style = \"text-align: left;\">PK[NH,oil]</td><td style = \"text-align: right;\">0.0</td><td style = \"text-align: right;\">-0.0</td><td style = \"text-align: left;\">PK[NH,oil]</td><td style = \"text-align: right;\">0.0</td><td style = \"text-align: right;\">0.0</td></tr><tr><td class = \"rowNumber\" style = \"font-weight: bold; text-align: right;\">25637</td><td style = \"text-align: left;\">PK[OR,oil]</td><td style = \"text-align: right;\">0.0</td><td style = \"text-align: right;\">-0.0</td><td style = \"text-align: left;\">PK[OR,oil]</td><td style = \"text-align: right;\">0.0</td><td style = \"text-align: right;\">0.0</td></tr><tr><td class = \"rowNumber\" style = \"font-weight: bold; text-align: right;\">25638</td><td style = \"text-align: left;\">PK[RI,oil]</td><td style = \"text-align: right;\">0.0</td><td style = \"text-align: right;\">-0.0</td><td style = \"text-align: left;\">PK[RI,oil]</td><td style = \"text-align: right;\">0.0</td><td style = \"text-align: right;\">0.0</td></tr><tr><td class = \"rowNumber\" style = \"font-weight: bold; text-align: right;\">25639</td><td style = \"text-align: left;\">PK[RI,smn]</td><td style = \"text-align: right;\">0.0</td><td style = \"text-align: right;\">-0.0</td><td style = \"text-align: left;\">PK[RI,smn]</td><td style = \"text-align: right;\">0.0</td><td style = \"text-align: right;\">0.0</td></tr><tr><td class = \"rowNumber\" style = \"font-weight: bold; text-align: right;\">25640</td><td style = \"text-align: left;\">PK[VT,oil]</td><td style = \"text-align: right;\">0.0</td><td style = \"text-align: right;\">-0.0</td><td style = \"text-align: left;\">PK[VT,oil]</td><td style = \"text-align: right;\">0.0</td><td style = \"text-align: right;\">0.0</td></tr><tr><td class = \"rowNumber\" style = \"font-weight: bold; text-align: right;\">25641</td><td style = \"text-align: left;\">PK[WY,ppd]</td><td style = \"text-align: right;\">0.0</td><td style = \"text-align: right;\">-0.0</td><td style = \"text-align: left;\">PK[WY,ppd]</td><td style = \"text-align: right;\">0.0</td><td style = \"text-align: right;\">0.0</td></tr></tbody></table></div>"
      ],
      "text/latex": [
       "\\begin{tabular}{r|cccccc}\n",
       "\t& var & value & margin & variable & gams\\_value & diff\\\\\n",
       "\t\\hline\n",
       "\t& GenericV… & Float64 & Float64 & String & Float64 & Float64\\\\\n",
       "\t\\hline\n",
       "\t1 & $ RA_{TX} $ & 1062.6 & -2.27374e-13 & RA[TX] & 1062.9 & 0.305543 \\\\\n",
       "\t2 & $ RA_{FL} $ & 902.007 & -1.13687e-13 & RA[FL] & 902.286 & 0.278943 \\\\\n",
       "\t3 & $ RA_{NY} $ & 913.913 & -1.13687e-13 & RA[NY] & 913.702 & 0.211367 \\\\\n",
       "\t4 & $ RA_{MI} $ & 384.83 & -1.7053e-13 & RA[MI] & 385.04 & 0.2109 \\\\\n",
       "\t5 & $ RA_{PA} $ & 541.287 & 3.39924e-11 & RA[PA] & 541.436 & 0.149573 \\\\\n",
       "\t6 & $ RA_{NJ} $ & 413.06 & 2.27374e-13 & RA[NJ] & 413.167 & 0.106283 \\\\\n",
       "\t7 & $ RA_{OH} $ & 433.433 & -1.13687e-13 & RA[OH] & 433.536 & 0.103868 \\\\\n",
       "\t8 & $ RA_{SC} $ & 178.056 & 1.98952e-13 & RA[SC] & 178.14 & 0.0835043 \\\\\n",
       "\t9 & $ RA_{MO} $ & 228.354 & 2.55795e-13 & RA[MO] & 228.435 & 0.0814896 \\\\\n",
       "\t10 & $ RA_{IN} $ & 235.391 & -4.26326e-13 & RA[IN] & 235.468 & 0.0772355 \\\\\n",
       "\t11 & $ PK_{ID,alt} $ & 0.51913 & 9.76688e-9 & PK[ID,alt] & 0.584051 & 0.064921 \\\\\n",
       "\t12 & $ PK_{WI,alt} $ & 0.627851 & 2.50387e-9 & PK[WI,alt] & 0.691853 & 0.0640018 \\\\\n",
       "\t13 & $ Y_{ID,alt} $ & 0.52967 & -1.67503e-8 & Y[ID,alt] & 0.593062 & 0.0633918 \\\\\n",
       "\t14 & $ RA_{OK} $ & 128.036 & -2.84217e-14 & RA[OK] & 128.099 & 0.063321 \\\\\n",
       "\t15 & $ RA_{MN} $ & 239.887 & 4.26326e-13 & RA[MN] & 239.949 & 0.06225 \\\\\n",
       "\t16 & $ RA_{TN} $ & 234.097 & -2.55795e-13 & RA[TN] & 234.159 & 0.0622419 \\\\\n",
       "\t17 & $ Y_{WI,alt} $ & 0.637421 & -4.59959e-9 & Y[WI,alt] & 0.699372 & 0.0619508 \\\\\n",
       "\t18 & $ PK_{PA,alt} $ & 0.624709 & 2.35285e-9 & PK[PA,alt] & 0.685148 & 0.0604394 \\\\\n",
       "\t19 & $ Y_{PA,alt} $ & 0.633526 & -3.53674e-9 & Y[PA,alt] & 0.692127 & 0.0586007 \\\\\n",
       "\t20 & $ RA_{AR} $ & 94.6558 & -2.13163e-13 & RA[AR] & 94.7142 & 0.0583618 \\\\\n",
       "\t21 & $ PK_{HI,alt} $ & 0.60308 & 1.56064e-9 & PK[HI,alt] & 0.660238 & 0.0571582 \\\\\n",
       "\t22 & $ RA_{AZ} $ & 262.502 & -5.68434e-14 & RA[AZ] & 262.559 & 0.0567774 \\\\\n",
       "\t23 & $ PK_{WA,alt} $ & 0.656101 & 6.05128e-10 & PK[WA,alt] & 0.712825 & 0.0567235 \\\\\n",
       "\t24 & $ RA_{KY} $ & 148.742 & 2.84217e-14 & RA[KY] & 148.798 & 0.0567134 \\\\\n",
       "\t$\\dots$ & $\\dots$ & $\\dots$ & $\\dots$ & $\\dots$ & $\\dots$ & $\\dots$ \\\\\n",
       "\\end{tabular}\n"
      ],
      "text/plain": [
       "\u001b[1m25641×6 DataFrame\u001b[0m\n",
       "\u001b[1m   Row \u001b[0m│\u001b[1m var        \u001b[0m\u001b[1m value      \u001b[0m\u001b[1m margin       \u001b[0m\u001b[1m variable   \u001b[0m\u001b[1m gams_value  \u001b[0m\u001b[1m diff  \u001b[0m ⋯\n",
       "       │\u001b[90m GenericV…  \u001b[0m\u001b[90m Float64    \u001b[0m\u001b[90m Float64      \u001b[0m\u001b[90m String     \u001b[0m\u001b[90m Float64     \u001b[0m\u001b[90m Float6\u001b[0m ⋯\n",
       "───────┼────────────────────────────────────────────────────────────────────────\n",
       "     1 │ RA[TX]      1062.6      -2.27374e-13  RA[TX]      1062.9       0.3055 ⋯\n",
       "     2 │ RA[FL]       902.007    -1.13687e-13  RA[FL]       902.286     0.2789\n",
       "     3 │ RA[NY]       913.913    -1.13687e-13  RA[NY]       913.702     0.2113\n",
       "     4 │ RA[MI]       384.83     -1.7053e-13   RA[MI]       385.04      0.2109\n",
       "     5 │ RA[PA]       541.287     3.39924e-11  RA[PA]       541.436     0.1495 ⋯\n",
       "     6 │ RA[NJ]       413.06      2.27374e-13  RA[NJ]       413.167     0.1062\n",
       "     7 │ RA[OH]       433.433    -1.13687e-13  RA[OH]       433.536     0.1038\n",
       "     8 │ RA[SC]       178.056     1.98952e-13  RA[SC]       178.14      0.0835\n",
       "   ⋮   │     ⋮           ⋮            ⋮            ⋮            ⋮           ⋮  ⋱\n",
       " 25635 │ PK[ME,smn]     0.0      -0.0          PK[ME,smn]     0.0       0.0    ⋯\n",
       " 25636 │ PK[NH,oil]     0.0      -0.0          PK[NH,oil]     0.0       0.0\n",
       " 25637 │ PK[OR,oil]     0.0      -0.0          PK[OR,oil]     0.0       0.0\n",
       " 25638 │ PK[RI,oil]     0.0      -0.0          PK[RI,oil]     0.0       0.0\n",
       " 25639 │ PK[RI,smn]     0.0      -0.0          PK[RI,smn]     0.0       0.0    ⋯\n",
       " 25640 │ PK[VT,oil]     0.0      -0.0          PK[VT,oil]     0.0       0.0\n",
       " 25641 │ PK[WY,ppd]     0.0      -0.0          PK[WY,ppd]     0.0       0.0\n",
       "\u001b[36m                                                 1 column and 25626 rows omitted\u001b[0m"
      ]
     },
     "metadata": {},
     "output_type": "display_data"
    }
   ],
   "source": [
    "df |>\n",
    "    x -> transform(x,\n",
    "        [:value,:gams_value] => ((a,b) -> abs.(a-b)) => :diff\n",
    "    ) |>\n",
    "    x -> sort(x, :diff, rev = true)"
   ]
  },
  {
   "cell_type": "code",
   "execution_count": 13,
   "metadata": {},
   "outputs": [
    {
     "data": {
      "text/plain": [
       "-13.418081211404933"
      ]
     },
     "metadata": {},
     "output_type": "display_data"
    }
   ],
   "source": [
    "compensated_demand(Y[:WI,:ppd], PY[:WI,:ppd])"
   ]
  },
  {
   "cell_type": "code",
   "execution_count": 14,
   "metadata": {},
   "outputs": [
    {
     "data": {
      "text/plain": [
       "$Production: Y(:WI, :ppd)\n",
       ":t = 0\n",
       "  O:PY(:WI, :fmt)    Q: 7.477409663278371e-5    P:0.9905916270983147    A:RA(:WI,)    T:ty[2017,WI,ppd]\n",
       "  O:PY(:WI, :nmp)    Q: 0.004582736338749625    P:0.9905916270983147    A:RA(:WI,)    T:ty[2017,WI,ppd]\n",
       "  O:PY(:WI, :tex)    Q: 0.02491516529223812    P:0.9905916270983147    A:RA(:WI,)    T:ty[2017,WI,ppd]\n",
       "  O:PY(:WI, :con)    Q: 0.005986539496328994    P:0.9905916270983147    A:RA(:WI,)    T:ty[2017,WI,ppd]\n",
       "  O:PY(:WI, :pla)    Q: 0.05201752574265005    P:0.9905916270983147    A:RA(:WI,)    T:ty[2017,WI,ppd]\n",
       "  O:PY(:WI, :ppd)    Q: 13.418081211404933    P:0.9905916270983147    A:RA(:WI,)    T:ty[2017,WI,ppd]\n",
       "  O:PY(:WI, :che)    Q: 0.009845297912877846    P:0.9905916270983147    A:RA(:WI,)    T:ty[2017,WI,ppd]\n",
       "  O:PY(:WI, :tsv)    Q: 0.043859396899654964    P:0.9905916270983147    A:RA(:WI,)    T:ty[2017,WI,ppd]\n",
       "  O:PY(:WI, :mmf)    Q: 0.004507176972946336    P:0.9905916270983147    A:RA(:WI,)    T:ty[2017,WI,ppd]\n",
       "  O:PY(:WI, :cep)    Q: 0.04394922014017966    P:0.9905916270983147    A:RA(:WI,)    T:ty[2017,WI,ppd]\n",
       "  O:PY(:WI, :wht)    Q: 0.0780975868987354    P:0.9905916270983147    A:RA(:WI,)    T:ty[2017,WI,ppd]\n",
       "  O:PY(:WI, :wpd)    Q: 0.03879864548063044    P:0.9905916270983147    A:RA(:WI,)    T:ty[2017,WI,ppd]\n",
       "  O:PY(:WI, :com)    Q: 0.003902634847027939    P:0.9905916270983147    A:RA(:WI,)    T:ty[2017,WI,ppd]\n",
       "  O:PY(:WI, :pri)    Q: 0.015686436101464078    P:0.9905916270983147    A:RA(:WI,)    T:ty[2017,WI,ppd]\n",
       "\n",
       ":s = 0\n",
       "  :va = 1\n",
       "    I:PK(:WI, :ppd)    Q: 1.8639062571023035\n",
       "    I:PL(:WI,)    Q: 2.290265909206672\n",
       "\n",
       "  I:PA(:WI, :fpd)    Q: 7.920090050242212e-5\n",
       "  I:PA(:WI, :fbp)    Q: 0.12758550594966073\n",
       "  I:PA(:WI, :osv)    Q: 0.11154904594104631\n",
       "  I:PA(:WI, :wrh)    Q: 0.27989986698759783\n",
       "  I:PA(:WI, :air)    Q: 0.011223045776531807\n",
       "  I:PA(:WI, :min)    Q: 0.12946028132045376\n",
       "  I:PA(:WI, :fof)    Q: 0.5911234442188722\n",
       "  I:PA(:WI, :brd)    Q: 0.018044479607149364\n",
       "  I:PA(:WI, :sle)    Q: 0.012057777475012353\n",
       "  I:PA(:WI, :uti)    Q: 0.40415630331009245\n",
       "  I:PA(:WI, :com)    Q: 0.01509166455559468\n",
       "  I:PA(:WI, :wpd)    Q: 0.5505653214682132\n",
       "  I:PA(:WI, :wht)    Q: 0.09399927292984951\n",
       "  I:PA(:WI, :fmt)    Q: 0.448132568706792\n",
       "  I:PA(:WI, :bnk)    Q: 0.018851670199545964\n",
       "  I:PA(:WI, :leg)    Q: 0.07362975133558188\n",
       "  I:PA(:WI, :eec)    Q: 0.03483110251541736\n",
       "  I:PA(:WI, :pet)    Q: 0.13427276007185807\n",
       "  I:PA(:WI, :mot)    Q: 0.10851432847186322\n",
       "  I:PA(:WI, :sec)    Q: 0.0017555038267059338\n",
       "  I:PA(:WI, :pla)    Q: 0.27471956174453205\n",
       "  I:PA(:WI, :rnt)    Q: 0.056288117624883255\n",
       "  I:PA(:WI, :che)    Q: 1.146393220305966\n",
       "  I:PA(:WI, :mmf)    Q: 7.915920421326146e-5\n",
       "  I:PA(:WI, :con)    Q: 0.0511938322796183\n",
       "  I:PA(:WI, :adm)    Q: 0.12386518257322535\n",
       "  I:PA(:WI, :nmp)    Q: 0.04072590410146463\n",
       "  I:PA(:WI, :man)    Q: 0.2437294358685733\n",
       "  I:PA(:WI, :amd)    Q: 0.008292992095999008\n",
       "  I:PA(:WI, :pub)    Q: 0.00031527946258625653\n",
       "  I:PA(:WI, :wst)    Q: 0.023771444027474407\n",
       "  I:PA(:WI, :grd)    Q: 0.0034440706368305753\n",
       "  I:PA(:WI, :art)    Q: 0.0021901641956014236\n",
       "  I:PA(:WI, :rec)    Q: 0.0003917161640911588\n",
       "  I:PA(:WI, :dat)    Q: 0.04686228110781633\n",
       "  I:PA(:WI, :mch)    Q: 0.06675441157509628\n",
       "  I:PA(:WI, :res)    Q: 0.012455170301293634\n",
       "  I:PA(:WI, :cep)    Q: 0.07391860131796733\n",
       "  I:PA(:WI, :ore)    Q: 0.062469234724341696\n",
       "  I:PA(:WI, :tsv)    Q: 0.2703313807887951\n",
       "  I:PA(:WI, :ppd)    Q: 3.36079410393823\n",
       "  I:PA(:WI, :ins)    Q: 0.017965477867220747\n",
       "  I:PA(:WI, :tex)    Q: 0.3077865000903551\n",
       "  I:PA(:WI, :otr)    Q: 0.03299894328021746\n",
       "  I:PA(:WI, :trk)    Q: 0.012967641190247976\n",
       "  I:PA(:WI, :pmt)    Q: 0.055293918731800194\n"
      ]
     },
     "metadata": {},
     "output_type": "display_data"
    }
   ],
   "source": [
    "production(Y[:WI,:ppd])"
   ]
  },
  {
   "cell_type": "markdown",
   "metadata": {},
   "source": [
    "# Testing "
   ]
  },
  {
   "cell_type": "code",
   "execution_count": null,
   "metadata": {},
   "outputs": [],
   "source": [
    "extract_constraint(jm,constraint_name,ind) = constraint_object(jm[constraint_name][ind]).func[1]"
   ]
  },
  {
   "cell_type": "code",
   "execution_count": null,
   "metadata": {},
   "outputs": [],
   "source": [
    "df |>\n",
    "    x -> subset(x,\n",
    "        :variable => ByRow(==(\"A[WI,ppd]\"))\n",
    "    )"
   ]
  },
  {
   "cell_type": "code",
   "execution_count": null,
   "metadata": {},
   "outputs": [],
   "source": [
    "P = production(A[:WI,:ppd])"
   ]
  },
  {
   "cell_type": "code",
   "execution_count": null,
   "metadata": {},
   "outputs": [],
   "source": [
    "extract_constraint(jm,:zero_profit,A[:WI,:ppd])"
   ]
  },
  {
   "cell_type": "code",
   "execution_count": null,
   "metadata": {},
   "outputs": [],
   "source": [
    "tmp = collect(keys(P.nested_compensated_demand))[end][1]"
   ]
  },
  {
   "cell_type": "code",
   "execution_count": null,
   "metadata": {},
   "outputs": [],
   "source": [
    "MPSGE_MP.quantity(tmp)"
   ]
  },
  {
   "cell_type": "code",
   "execution_count": null,
   "metadata": {},
   "outputs": [],
   "source": [
    "compensated_demand(A[:WI,:ppd],PFX)"
   ]
  },
  {
   "cell_type": "code",
   "execution_count": null,
   "metadata": {},
   "outputs": [],
   "source": [
    "P"
   ]
  },
  {
   "cell_type": "code",
   "execution_count": null,
   "metadata": {},
   "outputs": [],
   "source": [
    "rx0[yr,:WI,:ppd]"
   ]
  },
  {
   "cell_type": "code",
   "execution_count": null,
   "metadata": {},
   "outputs": [],
   "source": [
    "print(tau(A[:WI,:ppd],RA[:WI]))"
   ]
  },
  {
   "cell_type": "code",
   "execution_count": null,
   "metadata": {},
   "outputs": [],
   "source": []
  },
  {
   "cell_type": "code",
   "execution_count": null,
   "metadata": {},
   "outputs": [],
   "source": []
  },
  {
   "cell_type": "markdown",
   "metadata": {},
   "source": [
    "# Fix to GAMS solutions and resolve\n",
    "\n",
    "Commented out for run all purposes"
   ]
  },
  {
   "cell_type": "code",
   "execution_count": null,
   "metadata": {},
   "outputs": [],
   "source": [
    "for row in eachrow(df)\n",
    "    fix(row[:var], row[:gams_value], force=true)\n",
    "end"
   ]
  },
  {
   "cell_type": "code",
   "execution_count": null,
   "metadata": {},
   "outputs": [],
   "source": [
    "solve!(state; :cumulative_iteration_limit => 0)"
   ]
  },
  {
   "cell_type": "code",
   "execution_count": null,
   "metadata": {},
   "outputs": [],
   "source": [
    "df_ = generate_report(state) |>\n",
    "    x -> transform(x,\n",
    "        :margin => ByRow(abs) => :abs_margin\n",
    "    ) |>\n",
    "    x -> sort(x, :abs_margin, rev=true)"
   ]
  },
  {
   "cell_type": "code",
   "execution_count": null,
   "metadata": {},
   "outputs": [],
   "source": [
    "df_ |>\n",
    "    x -> subset(x,\n",
    "        :abs_margin => ByRow(>(1e-3))\n",
    "    )|>\n",
    "    x -> transform(x,\n",
    "        :var => ByRow(JuMP.name) => :variable\n",
    "    ) |>\n",
    "    x -> transform(x,\n",
    "        :variable => (y -> replace.(y, r\"^(\\w*)\\[.*\" => s\"\\1\")) => :base_name\n",
    "    )"
   ]
  },
  {
   "cell_type": "code",
   "execution_count": null,
   "metadata": {},
   "outputs": [],
   "source": [
    "sectors(PD[:FL,:hou])"
   ]
  },
  {
   "cell_type": "code",
   "execution_count": null,
   "metadata": {},
   "outputs": [],
   "source": [
    "sec = A[:FL,:hou]\n",
    "com = PD[:FL,:hou]\n",
    "\n",
    "production(sec)"
   ]
  },
  {
   "cell_type": "code",
   "execution_count": null,
   "metadata": {},
   "outputs": [],
   "source": [
    "compensated_demand(sec,com)"
   ]
  },
  {
   "cell_type": "code",
   "execution_count": null,
   "metadata": {},
   "outputs": [],
   "source": [
    "eqn = extract_constraint(jm, :market_clearance, com)\n",
    "\n",
    "print(eqn)"
   ]
  },
  {
   "cell_type": "code",
   "execution_count": null,
   "metadata": {},
   "outputs": [],
   "source": [
    "value(eqn)"
   ]
  },
  {
   "cell_type": "code",
   "execution_count": null,
   "metadata": {},
   "outputs": [],
   "source": [
    "value(extract_constraint(jm,:zero_profit, sec))"
   ]
  },
  {
   "cell_type": "code",
   "execution_count": null,
   "metadata": {},
   "outputs": [],
   "source": [
    "value(extract_constraint(jm,:zero_profit, A[:FL,:hou]))"
   ]
  },
  {
   "cell_type": "code",
   "execution_count": null,
   "metadata": {},
   "outputs": [],
   "source": [
    "nd0[yr,:FL,:hou]/(nd0[yr,:FL,:hou] + dd0[yr,:FL,:hou])"
   ]
  },
  {
   "cell_type": "code",
   "execution_count": null,
   "metadata": {},
   "outputs": [],
   "source": [
    "value(A[:FL,:hou])"
   ]
  },
  {
   "cell_type": "code",
   "execution_count": null,
   "metadata": {},
   "outputs": [],
   "source": [
    "value(compensated_demand(A[:FL,:hou],PD[:FL,:hou]))"
   ]
  },
  {
   "cell_type": "code",
   "execution_count": null,
   "metadata": {},
   "outputs": [],
   "source": [
    "value(compensated_demand(X[:FL,:hou],PD[:FL,:hou]))"
   ]
  },
  {
   "cell_type": "code",
   "execution_count": null,
   "metadata": {},
   "outputs": [],
   "source": [
    "xn0[yr,:FL,:hou]"
   ]
  },
  {
   "cell_type": "code",
   "execution_count": null,
   "metadata": {},
   "outputs": [],
   "source": [
    "value(X[:FL,:hou])"
   ]
  },
  {
   "cell_type": "code",
   "execution_count": null,
   "metadata": {},
   "outputs": [],
   "source": [
    "value(compensated_demand(X[:FL,:hou], PD[:FL,:hou]))*value(X[:FL,:hou])/value(A[:FL,:hou])"
   ]
  },
  {
   "cell_type": "code",
   "execution_count": null,
   "metadata": {},
   "outputs": [],
   "source": [
    "value(compensated_demand(A[:FL,:hou], PD[:FL,:hou])) -80.99087736139923"
   ]
  },
  {
   "cell_type": "code",
   "execution_count": null,
   "metadata": {},
   "outputs": [],
   "source": [
    "compensated_demand(A[:FL,:hou], PD[:FL,:hou])"
   ]
  },
  {
   "cell_type": "code",
   "execution_count": null,
   "metadata": {},
   "outputs": [],
   "source": [
    "m0[yr,:FL,:hou]"
   ]
  },
  {
   "cell_type": "code",
   "execution_count": null,
   "metadata": {},
   "outputs": [],
   "source": [
    "diff = 0.017839384010329695\n",
    "\n",
    "1/(value(PD[:FL,:hou]) * sqrt(diff/dd0[yr,:FL,:hou]))"
   ]
  },
  {
   "cell_type": "code",
   "execution_count": null,
   "metadata": {},
   "outputs": [],
   "source": []
  }
 ],
 "metadata": {
  "kernelspec": {
   "display_name": "Julia 1.9.2",
   "language": "julia",
   "name": "julia-1.9"
  },
  "language_info": {
   "file_extension": ".jl",
   "mimetype": "application/julia",
   "name": "julia",
   "version": "1.9.2"
  }
 },
 "nbformat": 4,
 "nbformat_minor": 2
}
